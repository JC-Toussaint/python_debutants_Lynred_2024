{
 "cells": [
  {
   "cell_type": "markdown",
   "metadata": {},
   "source": [
    "<center> <font size=6>Data manipulation</font></center>\n",
    "\n",
    "# 1. Introduction à `pandas`\n",
    "## 1.1 `Series` et `DataFrame`\n",
    "\n",
    "`pandas` est un paquet qui traite des données, à la frontière entre `numpy` et les bases de données. Voici une courte introduction à l'utilisation de ce package très utilisé.\n",
    "Deux objets principaux sont proposés pour stocker les données en mémoire dans `pandas` : `Series` et `DataFrame`.\n",
    "- La série traite des données à une colonne.\n",
    "- Les `DataFrame` traitent des données sur plusieurs colonnes. Nous nous concentrerons sur les `DataFrame`s dans la suite de ce projet\n",
    "L'objet `DataFrame` est composé de trois parties principales :\n",
    "les données, qui peuvent être de types numériques, date ou chaînes de caractères. Les données sont organisées en colonnes, qui ont le même type. Cependant, les différentes colonnes peuvent avoir des types différents.\n",
    "- un index de ligne, qui peut être utilisé pour accéder aux lignes par nom. Par défaut, l'indice est constitué d'entiers consécutifs à partir de `0`.\n",
    "- les noms de colonnes, qui permettent d'accéder aux colonnes par noms.\n",
    "\n",
    "Voici comment créer un `DataFrame` : Le constructeur de `DataFrame` attend au moins un dictionnaire contenant les noms des colonnes comme clés et les valeurs de type `list` ou 1D `numpy.ndarray`. Vous pouvez aussi spécifier le paramètre `index`, qui est également une colonne de données. Par défaut, l'index est créé sous forme d'entiers consécutifs.\n",
    "\n",
    "Les méthodes `head()`et `tail()` renvoient les premières / dernières lignes du `DataFrame` avec les noms des colonnes, ce qui est très utile pour le débogage.\n",
    "\n",
    "Utilisez l'exemple ci-dessous pour tester la création d'une `DataFrame` en ajoutant ou supprimant des colonnes, en supprimant le paramètre `index`, ...."
   ]
  },
  {
   "cell_type": "code",
   "execution_count": 1,
   "metadata": {},
   "outputs": [
    {
     "name": "stdout",
     "output_type": "stream",
     "text": [
      "     Intensity   Voltage  error_I  error_V\n",
      "0.0  10.111801 -0.002517      0.6      0.1\n",
      "0.2  10.036420  0.208088      0.6      0.1\n",
      "0.4   9.241049  0.370873      0.6      0.1\n",
      "0.6   8.091280  0.515395      0.6      0.1\n",
      "0.8   6.730097  0.766437      0.6      0.1\n"
     ]
    }
   ],
   "source": [
    "import pandas as pd\n",
    "from pandas import DataFrame as df\n",
    "import numpy as np\n",
    "\n",
    "t_min, t_max, N = 0, 10, 51\n",
    "t = np.linspace(t_min, t_max, N)\n",
    "\n",
    "V = np.sin(t) + 0.1*np.random.rand(N) - 0.05\n",
    "I = 10*np.cos(t) + 0.6*np.random.rand(N) - 0.3\n",
    "error1 = np.zeros(N)+0.1\n",
    "error2 = np.zeros(N)+0.6\n",
    "\n",
    "data = df({\"Voltage\" : V, \"Intensity\" : I, \"error_V\" : error1, \"error_I\" : error2}, index=t)\n",
    "print(data.head())"
   ]
  },
  {
   "cell_type": "markdown",
   "metadata": {},
   "source": [
    "La méthode `describe()` permet d'obtenir des informations statistiques sur l'ensemble de la `DataFrame`:"
   ]
  },
  {
   "cell_type": "code",
   "execution_count": 2,
   "metadata": {},
   "outputs": [
    {
     "data": {
      "text/html": [
       "<div>\n",
       "<style scoped>\n",
       "    .dataframe tbody tr th:only-of-type {\n",
       "        vertical-align: middle;\n",
       "    }\n",
       "\n",
       "    .dataframe tbody tr th {\n",
       "        vertical-align: top;\n",
       "    }\n",
       "\n",
       "    .dataframe thead th {\n",
       "        text-align: right;\n",
       "    }\n",
       "</style>\n",
       "<table border=\"1\" class=\"dataframe\">\n",
       "  <thead>\n",
       "    <tr style=\"text-align: right;\">\n",
       "      <th></th>\n",
       "      <th>Intensity</th>\n",
       "      <th>Voltage</th>\n",
       "      <th>error_I</th>\n",
       "      <th>error_V</th>\n",
       "    </tr>\n",
       "  </thead>\n",
       "  <tbody>\n",
       "    <tr>\n",
       "      <th>count</th>\n",
       "      <td>51.000000</td>\n",
       "      <td>51.000000</td>\n",
       "      <td>5.100000e+01</td>\n",
       "      <td>5.100000e+01</td>\n",
       "    </tr>\n",
       "    <tr>\n",
       "      <th>mean</th>\n",
       "      <td>-0.487544</td>\n",
       "      <td>0.176952</td>\n",
       "      <td>6.000000e-01</td>\n",
       "      <td>1.000000e-01</td>\n",
       "    </tr>\n",
       "    <tr>\n",
       "      <th>std</th>\n",
       "      <td>7.302658</td>\n",
       "      <td>0.673570</td>\n",
       "      <td>5.606351e-16</td>\n",
       "      <td>4.204764e-17</td>\n",
       "    </tr>\n",
       "    <tr>\n",
       "      <th>min</th>\n",
       "      <td>-10.145064</td>\n",
       "      <td>-1.040630</td>\n",
       "      <td>6.000000e-01</td>\n",
       "      <td>1.000000e-01</td>\n",
       "    </tr>\n",
       "    <tr>\n",
       "      <th>25%</th>\n",
       "      <td>-7.891813</td>\n",
       "      <td>-0.418319</td>\n",
       "      <td>6.000000e-01</td>\n",
       "      <td>1.000000e-01</td>\n",
       "    </tr>\n",
       "    <tr>\n",
       "      <th>50%</th>\n",
       "      <td>-1.051037</td>\n",
       "      <td>0.306895</td>\n",
       "      <td>6.000000e-01</td>\n",
       "      <td>1.000000e-01</td>\n",
       "    </tr>\n",
       "    <tr>\n",
       "      <th>75%</th>\n",
       "      <td>6.609282</td>\n",
       "      <td>0.822096</td>\n",
       "      <td>6.000000e-01</td>\n",
       "      <td>1.000000e-01</td>\n",
       "    </tr>\n",
       "    <tr>\n",
       "      <th>max</th>\n",
       "      <td>10.111801</td>\n",
       "      <td>1.027872</td>\n",
       "      <td>6.000000e-01</td>\n",
       "      <td>1.000000e-01</td>\n",
       "    </tr>\n",
       "  </tbody>\n",
       "</table>\n",
       "</div>"
      ],
      "text/plain": [
       "       Intensity    Voltage       error_I       error_V\n",
       "count  51.000000  51.000000  5.100000e+01  5.100000e+01\n",
       "mean   -0.487544   0.176952  6.000000e-01  1.000000e-01\n",
       "std     7.302658   0.673570  5.606351e-16  4.204764e-17\n",
       "min   -10.145064  -1.040630  6.000000e-01  1.000000e-01\n",
       "25%    -7.891813  -0.418319  6.000000e-01  1.000000e-01\n",
       "50%    -1.051037   0.306895  6.000000e-01  1.000000e-01\n",
       "75%     6.609282   0.822096  6.000000e-01  1.000000e-01\n",
       "max    10.111801   1.027872  6.000000e-01  1.000000e-01"
      ]
     },
     "execution_count": 2,
     "metadata": {},
     "output_type": "execute_result"
    }
   ],
   "source": [
    "data.describe()"
   ]
  },
  {
   "cell_type": "markdown",
   "metadata": {},
   "source": [
    "Pour sauvegarder les données du `Dataframe` dans un fichier, il suffit d'utiliser la méthode correspondante :\n",
    "- `to_csv()` pour sauvegarder avec un format de variable séparée par des virgules.\n",
    "- `to_excel()` pour sauvegarder sous forme de feuille de calcul Microsoft Excel.\n",
    "- `to_hdf()` pour le format HDF5.\n",
    "\n",
    "De nombreux autres formats sont disponibles tels que HTML, JSON, SQL, ....\n",
    "\n",
    "Pour lire les données d'un fichier, un appel à `read_XXX()` créera un objet `DataFrame` (XXX correspond à csv, excel, ....). Assurez-vous de spécifier le paramètre `index_col` avec l'entier de la colonne contenant l'index ou `pandas` créera une colonne d'index supplémentaire."
   ]
  },
  {
   "cell_type": "code",
   "execution_count": 3,
   "metadata": {},
   "outputs": [
    {
     "name": "stdout",
     "output_type": "stream",
     "text": [
      "      Intensity   Voltage  error_I  error_V\n",
      "0.0   10.111801 -0.002517      0.6      0.1\n",
      "0.2   10.036420  0.208088      0.6      0.1\n",
      "0.4    9.241049  0.370873      0.6      0.1\n",
      "0.6    8.091280  0.515395      0.6      0.1\n",
      "0.8    6.730097  0.766437      0.6      0.1\n",
      "1.0    5.467036  0.840616      0.6      0.1\n",
      "1.2    3.794372  0.933990      0.6      0.1\n",
      "1.4    1.488477  0.945984      0.6      0.1\n",
      "1.6   -0.524542  0.999762      0.6      0.1\n",
      "1.8   -2.560478  0.967565      0.6      0.1\n",
      "2.0   -4.031892  0.932269      0.6      0.1\n",
      "2.2   -5.622244  0.840219      0.6      0.1\n",
      "2.4   -7.189385  0.643044      0.6      0.1\n",
      "2.6   -8.372353  0.512764      0.6      0.1\n",
      "2.8   -9.370333  0.306895      0.6      0.1\n",
      "3.0   -9.980127  0.184389      0.6      0.1\n",
      "3.2   -9.847696 -0.072056      0.6      0.1\n",
      "3.4   -9.861911 -0.274129      0.6      0.1\n",
      "3.6   -8.862539 -0.483710      0.6      0.1\n",
      "3.8   -7.779370 -0.562162      0.6      0.1\n",
      "4.0   -6.265039 -0.765931      0.6      0.1\n",
      "4.2   -4.696490 -0.881213      0.6      0.1\n",
      "4.4   -2.850568 -0.943238      0.6      0.1\n",
      "4.6   -1.051037 -1.040630      0.6      0.1\n",
      "4.8    0.607032 -1.003489      0.6      0.1\n",
      "5.0    2.981773 -0.959720      0.6      0.1\n",
      "5.2    4.572490 -0.871883      0.6      0.1\n",
      "5.4    6.488467 -0.808252      0.6      0.1\n",
      "5.6    8.028627 -0.598548      0.6      0.1\n",
      "5.8    8.918780 -0.448629      0.6      0.1\n",
      "6.0    9.709621 -0.241570      0.6      0.1\n",
      "6.2    9.716491 -0.050133      0.6      0.1\n",
      "6.4    9.697756  0.097527      0.6      0.1\n",
      "6.6    9.311577  0.320775      0.6      0.1\n",
      "6.8    8.782706  0.471232      0.6      0.1\n",
      "7.0    7.744159  0.706875      0.6      0.1\n",
      "7.2    6.244769  0.803973      0.6      0.1\n",
      "7.4    4.530631  0.888385      0.6      0.1\n",
      "7.6    2.315905  0.961381      0.6      0.1\n",
      "7.8    0.325509  0.979175      0.6      0.1\n",
      "8.0   -1.562689  1.027872      0.6      0.1\n",
      "8.2   -3.242221  0.968960      0.6      0.1\n",
      "8.4   -5.072020  0.864311      0.6      0.1\n",
      "8.6   -7.074995  0.759443      0.6      0.1\n",
      "8.8   -8.004255  0.564756      0.6      0.1\n",
      "9.0   -9.129453  0.453877      0.6      0.1\n",
      "9.2   -9.609261  0.269532      0.6      0.1\n",
      "9.4   -9.745857  0.004657      0.6      0.1\n",
      "9.6  -10.145064 -0.155748      0.6      0.1\n",
      "9.8   -9.170757 -0.388010      0.6      0.1\n",
      "10.0  -8.178977 -0.534893      0.6      0.1\n"
     ]
    }
   ],
   "source": [
    "# écriture d'un fichier au format csv\n",
    "data.to_csv(\"elec.csv\")\n",
    "\n",
    "# lecture d'un fichier\n",
    "csv_data = pd.read_csv(\"elec.csv\", index_col=0)\n",
    "print(csv_data)"
   ]
  },
  {
   "cell_type": "markdown",
   "metadata": {},
   "source": [
    "## 1.2 Extraire des données d'une `Dataframe`\n",
    "\n",
    "Pandas est une excellente bibliothèque pour l'indexation et la manipulation des données (agrégation, tableaux croisés, filtrage, ...).\n",
    "\n",
    "Dans cet exemple, nous lisons un fichier csv depuis une url. Ce fichier contient des informations sur les prix Nobel. Quelques méthodes pour rechercher des informations spécifiques dans le `DataFrame` sont données. Des informations plus complètes peuvent être trouvées sur le site de la documentation officielle de `pandas` : http://pandas.pydata.org/pandas-docs/stable/indexing.html"
   ]
  },
  {
   "cell_type": "code",
   "execution_count": 4,
   "metadata": {},
   "outputs": [
    {
     "data": {
      "text/html": [
       "<div>\n",
       "<style scoped>\n",
       "    .dataframe tbody tr th:only-of-type {\n",
       "        vertical-align: middle;\n",
       "    }\n",
       "\n",
       "    .dataframe tbody tr th {\n",
       "        vertical-align: top;\n",
       "    }\n",
       "\n",
       "    .dataframe thead th {\n",
       "        text-align: right;\n",
       "    }\n",
       "</style>\n",
       "<table border=\"1\" class=\"dataframe\">\n",
       "  <thead>\n",
       "    <tr style=\"text-align: right;\">\n",
       "      <th></th>\n",
       "      <th>id</th>\n",
       "      <th>firstname</th>\n",
       "      <th>surname</th>\n",
       "      <th>born</th>\n",
       "      <th>died</th>\n",
       "      <th>BornCountry</th>\n",
       "      <th>bornCountryCode</th>\n",
       "      <th>BornCity</th>\n",
       "      <th>diedCountry</th>\n",
       "      <th>diedCountryCode</th>\n",
       "      <th>diedCity</th>\n",
       "      <th>gender</th>\n",
       "      <th>year</th>\n",
       "      <th>category</th>\n",
       "      <th>share</th>\n",
       "      <th>motivation</th>\n",
       "      <th>institution</th>\n",
       "      <th>city</th>\n",
       "      <th>country</th>\n",
       "    </tr>\n",
       "  </thead>\n",
       "  <tbody>\n",
       "    <tr>\n",
       "      <th>586</th>\n",
       "      <td>931</td>\n",
       "      <td>Jean-Pierre</td>\n",
       "      <td>Sauvage</td>\n",
       "      <td>10/21/1944</td>\n",
       "      <td>0000-00-00</td>\n",
       "      <td>France</td>\n",
       "      <td>FR</td>\n",
       "      <td>Paris</td>\n",
       "      <td>NaN</td>\n",
       "      <td>NaN</td>\n",
       "      <td>NaN</td>\n",
       "      <td>male</td>\n",
       "      <td>2016</td>\n",
       "      <td>chemistry</td>\n",
       "      <td>3</td>\n",
       "      <td>\"for the design and synthesis of molecular mac...</td>\n",
       "      <td>University of Strasbourg</td>\n",
       "      <td>Strasbourg</td>\n",
       "      <td>France</td>\n",
       "    </tr>\n",
       "    <tr>\n",
       "      <th>587</th>\n",
       "      <td>932</td>\n",
       "      <td>Sir J. Fraser</td>\n",
       "      <td>Stoddart</td>\n",
       "      <td>5/24/1942</td>\n",
       "      <td>0000-00-00</td>\n",
       "      <td>United Kingdom</td>\n",
       "      <td>GB</td>\n",
       "      <td>Edinburgh</td>\n",
       "      <td>NaN</td>\n",
       "      <td>NaN</td>\n",
       "      <td>NaN</td>\n",
       "      <td>male</td>\n",
       "      <td>2016</td>\n",
       "      <td>chemistry</td>\n",
       "      <td>3</td>\n",
       "      <td>\"for the design and synthesis of molecular mac...</td>\n",
       "      <td>Northwestern University</td>\n",
       "      <td>Evanston, IL</td>\n",
       "      <td>USA</td>\n",
       "    </tr>\n",
       "    <tr>\n",
       "      <th>588</th>\n",
       "      <td>933</td>\n",
       "      <td>Bernard L.</td>\n",
       "      <td>Feringa</td>\n",
       "      <td>5/18/1951</td>\n",
       "      <td>0000-00-00</td>\n",
       "      <td>the Netherlands</td>\n",
       "      <td>NL</td>\n",
       "      <td>Barger-Compascuum</td>\n",
       "      <td>NaN</td>\n",
       "      <td>NaN</td>\n",
       "      <td>NaN</td>\n",
       "      <td>male</td>\n",
       "      <td>2016</td>\n",
       "      <td>chemistry</td>\n",
       "      <td>3</td>\n",
       "      <td>\"for the design and synthesis of molecular mac...</td>\n",
       "      <td>University of Groningen</td>\n",
       "      <td>Groningen</td>\n",
       "      <td>the Netherlands</td>\n",
       "    </tr>\n",
       "  </tbody>\n",
       "</table>\n",
       "</div>"
      ],
      "text/plain": [
       "      id      firstname   surname        born        died      BornCountry  \\\n",
       "586  931    Jean-Pierre   Sauvage  10/21/1944  0000-00-00           France   \n",
       "587  932  Sir J. Fraser  Stoddart   5/24/1942  0000-00-00   United Kingdom   \n",
       "588  933     Bernard L.   Feringa   5/18/1951  0000-00-00  the Netherlands   \n",
       "\n",
       "    bornCountryCode           BornCity diedCountry diedCountryCode diedCity  \\\n",
       "586              FR              Paris         NaN             NaN      NaN   \n",
       "587              GB          Edinburgh         NaN             NaN      NaN   \n",
       "588              NL  Barger-Compascuum         NaN             NaN      NaN   \n",
       "\n",
       "    gender  year   category  share  \\\n",
       "586   male  2016  chemistry      3   \n",
       "587   male  2016  chemistry      3   \n",
       "588   male  2016  chemistry      3   \n",
       "\n",
       "                                            motivation  \\\n",
       "586  \"for the design and synthesis of molecular mac...   \n",
       "587  \"for the design and synthesis of molecular mac...   \n",
       "588  \"for the design and synthesis of molecular mac...   \n",
       "\n",
       "                  institution          city          country  \n",
       "586  University of Strasbourg    Strasbourg           France  \n",
       "587   Northwestern University  Evanston, IL              USA  \n",
       "588   University of Groningen     Groningen  the Netherlands  "
      ]
     },
     "execution_count": 4,
     "metadata": {},
     "output_type": "execute_result"
    }
   ],
   "source": [
    "import io\n",
    "import requests\n",
    "url = \"https://authors.library.caltech.edu/74170/2/nobel_prize.csv\"\n",
    "df_nobel = pd.read_csv(url)\n",
    "df_nobel.tail(3)"
   ]
  },
  {
   "cell_type": "markdown",
   "metadata": {},
   "source": [
    "Pour extraire une colonne donnée (Par exemple les noms des Nobels), on peut utiliser l'opérateur []. On peut aussi utiliser le nom de colonne comme attribut, ce qui permet de bénéficier de la complétion automatique !\n",
    "\n",
    "Il est également possible d'extraire un ensemble de colonnes spécifique en utilisant une `list` comme paramètre.\n",
    "\n",
    "L'index est géré différemment des autres colonnes. Pour accéder à la colonne correspondante, il faut utiliser la propriété `index.values`, qui retourne une `list`"
   ]
  },
  {
   "cell_type": "code",
   "execution_count": 5,
   "metadata": {},
   "outputs": [
    {
     "name": "stdout",
     "output_type": "stream",
     "text": [
      "0                    Röntgen\n",
      "1                    Lorentz\n",
      "2                     Zeeman\n",
      "3                  Becquerel\n",
      "4                      Curie\n",
      "5      Curie, née Sklodowska\n",
      "6      Curie, née Sklodowska\n",
      "7                     Strutt\n",
      "8                 von Lenard\n",
      "9                    Thomson\n",
      "10                 Michelson\n",
      "11                  Lippmann\n",
      "12                   Marconi\n",
      "13                     Braun\n",
      "14             van der Waals\n",
      "15                      Wien\n",
      "16                     Dalén\n",
      "17          Kamerlingh Onnes\n",
      "18                  von Laue\n",
      "19                     Bragg\n",
      "20                     Bragg\n",
      "21                    Barkla\n",
      "22                    Planck\n",
      "23                     Stark\n",
      "24                 Guillaume\n",
      "25                  Einstein\n",
      "26                      Bohr\n",
      "27                  Millikan\n",
      "28                  Siegbahn\n",
      "29                    Franck\n",
      "               ...          \n",
      "559                   Südhof\n",
      "560                  Englert\n",
      "561                    Higgs\n",
      "562                  Karplus\n",
      "563                   Levitt\n",
      "564                  Warshel\n",
      "565                  O'Keefe\n",
      "566                    Moser\n",
      "567                    Moser\n",
      "568                  Akasaki\n",
      "569                    Amano\n",
      "570                 Nakamura\n",
      "571                   Betzig\n",
      "572                     Hell\n",
      "573                  Moerner\n",
      "574                 Campbell\n",
      "575                    Ōmura\n",
      "576                       Tu\n",
      "577                   Kajita\n",
      "578                 McDonald\n",
      "579                  Lindahl\n",
      "580                  Modrich\n",
      "581                   Sancar\n",
      "582                   Ohsumi\n",
      "583                 Thouless\n",
      "584                  Haldane\n",
      "585               Kosterlitz\n",
      "586                  Sauvage\n",
      "587                 Stoddart\n",
      "588                  Feringa\n",
      "Name: surname, Length: 589, dtype: object\n",
      "--------------\n",
      "                        firstname                surname\n",
      "0                  Wilhelm Conrad                Röntgen\n",
      "1                  Hendrik Antoon                Lorentz\n",
      "2                          Pieter                 Zeeman\n",
      "3                   Antoine Henri              Becquerel\n",
      "4                          Pierre                  Curie\n",
      "5                           Marie  Curie, née Sklodowska\n",
      "6                           Marie  Curie, née Sklodowska\n",
      "7    John William (Lord Rayleigh)                 Strutt\n",
      "8            Philipp Eduard Anton             von Lenard\n",
      "9                     Joseph John                Thomson\n",
      "10                 Albert Abraham              Michelson\n",
      "11                        Gabriel               Lippmann\n",
      "12                      Guglielmo                Marconi\n",
      "13                 Karl Ferdinand                  Braun\n",
      "14               Johannes Diderik          van der Waals\n",
      "15                        Wilhelm                   Wien\n",
      "16                    Nils Gustaf                  Dalén\n",
      "17                          Heike       Kamerlingh Onnes\n",
      "18                            Max               von Laue\n",
      "19              Sir William Henry                  Bragg\n",
      "20               William Lawrence                  Bragg\n",
      "21                 Charles Glover                 Barkla\n",
      "22          Max Karl Ernst Ludwig                 Planck\n",
      "23                       Johannes                  Stark\n",
      "24                Charles Edouard              Guillaume\n",
      "25                         Albert               Einstein\n",
      "26             Niels Henrik David                   Bohr\n",
      "27                 Robert Andrews               Millikan\n",
      "28               Karl Manne Georg               Siegbahn\n",
      "29                          James                 Franck\n",
      "..                            ...                    ...\n",
      "559                     Thomas C.                 Südhof\n",
      "560                      François                Englert\n",
      "561                      Peter W.                  Higgs\n",
      "562                        Martin                Karplus\n",
      "563                       Michael                 Levitt\n",
      "564                         Arieh                Warshel\n",
      "565                          John                O'Keefe\n",
      "566                     May-Britt                  Moser\n",
      "567                     Edvard I.                  Moser\n",
      "568                         Isamu                Akasaki\n",
      "569                       Hiroshi                  Amano\n",
      "570                         Shuji               Nakamura\n",
      "571                          Eric                 Betzig\n",
      "572                     Stefan W.                   Hell\n",
      "573                    William E.                Moerner\n",
      "574                    William C.               Campbell\n",
      "575                       Satoshi                  Ōmura\n",
      "576                        Youyou                     Tu\n",
      "577                       Takaaki                 Kajita\n",
      "578                     Arthur B.               McDonald\n",
      "579                         Tomas                Lindahl\n",
      "580                          Paul                Modrich\n",
      "581                          Aziz                 Sancar\n",
      "582                     Yoshinori                 Ohsumi\n",
      "583                      David J.               Thouless\n",
      "584                  F. Duncan M.                Haldane\n",
      "585                    J. Michael             Kosterlitz\n",
      "586                   Jean-Pierre                Sauvage\n",
      "587                 Sir J. Fraser               Stoddart\n",
      "588                    Bernard L.                Feringa\n",
      "\n",
      "[589 rows x 2 columns]\n",
      "--------------\n",
      "[  0   1   2   3   4   5   6   7   8   9  10  11  12  13  14  15  16  17\n",
      "  18  19  20  21  22  23  24  25  26  27  28  29  30  31  32  33  34  35\n",
      "  36  37  38  39  40  41  42  43  44  45  46  47  48  49  50  51  52  53\n",
      "  54  55  56  57  58  59  60  61  62  63  64  65  66  67  68  69  70  71\n",
      "  72  73  74  75  76  77  78  79  80  81  82  83  84  85  86  87  88  89\n",
      "  90  91  92  93  94  95  96  97  98  99 100 101 102 103 104 105 106 107\n",
      " 108 109 110 111 112 113 114 115 116 117 118 119 120 121 122 123 124 125\n",
      " 126 127 128 129 130 131 132 133 134 135 136 137 138 139 140 141 142 143\n",
      " 144 145 146 147 148 149 150 151 152 153 154 155 156 157 158 159 160 161\n",
      " 162 163 164 165 166 167 168 169 170 171 172 173 174 175 176 177 178 179\n",
      " 180 181 182 183 184 185 186 187 188 189 190 191 192 193 194 195 196 197\n",
      " 198 199 200 201 202 203 204 205 206 207 208 209 210 211 212 213 214 215\n",
      " 216 217 218 219 220 221 222 223 224 225 226 227 228 229 230 231 232 233\n",
      " 234 235 236 237 238 239 240 241 242 243 244 245 246 247 248 249 250 251\n",
      " 252 253 254 255 256 257 258 259 260 261 262 263 264 265 266 267 268 269\n",
      " 270 271 272 273 274 275 276 277 278 279 280 281 282 283 284 285 286 287\n",
      " 288 289 290 291 292 293 294 295 296 297 298 299 300 301 302 303 304 305\n",
      " 306 307 308 309 310 311 312 313 314 315 316 317 318 319 320 321 322 323\n",
      " 324 325 326 327 328 329 330 331 332 333 334 335 336 337 338 339 340 341\n",
      " 342 343 344 345 346 347 348 349 350 351 352 353 354 355 356 357 358 359\n",
      " 360 361 362 363 364 365 366 367 368 369 370 371 372 373 374 375 376 377\n",
      " 378 379 380 381 382 383 384 385 386 387 388 389 390 391 392 393 394 395\n",
      " 396 397 398 399 400 401 402 403 404 405 406 407 408 409 410 411 412 413\n",
      " 414 415 416 417 418 419 420 421 422 423 424 425 426 427 428 429 430 431\n",
      " 432 433 434 435 436 437 438 439 440 441 442 443 444 445 446 447 448 449\n",
      " 450 451 452 453 454 455 456 457 458 459 460 461 462 463 464 465 466 467\n",
      " 468 469 470 471 472 473 474 475 476 477 478 479 480 481 482 483 484 485\n",
      " 486 487 488 489 490 491 492 493 494 495 496 497 498 499 500 501 502 503\n",
      " 504 505 506 507 508 509 510 511 512 513 514 515 516 517 518 519 520 521\n",
      " 522 523 524 525 526 527 528 529 530 531 532 533 534 535 536 537 538 539\n",
      " 540 541 542 543 544 545 546 547 548 549 550 551 552 553 554 555 556 557\n",
      " 558 559 560 561 562 563 564 565 566 567 568 569 570 571 572 573 574 575\n",
      " 576 577 578 579 580 581 582 583 584 585 586 587 588]\n"
     ]
    }
   ],
   "source": [
    "# Extraction d'une colonne\n",
    "names = df_nobel[\"surname\"] # crée une pandas.Series\n",
    "names = df_nobel.surname    # méthode alternative\n",
    "print(names)\n",
    "print(\"--------------\")\n",
    "\n",
    "# Exctaction de plusieurs colonnes\n",
    "names = df_nobel[[\"firstname\", \"surname\"]] # crée une pandas.DataFrame\n",
    "print(names)\n",
    "print(\"--------------\")\n",
    "\n",
    "# extraction de l'index\n",
    "print(df_nobel.index.values)"
   ]
  },
  {
   "cell_type": "markdown",
   "metadata": {},
   "source": [
    "Pour extraire une ligne spécifique, ou un intervalle de lignes spécifique, on peut utiliser les fonctions `loc[]` et `iloc[]`. Attention, ces fonctions travaillent avec l'opérateur []. Elles peuvent être utilisées avec un argument de type `list` ou avec une tranche (slice) dont la syntaxe est identique à celle utilisée avec `numpy`.\n",
    "- `loc[]` utilise les noms de ligne (l'index). Notez que si une slice est fournie en argument, le second élément de la tranche est inclus, contrairement au comportement de `numpy`.\n",
    "- `iloc[]` utilise des entiers correspondant aux numéros de ligne concernés"
   ]
  },
  {
   "cell_type": "code",
   "execution_count": 6,
   "metadata": {},
   "outputs": [
    {
     "name": "stdout",
     "output_type": "stream",
     "text": [
      "      id   firstname surname        born        died BornCountry  \\\n",
      "500  781       Irwin    Rose   7/16/1926    6/3/2015         USA   \n",
      "505  793  Theodor W.  Hänsch  10/30/1941  0000-00-00     Germany   \n",
      "\n",
      "    bornCountryCode      BornCity diedCountry diedCountryCode       diedCity  \\\n",
      "500              US  Brooklyn, NY         USA              US  Deerfield, MA   \n",
      "505              DE    Heidelberg         NaN             NaN            NaN   \n",
      "\n",
      "    gender  year   category  share  \\\n",
      "500   male  2004  chemistry      3   \n",
      "505   male  2005    physics      4   \n",
      "\n",
      "                                            motivation  \\\n",
      "500  \"for the discovery of ubiquitin-mediated prote...   \n",
      "505  \"for their contributions to the development of...   \n",
      "\n",
      "                         institution        city  country  \n",
      "500         University of California  Irvine, CA      USA  \n",
      "505  Ludwig-Maximilians- Universität      Munich  Germany  \n"
     ]
    }
   ],
   "source": [
    "# Extraction des lignes 500 et 505 de la liste des prix Nobels\n",
    "extr1 = df_nobel.loc[[500,505]]  # retourne une DataFrame contenant 2 lignes\n",
    "print(extr1)\n",
    "\n",
    "# Extraction des lignes 2 et 3.2 \n",
    "extr2 = data.loc[[2,3.2]]\n",
    "#print(extr2)\n",
    "\n",
    "# Extraction des lignes 2 à 3.2 inclus\n",
    "extr3 = data.loc[2 : 3.2]  \n",
    "#print(extr3)"
   ]
  },
  {
   "cell_type": "markdown",
   "metadata": {},
   "source": [
    "Extraire des lignes contenant un index de type réel peut être difficile (par exemple, dans la cellule ci-dessus, il faut utiliser 2 et non 2.0 comme valeur de l'index). Heureusement, la méthode d'accès aux lignes `iloc[]` permet de s'affranchir de ce problème. En passant par `iloc[]`, on utilise comme argument un entier correspondant au numéro de la ligne.\n",
    "\n",
    "Dans la cellule ci-dessous, utilisez `iloc[]` pour obtenir le même résultat que ce qui avait été fait avec `loc[]` au dessus. Attention, avec `iloc[]`, le second argument de la tranche n'est pas inclus (comme avec la syntaxe `numpy`, mais contrairement à la syntaxe de `loc[]`)."
   ]
  },
  {
   "cell_type": "code",
   "execution_count": 7,
   "metadata": {},
   "outputs": [
    {
     "ename": "SyntaxError",
     "evalue": "invalid syntax (<ipython-input-7-147f4a1cec94>, line 2)",
     "output_type": "error",
     "traceback": [
      "\u001b[0;36m  File \u001b[0;32m\"<ipython-input-7-147f4a1cec94>\"\u001b[0;36m, line \u001b[0;32m2\u001b[0m\n\u001b[0;31m    extr4 = # à remplir\u001b[0m\n\u001b[0m                       ^\u001b[0m\n\u001b[0;31mSyntaxError\u001b[0m\u001b[0;31m:\u001b[0m invalid syntax\n"
     ]
    }
   ],
   "source": [
    "# Extraction des lignes 500 et 505 de la liste des prix Nobels\n",
    "extr4 = # à remplir\n",
    "print(extr4)\n",
    "\n",
    "# Extraction des lignes 2 et 3.2 \n",
    "extr5 = # à remplir\n",
    "#print(extr5)\n",
    "\n",
    "# Extraction des lignes 2 à 3.2 inclus\n",
    "extr6 = # à remplir\n",
    "#print(extr6)"
   ]
  },
  {
   "cell_type": "markdown",
   "metadata": {},
   "source": [
    "Pour finir sur l'extraction d'une partie de la `DataFrame`, notons qu'il est possible d'extraire un sous-ensemble de lignes et de colonnes :\n",
    "- soit en combinant les méthodes montrées précédemment : on utilise `loc[]` ou `iloc[]` pour extraire des lignes, ce qui retourne une `DataFrame` de laquelle on peut extraire les colonnes souhaitées.\n",
    "- soit en utilisant deux arguments dans la fonction `loc[]` ou `iloc[]`. Dans ce cas, le premier argument correspond aux lignes et le second aux colonnes"
   ]
  },
  {
   "cell_type": "code",
   "execution_count": null,
   "metadata": {},
   "outputs": [],
   "source": [
    "# Extraction des lignes 500 et 505 de la liste des prix Nobels\n",
    "extr1 = df_nobel.loc[[500,505]][['firstname', 'surname']]\n",
    "print(extr1)\n",
    "print('--------------')\n",
    "\n",
    "# Extraction des lignes 2 et 3.2 \n",
    "extr2 = data.loc[[2,3.2],['Intensity','Voltage']]\n",
    "print(extr2)\n",
    "print('--------------')\n",
    "\n",
    "# Extraction des lignes 2 à 3.2 inclus\n",
    "extr3 = data.loc[2 : 3.2, ['Intensity','Voltage']]  \n",
    "print(extr3)\n",
    "print('--------------')\n",
    "\n",
    "# Même chose avec iloc\n",
    "extr3 = data.iloc[10:17, 0:2]  \n",
    "print(extr3)"
   ]
  },
  {
   "cell_type": "markdown",
   "metadata": {},
   "source": [
    "Passons à présent à la recherche d'une information spécifique contenue dans une `DataFrame`. Dans ce cas, de nombreuses méthodes équivalentes existent :\n",
    "- utiliser l'opérateur [] avec une condition donnée par '==' ou '<', ... comme dans un `if`\n",
    "- utiliser la méthode `loc[]`\n",
    "- utiliser la méthode `query` (qui requiert une chaine de caractère en argument)\n",
    "- utiliser la méthode `where`, qui retourne une `DataFrame` avec la même taille que l'originale, mais les données y sont remplacées par `np.nan` lorsque la condition n'est pas réalisée."
   ]
  },
  {
   "cell_type": "code",
   "execution_count": null,
   "metadata": {},
   "outputs": [],
   "source": [
    "\n",
    "# Methode 1\n",
    "f1 = df_nobel[df_nobel[\"bornCountryCode\"]=='FR']\n",
    "#print(f1[\"surname\"])\n",
    "\n",
    "# Methode 2\n",
    "f2 = df_nobel.loc[df_nobel['bornCountryCode'] == 'FR']\n",
    "print(f2[\"surname\"])\n",
    "\n",
    "# Methode 3\n",
    "f3 = df_nobel.query('bornCountryCode == \"FR\"')\n",
    "#print(f3[\"surname\"])\n",
    "\n",
    "# Methode 4\n",
    "f4 = df_nobel.where(df_nobel['bornCountryCode']=='FR')\n",
    "#print(f4[\"surname\"])\n",
    "\n"
   ]
  },
  {
   "cell_type": "markdown",
   "metadata": {},
   "source": [
    "Voici un exemple permettant d'extraire une cellule particulière du `pandas.DataFrame`. Nous souhaitons imprimer la motivation de la remise du prix Nobel à Marie Curie.\n",
    "\n",
    "Pour répondre à cette question, nous utilisons la méthode `loc`avec deux critères. Plusieurs critères peuvent être combinés avec'&' (et) ou'|' (ou) lorsqu'ils sont fournis à la fonction `loc`.\n",
    "\n",
    "A faire : analysez l'exemple ci-dessous. Regardez ce à quoi correspondent les variables crit1 et crit2. Essayez d'utiliser '|' au lieu de '&' dans l'appel à `loc` et expliquez le résultat obtenu. Finalement, ajoutez du code permettant d'imprimer la motivation pour laquelle Marie Curie a obtenu son premier prix Nobel."
   ]
  },
  {
   "cell_type": "code",
   "execution_count": null,
   "metadata": {},
   "outputs": [],
   "source": [
    "# Création de critères de recherche = Series ou list de booléens\n",
    "crit1 = df_nobel[\"firstname\"] == \"Marie\"    # comparaison exacte\n",
    "crit2 = [\"Curie\" in x for x in df_nobel[\"surname\"]]   # chaine contenue dans les données\n",
    "\n",
    "#print(criterion2)\n",
    "motiv = df_nobel.loc[crit1 & crit2][[\"surname\",\"year\",\"motivation\"]]\n",
    "print(motiv)"
   ]
  },
  {
   "cell_type": "markdown",
   "metadata": {},
   "source": [
    "Avec les données numériques, on peut filtrer les données selon des critères tels que '>' ou '<'. De plus, il est intéressant de noter que l'extraction de données (avec la méthode `loc` par exemple) crée une nouvelle `DataFrame`, mais peut aussi servir à modifier la `DataFrame` si on l'utilise à gauche de l'expression. Voici quelques illustrations :"
   ]
  },
  {
   "cell_type": "code",
   "execution_count": null,
   "metadata": {},
   "outputs": [],
   "source": [
    "# Recherche des valeurs négatives de la tension => création d'une nouvelle DataFrame\n",
    "data1 = data[data.Voltage<0]\n",
    "print(data1)\n",
    "print('-------------')\n",
    "\n",
    "# Redresser la tension\n",
    "red_v = data.copy()\n",
    "red_v[red_v.Voltage<0] = -red_v\n",
    "print(red_v)\n",
    "print('-------------')\n",
    "\n",
    "# Redresser toute la DataFrame\n",
    "redr = data.copy()\n",
    "redr[redr<0] = -redr\n",
    "print(redr)"
   ]
  },
  {
   "cell_type": "markdown",
   "metadata": {},
   "source": [
    "# 2. Tracer avec `plot.ly` et `matplotlib`\n",
    "A présent que nous savons manipuler les `DataFrames`, nous aimerions pouvoir représenter graphiquement les données présentes dans ces objets. Nous présentons l'utilisation de deux librairies, il en existe d'autres...\n",
    "\n",
    "## 2.1 `matplotlib`\n",
    "Matplotlib est une référence pour tracer des courbes en python. Il s'agit d'une libriaire avec un long historique qui est utilisée par de nombreux ingénieurs et chercheurs pour réaliser des graphiques scientifiques. Cependant, sa syntaxe (qui se veut compatible avec Matlab) est assez complexe et la documentation peut être difficile à utiliser.\n",
    "\n",
    "Les données sous forme de `pandas.DataFrame` peuvent être tracées directement via un appel à la fonction `plot`, comme démontré ci-dessous."
   ]
  },
  {
   "cell_type": "code",
   "execution_count": null,
   "metadata": {},
   "outputs": [],
   "source": [
    "%matplotlib notebook\n",
    "import matplotlib.pyplot as plt\n",
    "plt.figure()    # create a new figure to draw in\n",
    "\n",
    "data[\"Voltage\"].plot(linestyle = '', marker='o')"
   ]
  },
  {
   "cell_type": "markdown",
   "metadata": {},
   "source": [
    "## 2.2 `plot.ly`\n",
    "`plot.ly` est une bibliothèque plus récente qui est plus axée sur l'interaction et produit des graphiques dans les pages Web (la sortie par défaut est au format HTML). Sa syntaxe est plus concise que celle de `matplotlib`, et il est en général plus facile à utiliser. L'inconvénient, c'est qu'il s'agit d'une bibliothèque encore jeune et qu'il manque peut-être encore quelques éléments.\n",
    "\n",
    "Par défaut, `plot.ly` est utilisé en ligne, et les graphiques que vous produisez sont publics. Ici, nous allons configurer `plot.ly` pour que nous puissions travailler hors ligne. Il y a une ligne de code à ajouter pour accéder au mode en ligne, et il faut également  remplacer `plotly.plotly` par `plotly.offline` pour appeler la fonction de rendu `iplot()`. Les importations de modules nécessaires pour le travail de base avec plotly sont données ci-dessous."
   ]
  },
  {
   "cell_type": "code",
   "execution_count": null,
   "metadata": {},
   "outputs": [],
   "source": [
    "import plotly\n",
    "import plotly.offline as py\n",
    "import plotly.graph_objs as go\n",
    "\n",
    "plotly.offline.init_notebook_mode() # run at the start of every ipython notebook in order to start offline mode"
   ]
  },
  {
   "cell_type": "markdown",
   "metadata": {},
   "source": [
    "Voici un court rappel sur le fonctionnment de `plot.ly`. Il faut fournir au moins les points à tracer, qui sont présentés sous forme d'un objet du module `plotly.graph_objs` :\n",
    "- \"Scatter\" peut produire des graphiques avec des points, des lignes ou les deux, en réglant l'argument \"mode\" sur \"markers\", \"lines\" ou \"markers+lines\".\n",
    "- \"Surface\" produit un tracé 3D de z(x,y) comme surface avec une carte de couleurs.\n",
    "- \"Bar\" produit des diagrammes à barres.\n",
    "- \"Pie\" produit des diagrammes circulaires, ....\n",
    "\n",
    "Ces objets ont de nombreux attributs. 'x' et'y' correspondent aux données,'name au nom de la courbe,'error_y' aux propriétés des barres d'erreur y, etc....\n",
    "\n",
    "Utilisez l'exemple ci-dessous pour tracer les données contenues dans les différents `DataFrames` que nous avons créés précédemment"
   ]
  },
  {
   "cell_type": "code",
   "execution_count": null,
   "metadata": {},
   "outputs": [],
   "source": [
    "data2 = [ go.Scatter( x=data.index, y=data[\"Voltage\"], mode=\"markers\")]\n",
    "py.iplot(data2)"
   ]
  },
  {
   "cell_type": "markdown",
   "metadata": {},
   "source": [
    "# 3. Travailler avec de gros fichiers de données\n",
    "\n",
    "Lorsque vous travaillez avec de gros fichiers de données, il peut arriver que le fichier ne puisse pas être ouvert car il est plus volumineux que la mémoire disponible sur la machine. Dans ce cas, une base de données est généralement utilisée. Le principe d'une base de données est d'avoir des données stockées sur un disque dur (localement ou à distance). Les données requises par l'utilisateur sont ensuite extraites de la base de données à l'aide de requêtes. De cette façon, seules de petites parties des données sont chargées dans la mémoire, et non le fichier entier.\n",
    "\n",
    "Il est possible d'utiliser la base de données très efficacement avec python, mais cela nécessite la connaissance du langage SQL pour écrire les requêtes et comprendre comment l'information est stockée dans la base de données. Ici, nous proposons une autre façon de faire la même chose en utilisant une classe de `pandas` : `HDFStore`. Cette classe fonctionne à peu près de la même manière qu'une base de données, mais n'utilise pas la syntaxe QSL. L'objet `HDFStore` est utilisé pour stocker les données d'un ou plusieurs `pandas.DataFrames` sur le disque dur. Il utilise le format'HDF5', qui est très efficace pour stocker de grandes quantités de données dans un espace minimal. Un sous-ensemble de ces données peut être récupéré à l'aide de méthodes d'interrogation. Ces données extraites sont alors disponibles sous forme de `pandas.DataFrames` vivant en mémoire et peuvent être manipulées, tracées, etc... comme d'habitude.\n",
    "\n",
    "Voici tout d'abord l'aide sur l'objet `HDFStore` :"
   ]
  },
  {
   "cell_type": "code",
   "execution_count": null,
   "metadata": {},
   "outputs": [],
   "source": [
    "from pandas import HDFStore\n",
    "help(HDFStore)"
   ]
  },
  {
   "cell_type": "markdown",
   "metadata": {},
   "source": [
    "Pour créer un objet `HDFStore`, il suffit d'utiliser la fonction `HDFStore()` en spécifiant le nom du fichier sur disque et éventuellement le mode d'ouverture.\n",
    "\n",
    "On peut avoir des informations sur la structure du fichier (les `DataFrames` contenues dans le fichier et leur éventuelle arborescence) grâce à la fonction `info()`\n",
    "\n",
    "Pensez à fermer le `HDFStore` après utilisation pour que d'autres processus puissent éventuellement avoir accès au fichier => fonction `close()` "
   ]
  },
  {
   "cell_type": "code",
   "execution_count": null,
   "metadata": {},
   "outputs": [],
   "source": [
    "import pandas as pd\n",
    "from pandas import HDFStore\n",
    "\n",
    "store = pd.HDFStore('store.h5')   # creation du fichier \n",
    "store['df1'] = data               # ajout d'un 1er DataFrame\n",
    "store['redr/df2'] = redr         # ajout d'un 2nd DataFrame\n",
    "store['redr/df3'] = red_v        # ajout d'un 3eme DataFrame \n",
    "\n",
    "print(store.info())    # affichage des informations\n",
    "\n",
    "store.close()  # fermeture du descripteur"
   ]
  },
  {
   "cell_type": "markdown",
   "metadata": {},
   "source": [
    "Le code ci-dessous présente un exemple de création, remplissage puis extraction de données. Nous utilisons un petit fichier de données, qui ne nécessiterait normalement pas l'utilisation d'un `HDFStore`. Pour ce premier exemple, nous lisons l'ensemble des données contenues dans le fichier `HDFStore`. Nous verrons plus tard comment extraire une partie des données seulement."
   ]
  },
  {
   "cell_type": "code",
   "execution_count": null,
   "metadata": {},
   "outputs": [],
   "source": [
    "# Stockage\n",
    "store = pd.HDFStore('store.h5', mode='w')   # creation du fichier (si le fichier existe déjà il est écrasé)\n",
    "store['multimetre'] = data        # ajout d'un DataFrame nommé 'multimetre' au fichier\n",
    "    \n",
    "# Récupération des données\n",
    "a_tracer = store['multimetre']\n",
    "print(store.info())\n",
    "print('--------------')\n",
    "\n",
    "store.close() # fermeture du fichier\n",
    "\n",
    "# Tracé\n",
    "data3 = [ go.Scatter( x=a_tracer.index, y=a_tracer[\"Voltage\"], mode=\"markers\")]\n",
    "py.iplot(data3)"
   ]
  },
  {
   "cell_type": "markdown",
   "metadata": {},
   "source": [
    "Dans l'exemple précédent, nous avons inséré une `DataFrame` dans l'objet `HDFStore` à l'aide de l'opérateur []. Cette opération a pour effet d'écrire les données dans le fichier auquel l'objet `HDFStore` est lié.\n",
    "\n",
    "Il existe une autre méthode pour ajouter des données : `HDFStore.put()`. Cette méthode est plus flexible que l'opérateur [] comme nous allons le montrer après. Essayons dans un premier temps d'ajouter d'autres `DataFrame`s à notre fichier 'store.h5' :"
   ]
  },
  {
   "cell_type": "code",
   "execution_count": null,
   "metadata": {},
   "outputs": [],
   "source": [
    "store = pd.HDFStore('store.h5')   # ouverture du fichier (mode append par défaut)\n",
    "multi = store['multimetre']\n",
    "print(multi.tail())\n",
    "print('-----------')\n",
    "\n",
    "store['redresse'] = redr\n",
    "store.put('red_v', red_v)\n",
    "print(store.info())\n",
    "\n",
    "store.close()"
   ]
  },
  {
   "cell_type": "markdown",
   "metadata": {},
   "source": [
    "A présent, nous désirons extraire des données d'une `DataFrame` stockée dans un fichier `HDFStore`. Pour ce faire, on utilise la méthode `select()`"
   ]
  },
  {
   "cell_type": "code",
   "execution_count": null,
   "metadata": {},
   "outputs": [],
   "source": [
    "store = pd.HDFStore('store.h5')\n",
    "\n",
    "temps = list(range(10))\n",
    "sel = store.select('multimetre', 'index=temps')\n",
    "\n",
    "store.close()"
   ]
  },
  {
   "cell_type": "markdown",
   "metadata": {},
   "source": [
    "Cela ne fonctionne pas car la table est en mode 'Fixed'. Pour résumer, deux types de format peuvent être utiliser pour écrire les tables du fichier HDF :\n",
    "- Format 'fixed' : écriture et lecture rapide. Par contre, on ne peut pas ajouter de données aux `DataFrame`s stockées ni effectuer de recherches.\n",
    "- Format 'table' : Structure de données moins permormante mais plus flexible, qui permet entre autre les opérations de recherche et sélection de sous-ensembles des données.\n",
    "\n",
    "Par défaut, les `DataFrames` sont ajoutées en mode 'fixed'. Pour changer de mode, on peut modifier le comportement général de `pandas` à l'aide de la ligne suivante :\n",
    "\n",
    "pd.set_option('io.hdf.default_format','table')\n",
    "\n",
    "Sinon, l'insertion des `DataFrame`s à l'aide de la fonction `put()` permet de spécifier le type de format au cas par cas. C'est cette seconde méthode que nous allons mettre en oeuvre."
   ]
  },
  {
   "cell_type": "code",
   "execution_count": null,
   "metadata": {},
   "outputs": [],
   "source": [
    "store = pd.HDFStore('store.h5')\n",
    "store.put('multimetre2', data, format='table')\n",
    "\n",
    "temps = list(range(11))\n",
    "sel = store.select('multimetre2', 'index=temps')\n",
    "print(sel.tail())\n",
    "\n",
    "store.close()"
   ]
  },
  {
   "cell_type": "markdown",
   "metadata": {},
   "source": [
    "Pour finir, reprenez les différents points vus précédemment pour créer un fichier de données assez volumineux (quelques centaines de Mo), puis extrayez une partie des données du fichier pour les représenter graphiquement."
   ]
  },
  {
   "cell_type": "code",
   "execution_count": null,
   "metadata": {},
   "outputs": [],
   "source": [
    "# a vous de jouer !"
   ]
  }
 ],
 "metadata": {
  "anaconda-cloud": {},
  "celltoolbar": "Raw Cell Format",
  "kernelspec": {
   "display_name": "Python 3 (ipykernel)",
   "language": "python",
   "name": "python3"
  },
  "language_info": {
   "codemirror_mode": {
    "name": "ipython",
    "version": 3
   },
   "file_extension": ".py",
   "mimetype": "text/x-python",
   "name": "python",
   "nbconvert_exporter": "python",
   "pygments_lexer": "ipython3",
   "version": "3.9.7"
  },
  "varInspector": {
   "cols": {
    "lenName": 16,
    "lenType": 16,
    "lenVar": 40
   },
   "kernels_config": {
    "python": {
     "delete_cmd_postfix": "",
     "delete_cmd_prefix": "del ",
     "library": "var_list.py",
     "varRefreshCmd": "print(var_dic_list())"
    },
    "r": {
     "delete_cmd_postfix": ") ",
     "delete_cmd_prefix": "rm(",
     "library": "var_list.r",
     "varRefreshCmd": "cat(var_dic_list()) "
    }
   },
   "types_to_exclude": [
    "module",
    "function",
    "builtin_function_or_method",
    "instance",
    "_Feature"
   ],
   "window_display": false
  }
 },
 "nbformat": 4,
 "nbformat_minor": 2
}
