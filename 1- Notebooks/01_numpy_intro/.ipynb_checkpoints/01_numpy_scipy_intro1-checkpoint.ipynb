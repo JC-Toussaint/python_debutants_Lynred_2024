{
 "cells": [
  {
   "cell_type": "markdown",
   "metadata": {},
   "source": [
    "# Librairies Python Numpy/Scipy\n",
    "\n",
    "NumPy est une extension du langage de programmation Python, pour\n",
    "manipuler des matrices ou des tableaux multidimensionnels.\n",
    "Elle possède des fonctions mathématiques vectorielles opérant sur les tableaux.\n",
    "\n",
    "NumPy est la base de la librairie SciPy, regroupement de librairies\n",
    "Python pour le calcul scientifique. "
   ]
  },
  {
   "cell_type": "markdown",
   "metadata": {},
   "source": [
    "# Tableau unidimensionnel"
   ]
  },
  {
   "cell_type": "code",
   "execution_count": 1,
   "metadata": {},
   "outputs": [
    {
     "name": "stdout",
     "output_type": "stream",
     "text": [
      "[0 1 2 3 4 5 6 7 8 9]\n"
     ]
    }
   ],
   "source": [
    "import numpy as np\n",
    "a=np.arange(10)\n",
    "print(a)"
   ]
  },
  {
   "cell_type": "markdown",
   "metadata": {},
   "source": [
    "Pour obtenir le type de l'objet et celui des données sous-jacentes"
   ]
  },
  {
   "cell_type": "code",
   "execution_count": 2,
   "metadata": {},
   "outputs": [
    {
     "name": "stdout",
     "output_type": "stream",
     "text": [
      "<class 'numpy.ndarray'>\n",
      "int32\n"
     ]
    }
   ],
   "source": [
    "print(type(a))\n",
    "print(a.dtype)"
   ]
  },
  {
   "cell_type": "markdown",
   "metadata": {},
   "source": [
    "Pour créer un tableau de réels, il faut préciser le type explicitement"
   ]
  },
  {
   "cell_type": "code",
   "execution_count": 3,
   "metadata": {},
   "outputs": [
    {
     "name": "stdout",
     "output_type": "stream",
     "text": [
      "[0. 1. 2. 3. 4. 5. 6. 7. 8. 9.]\n"
     ]
    }
   ],
   "source": [
    "import numpy as np\n",
    "a=np.arange(10, dtype='float')\n",
    "print(a)"
   ]
  },
  {
   "cell_type": "markdown",
   "metadata": {},
   "source": [
    "La donnée membre shape retourne les dimensions du tableau sous la forme d'un tuple"
   ]
  },
  {
   "cell_type": "code",
   "execution_count": 4,
   "metadata": {},
   "outputs": [
    {
     "name": "stdout",
     "output_type": "stream",
     "text": [
      "(10,)\n"
     ]
    }
   ],
   "source": [
    "print(a.shape)"
   ]
  },
  {
   "cell_type": "markdown",
   "metadata": {},
   "source": [
    "Application des opérateurs de calcul arithmétique"
   ]
  },
  {
   "cell_type": "code",
   "execution_count": 5,
   "metadata": {},
   "outputs": [
    {
     "name": "stdout",
     "output_type": "stream",
     "text": [
      "[ 1.  2.  3.  4.  5.  6.  7.  8.  9. 10.]\n",
      "[ 2.  4.  6.  8. 10. 12. 14. 16. 18. 20.]\n",
      "[  1.   4.   9.  16.  25.  36.  49.  64.  81. 100.]\n",
      "[1. 1. 1. 1. 1. 1. 1. 1. 1. 1.]\n"
     ]
    }
   ],
   "source": [
    "a=a+1      # ajout de 1 à tous les elements\n",
    "print(a)\n",
    "print(2*a) \n",
    "print(a*a) # carre de chaque element\n",
    "print(a/a) # division element par element  DANGER"
   ]
  },
  {
   "cell_type": "code",
   "execution_count": 6,
   "metadata": {},
   "outputs": [
    {
     "name": "stdout",
     "output_type": "stream",
     "text": [
      "(9,)\n",
      "9\n",
      "valeurs   :  0   6\n",
      "positions :  0   7\n"
     ]
    }
   ],
   "source": [
    "a=np.array([0, 1, 2, 0, 2, 3, 5, 6, 6])\n",
    "print(a.shape)\n",
    "print(len(a))\n",
    "print('valeurs   : ', a.min(), ' ', a.max())\n",
    "print('positions : ', a.argmin(), ' ', a.argmax())"
   ]
  },
  {
   "cell_type": "markdown",
   "metadata": {},
   "source": [
    "Pour transformer une liste python en numpy.ndarray, on appelle le constructeur ndarray \n",
    "ou la fonction membre asarray"
   ]
  },
  {
   "cell_type": "code",
   "execution_count": 7,
   "metadata": {},
   "outputs": [
    {
     "name": "stdout",
     "output_type": "stream",
     "text": [
      "[0, 1, 2, 3, 4, 5, 6, 7, 8, 9]\n",
      "[0. 1. 2. 3. 4. 5. 6. 7. 8. 9.]\n",
      "[0. 1. 2. 3. 4. 5. 6. 7. 8. 9.]\n"
     ]
    }
   ],
   "source": [
    "lst=list(range(10))\n",
    "print(lst)\n",
    "a=np.array(lst, dtype='float')\n",
    "print(a)\n",
    "a=np.asarray(lst, dtype='float') # plus efficace que le constructeur\n",
    "print(a)"
   ]
  },
  {
   "cell_type": "code",
   "execution_count": 8,
   "metadata": {},
   "outputs": [
    {
     "name": "stdout",
     "output_type": "stream",
     "text": [
      "[0.  0.1 0.2 0.3 0.4 0.5 0.6 0.7 0.8 0.9]\n",
      "10\n"
     ]
    }
   ],
   "source": [
    "a=np.linspace(0., 1., 10, endpoint=False)\n",
    "print(a)\n",
    "print(len(a))"
   ]
  },
  {
   "cell_type": "code",
   "execution_count": 9,
   "metadata": {},
   "outputs": [],
   "source": [
    "#help(np.linspace)"
   ]
  },
  {
   "cell_type": "markdown",
   "metadata": {},
   "source": [
    "# Tableau multidimensionnel\n",
    "But : création d'un tableau vide 2x2 "
   ]
  },
  {
   "cell_type": "code",
   "execution_count": 84,
   "metadata": {},
   "outputs": [
    {
     "name": "stdout",
     "output_type": "stream",
     "text": [
      "[[1. 1.]\n",
      " [1. 1.]]\n",
      "--------------\n",
      "(2, 2)\n",
      "--------------\n",
      "2\n"
     ]
    }
   ],
   "source": [
    "a=np.ndarray(shape=(2, 2)) # NON INITIALISE\n",
    "print(a) \n",
    "print('--------------')\n",
    "print(a.shape)\n",
    "print('--------------')\n",
    "print(a.ndim)"
   ]
  },
  {
   "cell_type": "code",
   "execution_count": 90,
   "metadata": {},
   "outputs": [
    {
     "name": "stdout",
     "output_type": "stream",
     "text": [
      "[[1. 1.]\n",
      " [1. 1.]]\n",
      "[[ 1.  1.]\n",
      " [ 1. -1.]]\n"
     ]
    }
   ],
   "source": [
    "a.fill(1)\n",
    "print(a)\n",
    "\n",
    "a[1, 1]=-1\n",
    "print(a)"
   ]
  },
  {
   "cell_type": "code",
   "execution_count": 92,
   "metadata": {},
   "outputs": [
    {
     "name": "stdout",
     "output_type": "stream",
     "text": [
      "[[ 1.  1.]\n",
      " [ 1. -1.]]\n"
     ]
    },
    {
     "ename": "NameError",
     "evalue": "name 'a' is not defined",
     "output_type": "error",
     "traceback": [
      "\u001b[1;31m---------------------------------------------------------------------------\u001b[0m",
      "\u001b[1;31mNameError\u001b[0m                                 Traceback (most recent call last)",
      "\u001b[1;32m~\\AppData\\Local\\Temp/ipykernel_14584/3305790164.py\u001b[0m in \u001b[0;36m<module>\u001b[1;34m\u001b[0m\n\u001b[0;32m      1\u001b[0m \u001b[0mprint\u001b[0m\u001b[1;33m(\u001b[0m\u001b[0ma\u001b[0m\u001b[1;33m)\u001b[0m\u001b[1;33m\u001b[0m\u001b[1;33m\u001b[0m\u001b[0m\n\u001b[0;32m      2\u001b[0m \u001b[1;32mdel\u001b[0m \u001b[0ma\u001b[0m   \u001b[1;31m# supprime l'objet a\u001b[0m\u001b[1;33m\u001b[0m\u001b[1;33m\u001b[0m\u001b[0m\n\u001b[1;32m----> 3\u001b[1;33m \u001b[0ma\u001b[0m\u001b[1;33m\u001b[0m\u001b[1;33m\u001b[0m\u001b[0m\n\u001b[0m\u001b[0;32m      4\u001b[0m \u001b[1;33m\u001b[0m\u001b[0m\n\u001b[0;32m      5\u001b[0m \u001b[0ma\u001b[0m\u001b[1;33m=\u001b[0m\u001b[0mnp\u001b[0m\u001b[1;33m.\u001b[0m\u001b[0mempty\u001b[0m\u001b[1;33m(\u001b[0m\u001b[0mshape\u001b[0m\u001b[1;33m=\u001b[0m\u001b[1;33m(\u001b[0m\u001b[1;36m2\u001b[0m\u001b[1;33m,\u001b[0m \u001b[1;36m2\u001b[0m\u001b[1;33m)\u001b[0m\u001b[1;33m,\u001b[0m \u001b[0mdtype\u001b[0m\u001b[1;33m=\u001b[0m\u001b[1;34m'float64'\u001b[0m\u001b[1;33m)\u001b[0m\u001b[1;33m\u001b[0m\u001b[1;33m\u001b[0m\u001b[0m\n",
      "\u001b[1;31mNameError\u001b[0m: name 'a' is not defined"
     ]
    }
   ],
   "source": [
    "print(a)\n",
    "del a   # supprime l'objet a\n",
    "\n",
    "a=np.empty(shape=(2, 2), dtype='float64')\n",
    "print(a.dtype)\n",
    "print(a)\n",
    "print(type(a))"
   ]
  },
  {
   "cell_type": "code",
   "execution_count": 13,
   "metadata": {},
   "outputs": [
    {
     "name": "stdout",
     "output_type": "stream",
     "text": [
      "Help on built-in function empty in module numpy:\n",
      "\n",
      "empty(...)\n",
      "    empty(shape, dtype=float, order='C', *, like=None)\n",
      "    \n",
      "    Return a new array of given shape and type, without initializing entries.\n",
      "    \n",
      "    Parameters\n",
      "    ----------\n",
      "    shape : int or tuple of int\n",
      "        Shape of the empty array, e.g., ``(2, 3)`` or ``2``.\n",
      "    dtype : data-type, optional\n",
      "        Desired output data-type for the array, e.g, `numpy.int8`. Default is\n",
      "        `numpy.float64`.\n",
      "    order : {'C', 'F'}, optional, default: 'C'\n",
      "        Whether to store multi-dimensional data in row-major\n",
      "        (C-style) or column-major (Fortran-style) order in\n",
      "        memory.\n",
      "    like : array_like\n",
      "        Reference object to allow the creation of arrays which are not\n",
      "        NumPy arrays. If an array-like passed in as ``like`` supports\n",
      "        the ``__array_function__`` protocol, the result will be defined\n",
      "        by it. In this case, it ensures the creation of an array object\n",
      "        compatible with that passed in via this argument.\n",
      "    \n",
      "        .. note::\n",
      "            The ``like`` keyword is an experimental feature pending on\n",
      "            acceptance of :ref:`NEP 35 <NEP35>`.\n",
      "    \n",
      "        .. versionadded:: 1.20.0\n",
      "    \n",
      "    Returns\n",
      "    -------\n",
      "    out : ndarray\n",
      "        Array of uninitialized (arbitrary) data of the given shape, dtype, and\n",
      "        order.  Object arrays will be initialized to None.\n",
      "    \n",
      "    See Also\n",
      "    --------\n",
      "    empty_like : Return an empty array with shape and type of input.\n",
      "    ones : Return a new array setting values to one.\n",
      "    zeros : Return a new array setting values to zero.\n",
      "    full : Return a new array of given shape filled with value.\n",
      "    \n",
      "    \n",
      "    Notes\n",
      "    -----\n",
      "    `empty`, unlike `zeros`, does not set the array values to zero,\n",
      "    and may therefore be marginally faster.  On the other hand, it requires\n",
      "    the user to manually set all the values in the array, and should be\n",
      "    used with caution.\n",
      "    \n",
      "    Examples\n",
      "    --------\n",
      "    >>> np.empty([2, 2])\n",
      "    array([[ -9.74499359e+001,   6.69583040e-309],\n",
      "           [  2.13182611e-314,   3.06959433e-309]])         #uninitialized\n",
      "    \n",
      "    >>> np.empty([2, 2], dtype=int)\n",
      "    array([[-1073741821, -1067949133],\n",
      "           [  496041986,    19249760]])                     #uninitialized\n",
      "\n"
     ]
    }
   ],
   "source": [
    "help(np.empty)"
   ]
  },
  {
   "cell_type": "code",
   "execution_count": 14,
   "metadata": {},
   "outputs": [
    {
     "name": "stdout",
     "output_type": "stream",
     "text": [
      "float64\n",
      "[[0. 0.]\n",
      " [0. 0.]]\n",
      "<class 'numpy.ndarray'>\n"
     ]
    }
   ],
   "source": [
    "a=np.zeros(shape=(2, 2), dtype='float64')\n",
    "print(a.dtype)\n",
    "print(a)\n",
    "print(type(a))"
   ]
  },
  {
   "cell_type": "markdown",
   "metadata": {},
   "source": [
    "bool\n",
    "Boolean (True or False) stored as a bit\n",
    "\n",
    "inti\n",
    "Platform integer (normally either int32 or int64)\n",
    "\n",
    "int8\n",
    "Byte (-128 to 127)\n",
    "\n",
    "int16\n",
    "Integer (-32768 to 32767)\n",
    "\n",
    "int32\n",
    "Integer (-2^31 to 2^31 -1)\n",
    "\n",
    "int64\n",
    "Integer (-2^63 to 2 ^ 63 -1)\n",
    "\n",
    "uint8\n",
    "Unsigned integer (0 to 255)\n",
    "\n",
    "uint16\n",
    "Unsigned integer (0 to 65535)\n",
    "\n",
    "uint32\n",
    "Unsigned integer (0 to 2 ^ 32 - 1)\n",
    "\n",
    "uint64\n",
    "Unsigned integer (0 to 2 ^ 64 - 1)\n",
    "\n",
    "float16\n",
    "Half precision float: sign bit, 5 bits exponent, 10 bits mantissa\n",
    "\n",
    "float32\n",
    "Single precision float: sign bit, 8 bits exponent, 23 bits mantissa\n",
    "\n",
    "float64 or float\n",
    "Double precision float: sign bit, 11 bits exponent, 52 bits mantissa\n",
    "\n",
    "complex64\n",
    "Complex number, represented by two 32-bit floats (real and imaginary components)\n",
    "\n",
    "complex128 or complex\n",
    "Complex number, represented by two 64-bit floats (real and imaginary components)"
   ]
  },
  {
   "cell_type": "code",
   "execution_count": 15,
   "metadata": {},
   "outputs": [
    {
     "name": "stdout",
     "output_type": "stream",
     "text": [
      "[[1. 1.]\n",
      " [1. 1.]]\n"
     ]
    }
   ],
   "source": [
    "a.fill(1)\n",
    "print(a)"
   ]
  },
  {
   "cell_type": "code",
   "execution_count": 16,
   "metadata": {},
   "outputs": [
    {
     "name": "stdout",
     "output_type": "stream",
     "text": [
      "(2+3j)\n",
      "3.605551275463989\n"
     ]
    }
   ],
   "source": [
    "z = 2. + 3.j\n",
    "print(z)\n",
    "#help(z)\n",
    "print(abs(z))"
   ]
  },
  {
   "cell_type": "markdown",
   "metadata": {},
   "source": [
    "## vue d'un tableau"
   ]
  },
  {
   "cell_type": "code",
   "execution_count": 17,
   "metadata": {},
   "outputs": [
    {
     "name": "stdout",
     "output_type": "stream",
     "text": [
      "meme objet :  2839875872304  == 2839875872304\n",
      "2839875873168\n",
      "2839875872304\n",
      "[[0. 1.]\n",
      " [1. 1.]]\n",
      "[[1. 1.]\n",
      " [1. 1.]]\n"
     ]
    }
   ],
   "source": [
    "a.fill(1)\n",
    "view=a  # ATTENTION shallow copy\n",
    "print('meme objet : ', id(a), ' ==', id(view))\n",
    "\n",
    "c=a.copy()\n",
    "print(id(c))\n",
    "print(id(a))\n",
    "\n",
    "\n",
    "view[0, 0]=0  # modif de l'element [0, 0] de a !!!\n",
    "print(a)\n",
    "print(c)"
   ]
  },
  {
   "cell_type": "markdown",
   "metadata": {},
   "source": [
    "L'affectation ne fait qu'une copie superficielle (\"shallow copy\"), il faut utiliser le module copy avec sa fonction deepcopy pour dupliquer l'objet a avec ses valeurs. "
   ]
  },
  {
   "cell_type": "markdown",
   "metadata": {},
   "source": [
    "## cas exotique : tableau d'enregistrement\n",
    "But : créer un tableau de structure (ou record)"
   ]
  },
  {
   "cell_type": "code",
   "execution_count": 18,
   "metadata": {},
   "outputs": [],
   "source": [
    "record=np.dtype([('name', str, 40), ('age', 'int32')])"
   ]
  },
  {
   "cell_type": "code",
   "execution_count": 19,
   "metadata": {},
   "outputs": [
    {
     "name": "stdout",
     "output_type": "stream",
     "text": [
      "[('name', '<U40'), ('age', '<i4')]\n"
     ]
    }
   ],
   "source": [
    "print(record)"
   ]
  },
  {
   "cell_type": "code",
   "execution_count": 20,
   "metadata": {},
   "outputs": [
    {
     "name": "stdout",
     "output_type": "stream",
     "text": [
      "('thomas', 17)\n",
      "[('thomas', 17) ('nathan', 13)]\n"
     ]
    }
   ],
   "source": [
    "item=np.array([('thomas', 17), ('nathan', 13)], dtype=record)\n",
    "print(item[0])\n",
    "\n",
    "with open('data', 'bw') as f:\n",
    "    item.tofile(f)\n",
    "f.close\n",
    "\n",
    "with open('data', 'br') as f:\n",
    "    a=np.fromfile(f, dtype=record)\n",
    "f.close\n",
    "print(a)"
   ]
  },
  {
   "cell_type": "code",
   "execution_count": 21,
   "metadata": {},
   "outputs": [
    {
     "name": "stdout",
     "output_type": "stream",
     "text": [
      "[('x', '<f8'), ('y', '<f8')]\n"
     ]
    }
   ],
   "source": [
    "record=np.dtype([('x', float), ('y', float)])\n",
    "print(record)"
   ]
  },
  {
   "cell_type": "code",
   "execution_count": 22,
   "metadata": {},
   "outputs": [
    {
     "name": "stdout",
     "output_type": "stream",
     "text": [
      "[(1.,  4.) (2., -1.) (3.,  8.)]\n",
      "4.0\n",
      "<class 'numpy.ndarray'>\n",
      "(3,)\n"
     ]
    }
   ],
   "source": [
    "coords = np.array([(1.0, 4.0,), (2.0, -1.0), (3, 8)], dtype=record)\n",
    "print(coords)\n",
    "print(coords[0]['y'])\n",
    "print(type(coords))\n",
    "print(coords.shape)"
   ]
  },
  {
   "cell_type": "code",
   "execution_count": 23,
   "metadata": {},
   "outputs": [
    {
     "data": {
      "text/plain": [
       "array([[ 1.,  4.],\n",
       "       [ 2., -1.],\n",
       "       [ 3.,  8.]])"
      ]
     },
     "execution_count": 23,
     "metadata": {},
     "output_type": "execute_result"
    }
   ],
   "source": [
    "coords.view(np.float64).reshape(coords.shape + (-1,))"
   ]
  },
  {
   "cell_type": "code",
   "execution_count": 24,
   "metadata": {},
   "outputs": [
    {
     "name": "stdout",
     "output_type": "stream",
     "text": [
      "(3, -1)\n",
      "[[ 1.  4.  2.]\n",
      " [-1.  3.  8.]]\n"
     ]
    }
   ],
   "source": [
    "print(coords.shape + (-1,))\n",
    "A=coords.view(np.float64).reshape((2, -1), order='C')\n",
    "print(A)"
   ]
  },
  {
   "cell_type": "markdown",
   "metadata": {},
   "source": [
    "# Découpage et indexage\n",
    "## cas unidimensionnel\n",
    "Le découpage (slicing) d'un tableau unidimensionnel NumPy est identique à celui d'une liste Python"
   ]
  },
  {
   "cell_type": "code",
   "execution_count": 25,
   "metadata": {},
   "outputs": [
    {
     "name": "stdout",
     "output_type": "stream",
     "text": [
      "[0 1 2 3 4 5 6 7 8 9]\n",
      "[3 4 5 6]\n",
      "[0 2 4 6]\n",
      "[9 8 7 6 5 4 3 2 1 0]\n",
      "[9 8 7 6 5 4 3 2 1 0]\n"
     ]
    }
   ],
   "source": [
    "import numpy as np\n",
    "a=np.arange(10)\n",
    "print(a)\n",
    "# extraction des elements du tableau d'indice dans [3, 7)\n",
    "print(a[3:7])  \n",
    " # extraction des elements avec un pas de 2 jusqu'a l'indice 8 exclu\n",
    "print(a[:8:2])  \n",
    "# renverse le tableau\n",
    "print(a[::-1])   \n",
    "print(a[-1::-1])"
   ]
  },
  {
   "cell_type": "markdown",
   "metadata": {},
   "source": [
    "## cas multidimensionnel"
   ]
  },
  {
   "cell_type": "code",
   "execution_count": 26,
   "metadata": {},
   "outputs": [
    {
     "name": "stdout",
     "output_type": "stream",
     "text": [
      "[[[ 0  1  2  3]\n",
      "  [ 4  5  6  7]\n",
      "  [ 8  9 10 11]]\n",
      "\n",
      " [[12 13 14 15]\n",
      "  [16 17 18 19]\n",
      "  [20 21 22 23]]]\n",
      "--------------\n",
      "(2, 3, 4)\n",
      "--------------\n",
      "3\n"
     ]
    }
   ],
   "source": [
    "# tableau unidimensionnel retransformé en tableau 2x3x4\n",
    "b=np.arange(24).reshape(2, 3, 4) \n",
    "print(b)\n",
    "print('--------------')\n",
    "print(b.shape)\n",
    "print('--------------')\n",
    "print(b.ndim)"
   ]
  },
  {
   "cell_type": "markdown",
   "metadata": {},
   "source": [
    "On obtient 2 paquets, chacun formé d'une matrice 3x4"
   ]
  },
  {
   "cell_type": "code",
   "execution_count": 27,
   "metadata": {},
   "outputs": [
    {
     "name": "stdout",
     "output_type": "stream",
     "text": [
      "[0 1 2 3]\n"
     ]
    }
   ],
   "source": [
    "# on selectionne l'element placé en [0, 0] de tous les paquets\n",
    "#view=b[:, 0, 0] \n",
    "#print(view)\n",
    "# dans le paquet 0, on selectionne la ligne 0 \n",
    "x=b[0, 0, :] \n",
    "print(x)\n",
    "# dans le paquet 0, on selectionne dans la ligne 1 en se déplaçant de 2 en 2\n",
    "#view=b[0, 1, ::2] \n",
    "#print(view)"
   ]
  },
  {
   "cell_type": "code",
   "execution_count": 28,
   "metadata": {},
   "outputs": [
    {
     "name": "stdout",
     "output_type": "stream",
     "text": [
      "[0 1 2 3]\n",
      "[[[  0 188   2   3]\n",
      "  [  4   5   6   7]\n",
      "  [  8   9  10  11]]\n",
      "\n",
      " [[ 12  13  14  15]\n",
      "  [ 16  17  18  19]\n",
      "  [ 20  21  22  23]]]\n"
     ]
    }
   ],
   "source": [
    "x=b[0, 0, :] \n",
    "print(x)\n",
    "x[1] = 188\n",
    "print(b)"
   ]
  },
  {
   "cell_type": "code",
   "execution_count": 29,
   "metadata": {},
   "outputs": [
    {
     "name": "stdout",
     "output_type": "stream",
     "text": [
      "[[188   5   9]\n",
      " [ 13  17  21]]\n",
      "[  0 188   2   3   4   5   6   7   8   9  10  11  12  13  14  15  16  17\n",
      "  18  19  20  21  22  23]\n",
      "None\n"
     ]
    }
   ],
   "source": [
    "view=b[..., 1] # on selectionne la colonne 1 de tous les paquets\n",
    "print(view)\n",
    "print (view.base)\n",
    "\n",
    "z = view.copy()\n",
    "print(z.base)"
   ]
  },
  {
   "cell_type": "markdown",
   "metadata": {},
   "source": [
    "## Exercice sur le slicing\n",
    "Expliquer le comportement des cas suivants"
   ]
  },
  {
   "cell_type": "code",
   "execution_count": 30,
   "metadata": {},
   "outputs": [
    {
     "name": "stdout",
     "output_type": "stream",
     "text": [
      "[23 19 15]\n",
      "[11  7  3]\n",
      "[ 3  7 11]\n"
     ]
    }
   ],
   "source": [
    "view=b[-1, ::-1, -1]\n",
    "print(view)\n",
    "view=b[0, ::-1, -1]\n",
    "print(view)\n",
    "view=b[0, :, -1]\n",
    "print(view)"
   ]
  },
  {
   "cell_type": "markdown",
   "metadata": {},
   "source": [
    "# Applatissage de tableaux (array flattening)"
   ]
  },
  {
   "cell_type": "code",
   "execution_count": 31,
   "metadata": {},
   "outputs": [
    {
     "name": "stdout",
     "output_type": "stream",
     "text": [
      "[ 0  1  2  3  4  5  6  7  8  9 10 11 12 13 14 15 16 17 18 19 20 21 22 23]\n",
      "[[[ 0  1  2  3]\n",
      "  [ 4  5  6  7]\n",
      "  [ 8  9 10 11]]\n",
      "\n",
      " [[12 13 14 15]\n",
      "  [16 17 18 19]\n",
      "  [20 21 22 23]]]\n",
      "------------------------------\n",
      "[ 0  1  2  3  4  5  6  7  8  9 10 11 12 13 14 15 16 17 18 19 20 21 22 23]\n",
      "[[[-1  1  2  3]\n",
      "  [ 4  5  6  7]\n",
      "  [ 8  9 10 11]]\n",
      "\n",
      " [[12 13 14 15]\n",
      "  [16 17 18 19]\n",
      "  [20 21 22 23]]]\n"
     ]
    }
   ],
   "source": [
    "b=np.arange(24).reshape(2, 3, 4)\n",
    "\n",
    "flat_nd_copy=b.flatten()\n",
    "print(flat_nd_copy)\n",
    "flat_nd_copy[0]=-1\n",
    "print(b)\n",
    "print('------------------------------')\n",
    "flat=b.ravel()  # nouvelle vue\n",
    "print(flat)\n",
    "\n",
    "flat[0]=-1  # modifie b\n",
    "print(b)"
   ]
  },
  {
   "cell_type": "markdown",
   "metadata": {},
   "source": [
    "# Concaténation de tableaux\n",
    "Soient 2 tableaux A et B, comportant le même nombre de ligne, on désire construire le tableau augmenté A | B"
   ]
  },
  {
   "cell_type": "code",
   "execution_count": 32,
   "metadata": {},
   "outputs": [
    {
     "name": "stdout",
     "output_type": "stream",
     "text": [
      "2839875776752\n",
      "2839875778960\n",
      "[[ 0  1  2  3 10 11 12 13]\n",
      " [ 4  5  6  7 14 15 16 17]\n",
      " [ 8  9 10 11 18 19 20 21]]\n"
     ]
    }
   ],
   "source": [
    "A=np.arange(12).reshape(3, 4)\n",
    "B=A+10\n",
    "print(id(A))\n",
    "print(id(B))\n",
    "S=np.hstack((A, B))\n",
    "print(S)"
   ]
  },
  {
   "cell_type": "markdown",
   "metadata": {},
   "source": [
    "Généralisation suivant les autres directions"
   ]
  },
  {
   "cell_type": "code",
   "execution_count": 33,
   "metadata": {},
   "outputs": [
    {
     "name": "stdout",
     "output_type": "stream",
     "text": [
      "[[ 0  1  2  3]\n",
      " [ 4  5  6  7]\n",
      " [ 8  9 10 11]\n",
      " [ 0  1  2  3]\n",
      " [ 4  5  6  7]\n",
      " [ 8  9 10 11]]\n",
      "------------------\n",
      "[[[ 0  0]\n",
      "  [ 1  1]\n",
      "  [ 2  2]\n",
      "  [ 3  3]]\n",
      "\n",
      " [[ 4  4]\n",
      "  [ 5  5]\n",
      "  [ 6  6]\n",
      "  [ 7  7]]\n",
      "\n",
      " [[ 8  8]\n",
      "  [ 9  9]\n",
      "  [10 10]\n",
      "  [11 11]]]\n"
     ]
    }
   ],
   "source": [
    "A=np.arange(12).reshape(3, 4)\n",
    "B=A\n",
    "S=np.vstack((A, B))\n",
    "print(S)\n",
    "print('------------------')\n",
    "S=np.dstack((A, B))\n",
    "print(S)"
   ]
  },
  {
   "cell_type": "markdown",
   "metadata": {
    "collapsed": true
   },
   "source": [
    "## zero-padding - rolling"
   ]
  },
  {
   "cell_type": "code",
   "execution_count": 34,
   "metadata": {},
   "outputs": [
    {
     "name": "stdout",
     "output_type": "stream",
     "text": [
      "[[ 1  2  3  4]\n",
      " [ 5  6  7  8]\n",
      " [ 9 10 11 12]]\n",
      "<class 'numpy.ndarray'>\n"
     ]
    }
   ],
   "source": [
    "A=np.arange(12).reshape(3, 4)\n",
    "A=A+1\n",
    "print(A)\n",
    "print(type(A))"
   ]
  },
  {
   "cell_type": "code",
   "execution_count": 35,
   "metadata": {},
   "outputs": [
    {
     "name": "stdout",
     "output_type": "stream",
     "text": [
      "[[ 1  2  3  4  0  0  0  0]\n",
      " [ 5  6  7  8  0  0  0  0]\n",
      " [ 9 10 11 12  0  0  0  0]\n",
      " [ 0  0  0  0  0  0  0  0]\n",
      " [ 0  0  0  0  0  0  0  0]\n",
      " [ 0  0  0  0  0  0  0  0]]\n",
      "----------------------------\n",
      "[[ 0  0  1  2  3  4  0  0]\n",
      " [ 0  0  5  6  7  8  0  0]\n",
      " [ 0  0  9 10 11 12  0  0]\n",
      " [ 0  0  0  0  0  0  0  0]\n",
      " [ 0  0  0  0  0  0  0  0]\n",
      " [ 0  0  0  0  0  0  0  0]]\n"
     ]
    }
   ],
   "source": [
    "lx=A.shape[0]\n",
    "ly=A.shape[1]\n",
    "A=np.pad(A, ((0, lx), (0, ly)), mode='constant') # (before, after)\n",
    "print(A)\n",
    "print('----------------------------')\n",
    "A=np.roll(A, +ly//2, axis=1)\n",
    "print(A)"
   ]
  },
  {
   "cell_type": "markdown",
   "metadata": {},
   "source": [
    "Application du zero padding dans le calcul de produit de convolution"
   ]
  },
  {
   "cell_type": "markdown",
   "metadata": {},
   "source": [
    "#  création d'une matrice\n",
    "La classe matrix dérive de la classe ndarray"
   ]
  },
  {
   "cell_type": "code",
   "execution_count": 36,
   "metadata": {},
   "outputs": [
    {
     "name": "stdout",
     "output_type": "stream",
     "text": [
      "<class 'numpy.matrix'>\n",
      "[[2 0]\n",
      " [0 1]]\n",
      "<class 'numpy.matrix'>\n"
     ]
    }
   ],
   "source": [
    "A=np.matrix([[0, 1], [2, 3]])\n",
    "print(type(A))\n",
    "\n",
    "M=np.asmatrix(np.diag([2, 1]))\n",
    "print(M)\n",
    "print(type(M))"
   ]
  },
  {
   "cell_type": "markdown",
   "metadata": {},
   "source": [
    "Création d'un vecteur"
   ]
  },
  {
   "cell_type": "code",
   "execution_count": 37,
   "metadata": {},
   "outputs": [
    {
     "name": "stdout",
     "output_type": "stream",
     "text": [
      "[[0 1]\n",
      " [2 3]]\n",
      "[[0]\n",
      " [1]]\n",
      "------------------------------\n",
      "[[1]\n",
      " [3]]\n"
     ]
    }
   ],
   "source": [
    "print(A)\n",
    "V=np.matrix([0, 1]).transpose()\n",
    "print(V)\n",
    "print('-'*30)\n",
    "print(A*V)\n"
   ]
  },
  {
   "cell_type": "code",
   "execution_count": 38,
   "metadata": {},
   "outputs": [
    {
     "name": "stdout",
     "output_type": "stream",
     "text": [
      "[0, 1, 2, 3, 4, 5, 6, 7, 8, 9, 0, 1, 2, 3, 4]\n"
     ]
    }
   ],
   "source": [
    "r=list(range(0, 10))+list(range(5))\n",
    "print(r)"
   ]
  },
  {
   "cell_type": "markdown",
   "metadata": {},
   "source": [
    "# Comment savoir si c'est une copie ou une vue?"
   ]
  },
  {
   "cell_type": "code",
   "execution_count": 25,
   "metadata": {},
   "outputs": [
    {
     "name": "stdout",
     "output_type": "stream",
     "text": [
      "[0 1 2 3 4 5 6 7 8 9]\n",
      "None\n",
      "----------------------------------------\n",
      "il n'y a pas d'objet ayant servi à construire a\n",
      "a a servi à construire b\n",
      "\n",
      " === Partage mémoire ===\n",
      "a et b    True\n",
      "a et c    True\n",
      "b et c    False\n",
      "c et cpy  False\n",
      "----------------------------------------\n",
      "[-1  1  2  3  4  5  6  7  8  9]\n",
      "----------------------------------------\n",
      "isbase(a)   :  True\n",
      "isbase(b)   :  False\n",
      "isbase(c)   :  False\n",
      "isbase(cpy) :  True\n",
      "----------------------------------------\n",
      "mem shared a et c    True\n",
      "isbase(a)   :  False\n",
      "isbase(c)   :  False\n",
      "----------------------------------------\n",
      "[ 4  5  6  7 -1  9]\n",
      "[ 4  5  6  7 -1  9]\n",
      "----------------------------------------\n",
      "[ 4  5  6  7 42  9]\n",
      "[ 4  5  6  7 42  9]\n",
      "is_view(a)   :  True\n",
      "is_view(c)   :  True\n"
     ]
    }
   ],
   "source": [
    "import numpy as np\n",
    "\n",
    "def is_base(a):\n",
    "    return a.base is None\n",
    "\n",
    "def is_view(a):\n",
    "    return not (a.base is None)\n",
    "\n",
    "def memory_shared(a, b):\n",
    "    return np.shares_memory(a, b)\n",
    "\n",
    "a=np.arange(10)\n",
    "b=a[0:4]\n",
    "c=a[4:]\n",
    "cpy=a[4:].copy()\n",
    "\n",
    "print(a)\n",
    "print(a.base) # Base object if memory is from some other object\n",
    "\n",
    "print('-'*40)\n",
    "\n",
    "if is_base(a):  # if a.base is None:\n",
    "    print(\"il n'y a pas d'objet ayant servi à construire a\")\n",
    "\n",
    "if is_base(b):  # if b.base is None:\n",
    "    print(\"il n'y a pas d'objet ayant servi à construire b\")\n",
    "    \n",
    "if b.base is a:\n",
    "    print(\"a a servi à construire b\")\n",
    "    \n",
    "if cpy.base is a:\n",
    "    print(\"a a servi à construire cpy\")\n",
    " \n",
    "print('\\n === Partage mémoire ===')\n",
    "\n",
    "print(\"a et b   \", memory_shared(a, b))\n",
    "print(\"a et c   \", memory_shared(a, c))\n",
    "print(\"b et c   \", memory_shared(b, c))\n",
    "print(\"c et cpy \", memory_shared(c, cpy))\n",
    "\n",
    "print('-'*40)\n",
    "b[0]=-1\n",
    "print(a)\n",
    "\n",
    "print('-'*40)\n",
    "\n",
    "print('isbase(a)   : ', is_base(a))\n",
    "print('isbase(b)   : ', is_base(b))\n",
    "print('isbase(c)   : ', is_base(c))\n",
    "print('isbase(cpy) : ', is_base(cpy))\n",
    "\n",
    "print('-'*40)\n",
    "\n",
    "a=c\n",
    "print(\"mem shared a et c   \", memory_shared(a, c))\n",
    "print('isbase(a)   : ', is_base(a))\n",
    "print('isbase(c)   : ', is_base(c))\n",
    "\n",
    "print('-'*40)\n",
    "c[4]=-1\n",
    "print(c)\n",
    "print(a)\n",
    "\n",
    "print('-'*40)\n",
    "a[4]=42\n",
    "print(c)\n",
    "print(a)\n",
    "\n",
    "print('is_view(a)   : ', is_view(a))\n",
    "print('is_view(c)   : ', is_view(c))\n"
   ]
  }
 ],
 "metadata": {
  "anaconda-cloud": {},
  "kernelspec": {
   "display_name": "Python 3 (ipykernel)",
   "language": "python",
   "name": "python3"
  },
  "language_info": {
   "codemirror_mode": {
    "name": "ipython",
    "version": 3
   },
   "file_extension": ".py",
   "mimetype": "text/x-python",
   "name": "python",
   "nbconvert_exporter": "python",
   "pygments_lexer": "ipython3",
   "version": "3.9.12"
  }
 },
 "nbformat": 4,
 "nbformat_minor": 1
}
