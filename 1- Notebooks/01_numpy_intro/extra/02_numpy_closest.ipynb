{
 "cells": [
  {
   "cell_type": "markdown",
   "metadata": {},
   "source": [
    "# Interet du calcul vectoriel\n",
    "Le but de cet exemple d'illustrer l'efficacité des tableaux\n",
    "numpy par rapport aux listes python.\n",
    "\n",
    "A partir d'un nuage de points générés aléatoirement dans [0, 1[,\n",
    "on cherche à identifier celui qui se trouve le plus proche d'un point M0(x0, y0).\n",
    "On crée une fonction closest où les arguments sont \n",
    "un tuple (position de M0) et une liste (ou tableau) des coordonnées des points."
   ]
  },
  {
   "cell_type": "code",
   "execution_count": 1,
   "metadata": {},
   "outputs": [],
   "source": [
    "def closest(pos0, points):\n",
    "    x0, y0 = pos0\n",
    "    dbest, ibest = None, None # avantage de python initialiser \n",
    "                                 # avec une valeur indéfinie\n",
    "    for i, (x, y) in enumerate(points):\n",
    "        # carre de la distance au point M0\n",
    "        d = (x - x0) ** 2 + (y - y0) ** 2\n",
    "        if dbest is None or d < dbest:\n",
    "            dbest, ibest = d, i \n",
    "    return ibest"
   ]
  },
  {
   "cell_type": "markdown",
   "metadata": {},
   "source": [
    "## Utilisation des listes python\n",
    "Comment générer une liste de coordonnées (x,y) en python, puis appeler la fonction closest"
   ]
  },
  {
   "cell_type": "code",
   "execution_count": 2,
   "metadata": {},
   "outputs": [
    {
     "name": "stdout",
     "output_type": "stream",
     "text": [
      "CPU times: user 43.9 ms, sys: 1.24 ms, total: 45.2 ms\n",
      "Wall time: 44.7 ms\n",
      "10 loops, best of 3: 38.6 ms per loop\n"
     ]
    }
   ],
   "source": [
    "import random\n",
    "N=100000\n",
    "random.seed(123)\n",
    "positions = [(random.random(), random.random()) for _ in range(N)] \n",
    "# utilisation d'une variable muette\n",
    "\n",
    "pos0=(0.5, 0.5)\n",
    "%time i=closest(pos0, positions)\n",
    "%timeit i=closest(pos0, positions) \n",
    "# donne le meilleur temps = seul qui est reproductible"
   ]
  },
  {
   "cell_type": "markdown",
   "metadata": {},
   "source": [
    "Utilisation du compilateur jit du module numba"
   ]
  },
  {
   "cell_type": "code",
   "execution_count": 3,
   "metadata": {},
   "outputs": [
    {
     "name": "stdout",
     "output_type": "stream",
     "text": [
      "CPU times: user 249 ms, sys: 17.7 ms, total: 267 ms\n",
      "Wall time: 291 ms\n",
      "100 loops, best of 3: 3.89 ms per loop\n"
     ]
    }
   ],
   "source": [
    "import random\n",
    "from numba import jit\n",
    "\n",
    "@jit\n",
    "def closest(pos0, points):\n",
    "       x0, y0 = pos0\n",
    "       dbest, ibest = None, None \n",
    "       for i, (x, y) in enumerate(points):\n",
    "           # carre de la distance au point M0\n",
    "           d = (x - x0) ** 2 + (y - y0) ** 2\n",
    "           if dbest is None or d < dbest:\n",
    "               dbest, ibest = d, i \n",
    "       return ibest\n",
    "\n",
    "N=100000\n",
    "random.seed(123)\n",
    "positions = [(random.random(), random.random()) for _ in range(N)] \n",
    "#print(positions)\n",
    "pos0=(0.5, 0.5)\n",
    "%time i=closest(pos0, positions)\n",
    "%timeit i=closest(pos0, positions)"
   ]
  },
  {
   "cell_type": "markdown",
   "metadata": {},
   "source": [
    "Le premier temps explose car il intègre la phase de compilation\n",
    "Le second utilise la version compilée de la fonction, d'où le gain en performance"
   ]
  },
  {
   "cell_type": "markdown",
   "metadata": {},
   "source": [
    "## Utilisation d'un tableau numpy\n",
    "Comment générer un tableau numpy 2D , puis appeler la fonction closest\n"
   ]
  },
  {
   "cell_type": "code",
   "execution_count": 4,
   "metadata": {},
   "outputs": [
    {
     "name": "stdout",
     "output_type": "stream",
     "text": [
      "1 loop, best of 3: 168 ms per loop\n",
      "1000 loops, best of 3: 470 µs per loop\n"
     ]
    }
   ],
   "source": [
    "import numpy as np  \n",
    "\n",
    "def numpy_closest(pos0, points):\n",
    "    x0, y0 = pos0\n",
    "    x,  y  = points[:,0], points[:,1]\n",
    "    d = (x - x0) ** 2 + (y - y0) ** 2    \n",
    "    return d.argmin()\n",
    "\n",
    "N=100000\n",
    "np.random.seed(123)\n",
    "positions = np.random.rand(N, 2)\n",
    "#print(positions)\n",
    "#print(type(positions))\n",
    "pos0=(0.5, 0.5)\n",
    "%timeit i=closest(pos0, positions)\n",
    "%timeit i=numpy_closest(pos0, positions)"
   ]
  },
  {
   "cell_type": "markdown",
   "metadata": {},
   "source": [
    "Le gain de performance est du à la suppression de la boucle explicite"
   ]
  },
  {
   "cell_type": "markdown",
   "metadata": {
    "collapsed": true
   },
   "source": [
    "Utilisation du compilateur jit du module numba"
   ]
  },
  {
   "cell_type": "code",
   "execution_count": 4,
   "metadata": {},
   "outputs": [
    {
     "name": "stdout",
     "output_type": "stream",
     "text": [
      "10 loops, best of 3: 168 ms per loop\n",
      "The slowest run took 1307.38 times longer than the fastest. This could mean that an intermediate result is being cached.\n",
      "1 loop, best of 3: 225 µs per loop\n"
     ]
    }
   ],
   "source": [
    "import random\n",
    "import numpy as np  \n",
    "from numba import jit\n",
    "\n",
    "@jit\n",
    "def numpy_closest(pos0, points):\n",
    "    x0, y0 = pos0\n",
    "    x,  y  = points[:,0], points[:,1]\n",
    "    d = (x - x0) ** 2 + (y - y0) ** 2    \n",
    "    return d.argmin()\n",
    "\n",
    "N=100000\n",
    "np.random.seed(123)\n",
    "positions = np.random.rand(N, 2)\n",
    "#print(positions)\n",
    "#print(type(positions))\n",
    "pos0=(0.5, 0.5)\n",
    "%timeit i=closest(pos0, positions)\n",
    "%timeit i=numpy_closest(pos0, positions)"
   ]
  },
  {
   "cell_type": "markdown",
   "metadata": {},
   "source": [
    "## Utilisation d'un arbre \n",
    "A titre informel, la libraire scipy contient une recherche de plus proches voisins optimisée\n",
    "à base d'arbre binaire"
   ]
  },
  {
   "cell_type": "code",
   "execution_count": 5,
   "metadata": {},
   "outputs": [
    {
     "name": "stdout",
     "output_type": "stream",
     "text": [
      "1000 loops, best of 3: 313 µs per loop\n",
      "61502\n",
      "[ 0.49981353  0.49615511]\n"
     ]
    }
   ],
   "source": [
    "import scipy.spatial as spatial\n",
    "import random\n",
    "\n",
    "N=100000\n",
    "np.random.seed(123)\n",
    "positions = np.random.rand(N, 2)\n",
    "\n",
    "kdtree = spatial.KDTree(positions)\n",
    "pos0=(0.5, 0.5)\n",
    "%timeit d, i = kdtree.query(pos0, 1)\n",
    "d, i = kdtree.query(pos0, 1)\n",
    "print(i)\n",
    "print(positions[i, :])"
   ]
  },
  {
   "cell_type": "code",
   "execution_count": null,
   "metadata": {
    "collapsed": true
   },
   "outputs": [],
   "source": []
  }
 ],
 "metadata": {
  "anaconda-cloud": {},
  "kernelspec": {
   "display_name": "Python 3",
   "language": "python",
   "name": "python3"
  },
  "language_info": {
   "codemirror_mode": {
    "name": "ipython",
    "version": 3
   },
   "file_extension": ".py",
   "mimetype": "text/x-python",
   "name": "python",
   "nbconvert_exporter": "python",
   "pygments_lexer": "ipython3",
   "version": "3.6.4"
  }
 },
 "nbformat": 4,
 "nbformat_minor": 1
}
