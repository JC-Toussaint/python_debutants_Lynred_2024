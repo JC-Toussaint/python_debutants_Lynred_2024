{
 "cells": [
  {
   "cell_type": "markdown",
   "metadata": {},
   "source": [
    "# Bibliothèque Python Numpy\n",
    "\n",
    "Le module le plus important en python scientifique est nommé numpy. Ce module est une extension du langage de programmation Python, pour\n",
    "manipuler des matrices ou des tableaux multidimensionnels.\n",
    "Elle possède des fonctions mathématiques vectorielles opérant sur les tableaux.\n",
    "\n",
    "### Exemples de création d'un tableau\n",
    "\n",
    "* Un tableau numpy est mutable et itérable.\n",
    "* Tous les éléments d'un tableau numpy sont du même type.\n",
    "* On a un accès direct à un élément grâce à l'opérateur []. __La numérotation commence à zéro__.\n",
    "* La variable membre dtype retourne le type des éléments."
   ]
  },
  {
   "cell_type": "code",
   "execution_count": null,
   "metadata": {},
   "outputs": [],
   "source": [
    "# OBLIGATOIRE importation du module numpy => np est un alias\n",
    "import numpy as np\n",
    "\n",
    "# tableau de zeros de type réel\n",
    "z =np.zeros(shape=(2,), dtype='float')\n",
    "print('zeros : ', z)\n",
    "print('type du tableau : ', z.dtype) # dtype contient le type des éléments du tableau\n",
    "\n",
    "# tableau de uns de type entier\n",
    "u =np.ones(shape=(2, ), dtype='int')\n",
    "print('uns : ', u)\n",
    "print('type du tableau : ', u.dtype)"
   ]
  },
  {
   "cell_type": "markdown",
   "metadata": {},
   "source": [
    "* Exercice : \n",
    "1. Créer un tableau d'entiers z de dimensions 2x4 rempli de zeros.\n",
    "2. z.shape donne les dimensions du tableau sous la forme d'un tuple. Tester-le\n",
    "2. Un tableau numpy est mutable. La valeur placée en [i,j] est modifiable\n",
    "en tapant z[i,j] = valeur. Faire quelques essais."
   ]
  },
  {
   "cell_type": "code",
   "execution_count": null,
   "metadata": {},
   "outputs": [],
   "source": [
    "# A COMPLETER"
   ]
  },
  {
   "cell_type": "markdown",
   "metadata": {},
   "source": [
    "### Autres Créations à partir d'une liste, d'une séquence, d'un intervalle"
   ]
  },
  {
   "cell_type": "code",
   "execution_count": null,
   "metadata": {},
   "outputs": [],
   "source": [
    "# A partir d'une liste\n",
    "a = np.asarray([1, 2, 3, 4], dtype='int') # ou utiliser np.array moins efficace\n",
    "print(\"a partir d'une liste : \", a)\n",
    "print('type du tableau : ', a.dtype)\n",
    "\n",
    "# A partir d'une séquence\n",
    "d = np.linspace(0, 1, 5)\n",
    "print('sequence équi-espacée: ', d)\n",
    "print('type du tableau : ', d.dtype)\n",
    "\n",
    "# A partir d'un intervalle\n",
    "b = np.arange(0, 1, 0.25)\n",
    "print('intervalle équi-espacée: ', b)\n",
    "print('type du tableau : ', d.dtype)\n"
   ]
  },
  {
   "cell_type": "markdown",
   "metadata": {},
   "source": [
    "# Tranche de tableau : slicing\n",
    "\n",
    "Le découpage (slicing) d'un tableau unidimensionnel NumPy est identique à celui d'une liste Python"
   ]
  },
  {
   "cell_type": "markdown",
   "metadata": {},
   "source": [
    "* Exercice :\n",
    "1. Créer un tableau de 10 entiers a avec la fonction arange commençant à zéro.\n",
    "2. Afficher la tranche du 5eme élément au 8eme élément inclu. "
   ]
  },
  {
   "cell_type": "code",
   "execution_count": null,
   "metadata": {},
   "outputs": [],
   "source": [
    "# A COMPLETER"
   ]
  },
  {
   "cell_type": "markdown",
   "metadata": {},
   "source": [
    "* Opérations plus avancées"
   ]
  },
  {
   "cell_type": "code",
   "execution_count": null,
   "metadata": {},
   "outputs": [],
   "source": [
    "# extraction des elements avec un pas de 2 jusqu'a l'indice 8 exclu\n",
    "print(a[:8:2])  \n",
    "# renverse le tableau\n",
    "print(a[::-1])   \n",
    "print(a[-1::-1])"
   ]
  },
  {
   "cell_type": "markdown",
   "metadata": {},
   "source": [
    "# Arithmétique sur tableau\n",
    "L’intérêt des tableau numpy par rapport aux listes réside entre-autre dans le fait qu’il est possible de faire de l’arithmétique sur des tableaux."
   ]
  },
  {
   "cell_type": "code",
   "execution_count": null,
   "metadata": {},
   "outputs": [],
   "source": [
    "import numpy as np\n",
    "a=np.arange(10, dtype='float')\n",
    "print(a)\n",
    "a=a+1      # ajout de 1 à tous les elements\n",
    "print(a)\n",
    "print(2*a) \n",
    "print(a*a) # carre de chaque element\n",
    "print(a/a) # division element par element  DANGER"
   ]
  },
  {
   "cell_type": "markdown",
   "metadata": {},
   "source": [
    "* Exercice :\n",
    "1. Créer un tableau a de taille 2x2 contenant [1, 2] sur la première ligne et [3, 4] sur la seconde.\n",
    "2. Faites a * a puis a @ a  . Expliquez le résultat obtenu."
   ]
  },
  {
   "cell_type": "code",
   "execution_count": null,
   "metadata": {},
   "outputs": [],
   "source": [
    "# A COMPLETER"
   ]
  },
  {
   "cell_type": "markdown",
   "metadata": {},
   "source": [
    "# Fonctions vectorielles sur tableau\n",
    "Appliquer des fonctions mathématiques (sin, exp, ...) aux tableaux. Là encore, la fonction\n",
    "est appliquée __élément par élément__ à tous les éléments du tableau."
   ]
  },
  {
   "cell_type": "code",
   "execution_count": null,
   "metadata": {},
   "outputs": [],
   "source": [
    "x=np.linspace(0, 2*np.pi, 5)\n",
    "print(x)\n",
    "print(np.sin(x))"
   ]
  },
  {
   "cell_type": "markdown",
   "metadata": {},
   "source": [
    "* Exercice :\n",
    "Calculer pour chaque valeur du tableau x, y1=3cos(x)+sin(x) puis y2=cos(x)**2+sin(x)**2"
   ]
  },
  {
   "cell_type": "code",
   "execution_count": null,
   "metadata": {},
   "outputs": [],
   "source": [
    "y1=3*np.cos(x)+np.sin(x)\n",
    "print(y1)\n",
    "y2 = np.cos(x)**2 + np.sin(x)**2\n",
    "print(y2)"
   ]
  },
  {
   "cell_type": "markdown",
   "metadata": {},
   "source": [
    "# Reformattage d'un tableau unidimensionnel en bidimensionnel\n",
    "Pour transformer par exemple un tableau s de 12 éléments en un tableau r de 2 lignes de 6 éléments, on utilise la fonction membre reshape. __ATTENTION__ : reshape retourne une vue du tableau s."
   ]
  },
  {
   "cell_type": "code",
   "execution_count": null,
   "metadata": {},
   "outputs": [],
   "source": [
    "s=np.arange(12)\n",
    "print(s)\n",
    "r = s.reshape(2, 6) # r est une vue de s, ils occupent la même place en mémoire\n",
    "print('après reshape \\n', r)"
   ]
  },
  {
   "cell_type": "markdown",
   "metadata": {},
   "source": [
    "# Aplattissage de tableaux\n",
    "les fonctions ravel et flatten ont le même effet d’aplatir le tableau multi-dimensionnel r en un tableau unidimensionnel que l'on note a, mais la première est une fonction générale alors que la seconde est une méthode.\n",
    "__ATTENTION__ : ravel retourne une vue du tableau alors que flatten() produit une copie du tableau."
   ]
  },
  {
   "cell_type": "code",
   "execution_count": null,
   "metadata": {},
   "outputs": [],
   "source": [
    "v = np.ravel(r) # v est une vue de r, ils occupent la même place en mémoire\n",
    "b = r.flatten() # copie de r, ils ne sont pas à la même place en mémoire.\n",
    "print(v)\n",
    "print(b)\n",
    "\n",
    "print('-'*50)\n",
    "\n",
    "r[0, 0]=255\n",
    "print(v) # ATTENTION a est modifié "
   ]
  },
  {
   "cell_type": "markdown",
   "metadata": {},
   "source": [
    "* Exercice : modifier la première valeur de v, r est aussi modifié"
   ]
  },
  {
   "cell_type": "markdown",
   "metadata": {},
   "source": [
    "### Comment savoir si un tableau numpy une copie ou une vue?\n",
    "Dans ce cas, r partage la mémoire allouée au tableau v. Ainsi np.shares_memory(v, r) retourne True.\n"
   ]
  },
  {
   "cell_type": "code",
   "execution_count": null,
   "metadata": {},
   "outputs": [],
   "source": [
    "print(np.shares_memory(v,r))"
   ]
  },
  {
   "cell_type": "markdown",
   "metadata": {},
   "source": [
    "### Comment faire une copie d'un tableau\n",
    "Utiliser la fonction membre copy()"
   ]
  },
  {
   "cell_type": "code",
   "execution_count": null,
   "metadata": {},
   "outputs": [],
   "source": [
    "c = v.copy()\n",
    "print(np.shares_memory(c, v))\n",
    "print(np.shares_memory(c, r))"
   ]
  },
  {
   "cell_type": "markdown",
   "metadata": {},
   "source": [
    "# Concaténation de tableaux\n",
    "Soient 2 tableaux a et b, comportant le même nombre de ligne, on désire construire le tableau augmenté a | b"
   ]
  },
  {
   "cell_type": "code",
   "execution_count": null,
   "metadata": {},
   "outputs": [],
   "source": [
    "a=np.arange(12).reshape(3, 4)\n",
    "b=a+10\n",
    "print('tableau a'+'-'*20)\n",
    "print(a)\n",
    "print('tableau b'+'-'*20)\n",
    "print(b)\n",
    "print('tableau hs'+'-'*20)\n",
    "hs=np.hstack((a, b))\n",
    "print(hs)"
   ]
  },
  {
   "cell_type": "markdown",
   "metadata": {},
   "source": [
    "Autre approche avec np.concatenate"
   ]
  },
  {
   "cell_type": "code",
   "execution_count": null,
   "metadata": {},
   "outputs": [],
   "source": [
    "np.concatenate((a, b), axis=1)"
   ]
  },
  {
   "cell_type": "markdown",
   "metadata": {},
   "source": [
    "Généralisation suivant les autres directions"
   ]
  },
  {
   "cell_type": "code",
   "execution_count": 6,
   "metadata": {},
   "outputs": [
    {
     "name": "stdout",
     "output_type": "stream",
     "text": [
      "[[ 0  1  2  3]\n",
      " [ 4  5  6  7]\n",
      " [ 8  9 10 11]\n",
      " [10 11 12 13]\n",
      " [14 15 16 17]\n",
      " [18 19 20 21]]\n",
      "--------------------\n",
      "[[[ 0 10]\n",
      "  [ 1 11]\n",
      "  [ 2 12]\n",
      "  [ 3 13]]\n",
      "\n",
      " [[ 4 14]\n",
      "  [ 5 15]\n",
      "  [ 6 16]\n",
      "  [ 7 17]]\n",
      "\n",
      " [[ 8 18]\n",
      "  [ 9 19]\n",
      "  [10 20]\n",
      "  [11 21]]]\n"
     ]
    }
   ],
   "source": [
    "a=np.arange(12).reshape(3, 4)\n",
    "b=a+10\n",
    "vs=np.vstack((a, b))\n",
    "print(vs)\n",
    "print('-'*20)\n",
    "ds=np.dstack((a, b))\n",
    "print(ds)"
   ]
  },
  {
   "cell_type": "markdown",
   "metadata": {},
   "source": [
    "# Itérer sur un tableau bidimensionnel"
   ]
  },
  {
   "cell_type": "code",
   "execution_count": 8,
   "metadata": {},
   "outputs": [
    {
     "name": "stdout",
     "output_type": "stream",
     "text": [
      "0 0 0\n",
      "0 1 1\n",
      "0 2 2\n",
      "0 3 3\n",
      "1 0 4\n",
      "1 1 5\n",
      "1 2 6\n",
      "1 3 7\n",
      "2 0 8\n",
      "2 1 9\n",
      "2 2 10\n",
      "2 3 11\n"
     ]
    }
   ],
   "source": [
    "# premiere methode\n",
    "a=np.arange(12).reshape(3, 4)\n",
    "Nrows, Ncols = a.shape # recuperation du nombre de lignes et de colonnes\n",
    "for i in range(Nrows):\n",
    "    for j in range(Ncols):\n",
    "        print(i, j, a[i,j])"
   ]
  },
  {
   "cell_type": "markdown",
   "metadata": {},
   "source": [
    "Avant de développer une autre approche, regardons ce que donne :"
   ]
  },
  {
   "cell_type": "code",
   "execution_count": 15,
   "metadata": {},
   "outputs": [
    {
     "name": "stdout",
     "output_type": "stream",
     "text": [
      "[(0, array([0, 1, 2, 3])), (1, array([4, 5, 6, 7])), (2, array([ 8,  9, 10, 11]))]\n",
      "--------------------\n",
      "0 => [0 1 2 3]\n",
      "1 => [4 5 6 7]\n",
      "2 => [ 8  9 10 11]\n"
     ]
    }
   ],
   "source": [
    "# A Analyser\n",
    "print(list(enumerate(a))) # expliquer\n",
    "\n",
    "print('-'*20)\n",
    "for nrow, row in enumerate(a):\n",
    "    print(nrow, '=>', row)"
   ]
  },
  {
   "cell_type": "markdown",
   "metadata": {},
   "source": [
    "* Exercice : comprendre la méthode décrite ci-dessous:"
   ]
  },
  {
   "cell_type": "code",
   "execution_count": 14,
   "metadata": {},
   "outputs": [
    {
     "name": "stdout",
     "output_type": "stream",
     "text": [
      "0 0 => 0\n",
      "0 1 => 1\n",
      "0 2 => 2\n",
      "0 3 => 3\n",
      "1 0 => 4\n",
      "1 1 => 5\n",
      "1 2 => 6\n",
      "1 3 => 7\n",
      "2 0 => 8\n",
      "2 1 => 9\n",
      "2 2 => 10\n",
      "2 3 => 11\n"
     ]
    }
   ],
   "source": [
    "# seconde methode\n",
    "for nrow, row in enumerate(a):\n",
    "    for ncol, val in enumerate(row):\n",
    "        print(nrow, ncol, '=>', val)"
   ]
  },
  {
   "cell_type": "markdown",
   "metadata": {},
   "source": [
    "# Protéger un tableau numpy de l'écriture\n",
    "Autrement dit, les éléments du tableau sont seulement accessibles en lecture.\n",
    "Impossible de modifier ses valeurs."
   ]
  },
  {
   "cell_type": "code",
   "execution_count": 16,
   "metadata": {},
   "outputs": [
    {
     "name": "stdout",
     "output_type": "stream",
     "text": [
      "lecture  0\n",
      "a[0]=1\n",
      "a est protégé en écriture\n"
     ]
    }
   ],
   "source": [
    "import numpy as np\n",
    "a=np.arange(10)\n",
    "a.setflags(write=False) # protection en écriture\n",
    "print('lecture ', a[0])\n",
    "try:\n",
    "    a[0]=1\n",
    "except ValueError:\n",
    "    print('a[0]=1')\n",
    "    print('a est protégé en écriture')"
   ]
  }
 ],
 "metadata": {
  "anaconda-cloud": {},
  "kernelspec": {
   "display_name": "Python 3 (ipykernel)",
   "language": "python",
   "name": "python3"
  },
  "language_info": {
   "codemirror_mode": {
    "name": "ipython",
    "version": 3
   },
   "file_extension": ".py",
   "mimetype": "text/x-python",
   "name": "python",
   "nbconvert_exporter": "python",
   "pygments_lexer": "ipython3",
   "version": "3.9.13"
  }
 },
 "nbformat": 4,
 "nbformat_minor": 1
}
