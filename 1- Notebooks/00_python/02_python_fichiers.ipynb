{
 "cells": [
  {
   "cell_type": "markdown",
   "metadata": {},
   "source": [
    "# Le langage Python  -  les fichiers\n"
   ]
  },
  {
   "cell_type": "markdown",
   "metadata": {},
   "source": [
    "### Ouverture et fermeture des fichiers\n"
   ]
  },
  {
   "cell_type": "code",
   "execution_count": null,
   "metadata": {},
   "outputs": [],
   "source": [
    "with open('data', 'w') as f:\n",
    "    s='toto'\n",
    "    f.write(s + '\\n')\n",
    "    l=['a', 'b', 'c']\n",
    "    f.writelines(l)\n",
    "    f.close() # pas nécessaire avec un with\n",
    "\n",
    "\n",
    "with open('data', 'r') as f:\n",
    "    s=f.readline()\n",
    "    print(s)\n",
    "    s=f.readline()\n",
    "    print(s)\n"
   ]
  },
  {
   "cell_type": "markdown",
   "metadata": {},
   "source": [
    "### Sauvegarde de données dans fichier ASCII\n",
    "\n",
    "\n",
    "Exemple de sauvegarde de données dans un fichier ASCII format float\n",
    "\n"
   ]
  },
  {
   "cell_type": "code",
   "execution_count": 1,
   "metadata": {},
   "outputs": [
    {
     "name": "stdout",
     "output_type": "stream",
     "text": [
      "  +0.00000   +1.00000\n",
      "  +0.78540   +0.70711\n",
      "  +1.57080   +0.00000\n",
      "  +2.35619   -0.70711\n"
     ]
    }
   ],
   "source": [
    "import math\n",
    "with open('data', 'w') as f:\n",
    "    for k in range(4):\n",
    "        x=math.pi*k/4\n",
    "        str=f'{x:+10.5f} {math.cos(x):+10.5f}'\n",
    "        print(str)\n",
    "        f.write(str + '\\n')"
   ]
  },
  {
   "cell_type": "markdown",
   "metadata": {},
   "source": [
    "### Lecture de données ASCII\n",
    "Exemple de lecture de données depuis un fichier ASCII\n",
    "\n",
    "1ère version : lecture ligne à ligne"
   ]
  },
  {
   "cell_type": "code",
   "execution_count": null,
   "metadata": {},
   "outputs": [],
   "source": [
    "x=[]\n",
    "y=[]\n",
    "\n",
    "with open('data', 'r') as f:\n",
    "    for line in f:\n",
    "        lst = line.split()\n",
    "        #print(lst)\n",
    "        x.append(float(lst[0]))\n",
    "        y.append(float(lst[1]))      \n",
    "\n",
    "print(x)\n",
    "print(y)"
   ]
  },
  {
   "cell_type": "markdown",
   "metadata": {},
   "source": [
    "2ème version :  lecture de toutes les lignes"
   ]
  },
  {
   "cell_type": "code",
   "execution_count": null,
   "metadata": {},
   "outputs": [],
   "source": [
    "x=[]\n",
    "y=[]\n",
    "\n",
    "with open('data', 'r') as f:\n",
    "    lines=f.readlines()\t# lecture de toutes les lignes dans la liste lines\n",
    "    \n",
    "for line in lines:\n",
    "    lst = line.split()\n",
    "    x.append(float(lst[0])) # conversion vers float\n",
    "    y.append(float(lst[1]))        \n",
    "\n",
    "print(x)\n",
    "print(y)\n"
   ]
  }
 ],
 "metadata": {
  "anaconda-cloud": {},
  "kernelspec": {
   "display_name": "Python 3 (ipykernel)",
   "language": "python",
   "name": "python3"
  },
  "language_info": {
   "codemirror_mode": {
    "name": "ipython",
    "version": 3
   },
   "file_extension": ".py",
   "mimetype": "text/x-python",
   "name": "python",
   "nbconvert_exporter": "python",
   "pygments_lexer": "ipython3",
   "version": "3.11.7"
  }
 },
 "nbformat": 4,
 "nbformat_minor": 1
}
