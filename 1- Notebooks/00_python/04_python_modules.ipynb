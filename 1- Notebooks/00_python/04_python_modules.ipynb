{
 "cells": [
  {
   "cell_type": "markdown",
   "metadata": {},
   "source": [
    "# Le langage Python  -  les modules de base\n"
   ]
  },
  {
   "cell_type": "markdown",
   "metadata": {},
   "source": [
    "#  Le module math"
   ]
  },
  {
   "cell_type": "code",
   "execution_count": null,
   "metadata": {},
   "outputs": [],
   "source": [
    "import math\n",
    "x=math.pi/3\n",
    "print(math.cos(x))\n",
    "#help(math)\n",
    "\n",
    "from math import cos, sin\n",
    "print(cos(x), sin(x))"
   ]
  },
  {
   "cell_type": "markdown",
   "metadata": {},
   "source": [
    "# Le module random\n",
    "Le module random propose diverses fonctions permettant de générer\n",
    "des nombres pseudo-aléatoires qui suivents differentes distributions math."
   ]
  },
  {
   "cell_type": "code",
   "execution_count": null,
   "metadata": {},
   "outputs": [],
   "source": [
    "import random\n",
    "#random.seed(1232691) # initialise la graine\n",
    "\n",
    "r=random.randrange(0, 10, 2)# choisit un entier aleatoirement dans range(p,n,h)\n",
    "print('rand ', r)\n",
    "\n",
    "r=random.randrange(0, 10, 2)# choisit un entier aleatoirement dans range(p,n,h)\n",
    "print('rand ', r)\n",
    "\n",
    "r=random.randint(0, 10)\n",
    "# choisit un entier N aleatoirement tel que\n",
    "# a <= N <= b.\n",
    "r=random.choice([0, 1, 2, 3])# choisit un aleatoirement dans la sequence seq\n",
    "\n",
    "r=random.random()# renvoie un decimal aleatoire dans [0,1[\n",
    "\n",
    "r=random.uniform(0, 1)\n",
    "# choisit un reel N aleatoirement, tel que\n",
    "# a <= N < b si a<b\n",
    "print(r)"
   ]
  },
  {
   "cell_type": "markdown",
   "metadata": {},
   "source": [
    "### Exemple de création d'un module pour calculer $\\pi$\n",
    "\n",
    "On considère 3 méthodes de calcul de $\\pi$.\n",
    "\n",
    "Méthode de Leibniz\n",
    "Utilise une série alternée pour approximer $\\pi$. \n",
    "\n",
    "La formule est : \n",
    "$\n",
    "\\pi \\approx 4 \\left( 1 - \\frac{1}{3} + \\frac{1}{5} - \\frac{1}{7} + \\frac{1}{9} - \\ldots \\right).\n",
    "$\n",
    "\n",
    "Méthode de Monte Carlo\n",
    "Utilise une méthode probabilistique basée sur la simulation. \n",
    "On génère des points aléatoires dans un carré unité et calcule la proportion de points à l'intérieur du quart de cercle unité.\n",
    "\n",
    "Méthode de la série de Nilakantha\n",
    "Utilise une série convergente pour approximer $\\pi$. \n",
    "\n",
    "La formule est : \n",
    "$\n",
    "\\pi \\approx 3 + \\frac{4}{2 \\cdot 3 \\cdot 4} - \\frac{4}{4 \\cdot 5 \\cdot 6} + \\frac{4}{6 \\cdot 7 \\cdot 8} - \\ldots\n",
    "$\n",
    "\n",
    "Le fichier module_pi.py contient l'implémentation des 3 méthodes et est reproduit ci-après:"
   ]
  },
  {
   "cell_type": "code",
   "execution_count": null,
   "metadata": {},
   "outputs": [],
   "source": [
    "# Contenu du fichier module_pi.py\n",
    "import random\n",
    "import math\n",
    "\n",
    "# Méthode de Leibniz\n",
    "def pi_leibniz(n_terms):\n",
    "    \"\"\"Méthode de Leibniz\"\"\"\n",
    "    pi_approx = 0\n",
    "    for k in range(n_terms):\n",
    "        pi_approx += (-1)**k / (2*k + 1)\n",
    "    return 4 * pi_approx\n",
    "\n",
    "# Méthode de Monte Carlo\n",
    "def pi_monte_carlo(n_points):\n",
    "    \"\"\"Méthode de Monte Carlo\"\"\"\n",
    "    inside_circle = 0\n",
    "    for _ in range(n_points):\n",
    "        x, y = random.random(), random.random()\n",
    "        if x**2 + y**2 <= 1:\n",
    "            inside_circle += 1\n",
    "    return (inside_circle / n_points) * 4\n",
    "\n",
    "# Méthode de la série de Nilakantha\n",
    "def pi_nilakantha(n_terms):\n",
    "    \"\"\"Méthode de la série de Nilakantha\"\"\"\n",
    "    pi_approx = 3\n",
    "    sign = 1\n",
    "    for i in range(2, 2 * n_terms + 1, 2):\n",
    "        pi_approx += sign * (4 / (i * (i + 1) * (i + 2)))\n",
    "        sign *= -1\n",
    "    return pi_approx\n",
    "\n",
    "# Exemple d'utilisation des méthodes\n",
    "if __name__ == \"__main__\":\n",
    "    terms = 10000\n",
    "    points = 10000\n",
    "\n",
    "    print(\"Approximation de Pi avec la méthode de Leibniz :\", pi_leibniz(terms))\n",
    "    print(\"Approximation de Pi avec la méthode de Monte Carlo :\", pi_monte_carlo(points))\n",
    "    print(\"Approximation de Pi avec la méthode de Nilakantha :\", pi_nilakantha(terms))\n"
   ]
  },
  {
   "cell_type": "markdown",
   "metadata": {},
   "source": [
    "Utilisation du module :"
   ]
  },
  {
   "cell_type": "code",
   "execution_count": null,
   "metadata": {},
   "outputs": [],
   "source": [
    "import module_pi\n",
    "\n",
    "terms = 10000\n",
    "points = 10000\n",
    "\n",
    "# Utiliser les différentes méthodes pour calculer Pi\n",
    "pi_leibniz = module_pi.pi_leibniz(terms)\n",
    "pi_monte_carlo = module_pi.pi_monte_carlo(points)\n",
    "pi_nilakantha = module_pi.pi_nilakantha(terms)\n",
    "\n",
    "print(\"Approximation de Pi avec la méthode de Leibniz :\", pi_leibniz)\n",
    "print(\"Approximation de Pi avec la méthode de Monte Carlo :\", pi_monte_carlo)\n",
    "print(\"Approximation de Pi avec la méthode de Nilakantha :\", pi_nilakantha)\n"
   ]
  },
  {
   "cell_type": "markdown",
   "metadata": {},
   "source": [
    "#  Comment travailler avec plusieurs fichiers\n",
    "\n",
    "### 1- Dans le même dossier\n",
    "\n",
    "- On peut importer les fonctions définies dans un autre fichier du même répertoire\n"
   ]
  },
  {
   "cell_type": "code",
   "execution_count": null,
   "metadata": {},
   "outputs": [],
   "source": [
    "import fichier2\n",
    "from fichier3 import fonction3\n",
    "\n",
    "fichier2.fonction1()\n",
    "fonction3()"
   ]
  },
  {
   "cell_type": "markdown",
   "metadata": {},
   "source": [
    "- Il est également possible d'importer les fonctions définies dans un sous-dossier."
   ]
  },
  {
   "cell_type": "code",
   "execution_count": null,
   "metadata": {},
   "outputs": [],
   "source": [
    "from sous_dossier import fichier1\n",
    "from sous_dossier.fichier2 import fonction2\n",
    "import sous_dossier.fichier3 as f3\n",
    "\n",
    "fichier1.fonction1()\n",
    "fonction2()\n",
    "f3.fonction3()"
   ]
  },
  {
   "cell_type": "markdown",
   "metadata": {},
   "source": [
    "# 2- Création d'un module\n",
    "Si l'on souhaite utiliser des fonctions définies dans un dossier quelconque, la solution recommandée est de créer un module.\n",
    "Cela sort du cadre de cet enseignement, mais les 2 étapes principales sont :\n",
    "- Création d'un répertoire contenant les fichiers source ainsi que quelques fichiers spécifiques.\n",
    "- Installation en tant que librairie avec la commande \"pip install\" (éventuellement avec l'option -e si on souhaite pouvoir modifer la librairie après son installation)"
   ]
  }
 ],
 "metadata": {
  "anaconda-cloud": {},
  "kernelspec": {
   "display_name": "Python 3 (ipykernel)",
   "language": "python",
   "name": "python3"
  },
  "language_info": {
   "codemirror_mode": {
    "name": "ipython",
    "version": 3
   },
   "file_extension": ".py",
   "mimetype": "text/x-python",
   "name": "python",
   "nbconvert_exporter": "python",
   "pygments_lexer": "ipython3",
   "version": "3.11.7"
  }
 },
 "nbformat": 4,
 "nbformat_minor": 1
}
