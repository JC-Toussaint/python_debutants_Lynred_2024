{
 "cells": [
  {
   "cell_type": "markdown",
   "metadata": {},
   "source": [
    "# Création d'objets\n",
    "\n",
    "Créer un objet permet de regrouper des données et fonctions partageant un contexte commum. Il s'agit d'un moyen de clarifier le code, mais cela n'apporte pas de fonctionnalité supplémentaire. On pourrait tout coder sans utiliser d'objet, mais pour un programme complexe, il est intéressant d'utiliser l'approche objet pour simplifier le le développement du code et améliorer sa maintenabilité.\n",
    "\n",
    "Il faut distinguer deux types d'entités :\n",
    "- Une description de l'objet nommée classe.\n",
    "- Les objets instanciés à partir de la classe. Chaque objet instancié possède ses propres données.\n",
    "\n",
    "## 1- Définition d'une classe\n",
    "\n",
    "L'idée est de définir un patron à partir duquel on pourra \"fabriquer\" des objets. Ce patron contient 2 types d'informations :\n",
    "- Les données internes à l'objet (données membre ou propriétés)\n",
    "- Les fonctions spécifiques à l'objet (méthodes)\n",
    "\n",
    "### 1.1 Initialisation\n",
    "\n",
    "- mot-clé `class` => début de la définition d'une classe. Il s'agit d'un bloc, défini par l'indentation\n",
    "- fonction spéciale def \\_\\_init__ (self) => initialisation des données\n",
    "\n",
    "Note 1: le mot-clé `self` permet de faire référence à l'objet qui sera instancié. Il faut absolument mettre cet argument en premier dans toutes les méthodes d'une classe.\n",
    "\n",
    "Note 2: Il est d'usage de nommer les classes avec un nom qui commence par une majuscule.\n"
   ]
  },
  {
   "cell_type": "code",
   "execution_count": null,
   "metadata": {},
   "outputs": [],
   "source": [
    "class Personne:\n",
    "    def __init__(self, nom, prenom, annee_de_naissance):\n",
    "        self.nom = nom\n",
    "        self.prenom = prenom\n",
    "        self.annee = annee_de_naissance\n"
   ]
  },
  {
   "cell_type": "markdown",
   "metadata": {},
   "source": [
    "### 1.2 Instanciation et utilisation d'un objet\n",
    "\n",
    "Maintenant que la classe Personne a été définie, il est possible de l'utiliser.\n",
    "- Pour créer un objet, on utilise le nom de la classe en passant en paramètre les valeurs arguments de la fonction \\_\\_init__ (sauf self)\n",
    "- Pour accéder aux propriétés de l'objet, on utilise l'opérateur `.` sur l'objet instancié"
   ]
  },
  {
   "cell_type": "code",
   "execution_count": null,
   "metadata": {},
   "outputs": [],
   "source": [
    "# création d'un objet de type Personne\n",
    "p1= Personne(\"Doe\", \"john\", 2001)\n",
    "\n",
    "# lecture de la  propriété 'age' de p1\n",
    "print(\"L'année de naissance de cette personne est :\", p1.annee)\n",
    "\n",
    "# modification de la propriété 'age' de p1\n",
    "p1.annee = 2024\n",
    "print(\"L'annee de naissance de cette personne est :\", p1.annee)"
   ]
  },
  {
   "cell_type": "markdown",
   "metadata": {},
   "source": [
    "### 1.3 définition et utilisation de méthodes de classe\n",
    "\n",
    "Pour définir une méthode, on se place dans la définition de la classe et on crée une fonction. Cette fonction aura nécessairement comme premier argument `self`\n",
    "\n",
    "Pour utiliser une méthode, on utilise l'opérateur `.` sur un objet instancié, comme pour les propriétés"
   ]
  },
  {
   "cell_type": "code",
   "execution_count": null,
   "metadata": {},
   "outputs": [],
   "source": [
    "class Personne:\n",
    "    def __init__(self, nom, prenom, annee_de_naissance):\n",
    "        self.nom = nom\n",
    "        self.prenom = prenom\n",
    "        self.annee = annee_de_naissance\n",
    "\n",
    "    def salutation(self):\n",
    "        salut = f\"Bonjour, je m'appelle {self.prenom} {self.nom} et je suis né en {self.annee}.\"\n",
    "        print(salut)\n",
    "\n",
    "p1= Personne(\"Doe\", \"John\", 1865)\n",
    "p1.salutation()    "
   ]
  },
  {
   "cell_type": "markdown",
   "metadata": {},
   "source": [
    "### Exercice 1: \n",
    "1) Créer une méthode age() qui renvoie l'age d'une Personne puis la tester\n",
    "2) Dans une seconde cellule, utilisez à la place de la méthode age une propriété age, qui est crée lors de l'initialisation de l'objet . Testez ensuite cette approche"
   ]
  },
  {
   "cell_type": "code",
   "execution_count": null,
   "metadata": {},
   "outputs": [],
   "source": [
    "# version 1) : méthode age()\n",
    "import datetime\n",
    "annee_actuelle = datetime.datetime.now().year\n",
    "\n",
    "class Personne:\n",
    "    def __init__(self, nom, prenom, annee_de_naissance):\n",
    "        self.nom = nom\n",
    "        self.prenom = prenom\n",
    "        self.annee = annee_de_naissance\n",
    "\n",
    "    def salutation(self):\n",
    "        salut = f\"Bonjour, je m'appelle {self.prenom} {self.nom} et je suis né en {self.annee}.\"\n",
    "        print(salut)"
   ]
  },
  {
   "cell_type": "code",
   "execution_count": null,
   "metadata": {},
   "outputs": [],
   "source": [
    "# version 2) : propriété age\n",
    "import datetime\n",
    "annee_actuelle = datetime.datetime.now().year\n",
    "\n",
    "class Personne:\n",
    "    def __init__(self, nom, prenom, annee_de_naissance):\n",
    "        self.nom = nom\n",
    "        self.prenom = prenom\n",
    "        self.annee = annee_de_naissance\n",
    "\n",
    "    def salutation(self):\n",
    "        salut = f\"Bonjour, je m'appelle {self.prenom} {self.nom} et je suis né en {self.annee}.\"\n",
    "        print(salut)"
   ]
  },
  {
   "cell_type": "markdown",
   "metadata": {},
   "source": [
    "## 2 - Accès sécurisé aux données\n",
    "### 2.1 @property\n",
    "\n",
    "Il est possible de définir une propriété \"sécurisée\" en utilisant le décorateur @property avant une méthode.\n",
    "Cela permet de transformer une méthode en propriété. Cela permet d'avoir la simplicité d'utilisation d'une propriété tout en s'assurant que l'utilisateur ne puisse pas modifier directement la propriété"
   ]
  },
  {
   "cell_type": "code",
   "execution_count": null,
   "metadata": {},
   "outputs": [],
   "source": [
    "import datetime\n",
    "\n",
    "class Personne:\n",
    "    def __init__(self, nom, prenom, annee_de_naissance):\n",
    "        self.nom = nom\n",
    "        self.prenom = prenom\n",
    "        self.annee = annee_de_naissance\n",
    "\n",
    "    @property\n",
    "    def age(self):\n",
    "        annee_actuelle = datetime.datetime.now().year\n",
    "        return annee_actuelle-self.annee\n",
    "\n",
    "    def salutation(self):\n",
    "        salut = f\"Bonjour, je m'appelle {self.prenom} {self.nom} et je suis né en {self.annee}.\"\n",
    "        print(salut)\n",
    "\n",
    "p1= Personne(\"Doe\", \"John\", 1965)\n",
    "print(p1.age)   # p1.age et non p1.age() !!!"
   ]
  },
  {
   "cell_type": "markdown",
   "metadata": {},
   "source": [
    "### 2.2 @setter\n",
    "\n",
    "Si l'on souhaite que l'utilisateur puisse modifier la valeur d'une propriété définie avec @property, il faut créer une fonction décorée par `@setter`.\n",
    "\n",
    "Une fois de plus, cela simplifie l'utilisation tout en permettant un contrôle de la manière dont l'utilisateur peut modifier la valeur de la propriété."
   ]
  },
  {
   "cell_type": "code",
   "execution_count": null,
   "metadata": {},
   "outputs": [],
   "source": [
    "import datetime\n",
    "\n",
    "class Personne:\n",
    "    def __init__(self, nom, prenom, annee_de_naissance):\n",
    "        annee_actuelle = datetime.datetime.now().year\n",
    "        self.nom = nom\n",
    "        self.prenom = prenom\n",
    "        self.annee = annee_de_naissance\n",
    "\n",
    "    @property\n",
    "    def age(self):\n",
    "        annee_actuelle = datetime.datetime.now().year\n",
    "        return annee_actuelle - self.annee\n",
    "    \n",
    "    @age.setter\n",
    "    def age(self, valeur):\n",
    "        if valeur<0: raise ValueError(\"impossible de fixer un age négatif\")\n",
    "        annee_actuelle = datetime.datetime.now().year\n",
    "        self.annee = annee_actuelle - valeur\n",
    "\n",
    "    def salutation(self):\n",
    "        salut = f\"Bonjour, je m'appelle {self.prenom} {self.nom} et j'ai' {self.age} ans.\"\n",
    "        print(salut)\n",
    "\n",
    "p1= Personne(\"Doe\", \"John\", 1965)\n",
    "print(p1.age)\n",
    "p1.age = 10\n",
    "print(p1.age)"
   ]
  },
  {
   "cell_type": "markdown",
   "metadata": {},
   "source": [
    "### 2.3 propriété privée\n",
    "\n",
    "Si l'on souhaite avoir une propriété que seule la classe peut utiliser mais dont l'accès par un utilisateur de la classe est contrôlé, il est possible de définir une propriété privée. Le nom de cette propriété commence par \\__ (double underscore)\n",
    "\n",
    "Un utilisatuer de la classe ne peut pas accéder à cette propriété"
   ]
  },
  {
   "cell_type": "code",
   "execution_count": null,
   "metadata": {},
   "outputs": [],
   "source": [
    "import datetime\n",
    "\n",
    "class Personne:\n",
    "    def __init__(self, nom, prenom, annee_de_naissance):\n",
    "        self.nom = nom\n",
    "        self.prenom = prenom\n",
    "        self.verif_annee(annee_de_naissance)\n",
    "        self.__annee = annee_de_naissance\n",
    "\n",
    "    def verif_annee(self, annee):\n",
    "        annee_actuelle = datetime.datetime.now().year\n",
    "        if annee > annee_actuelle: raise ValueError(\"Impossible de spécifier une année de naissance dans le futur\")\n",
    "\n",
    "    def salutation(self):\n",
    "        salut = f\"Bonjour, je m'appelle {self.prenom} {self.nom} et je suis né en {self.__annee}.\"\n",
    "        print(salut)\n",
    "\n",
    "p1= Personne(\"Doe\", \"John\", 1965)\n",
    "p1.salutation()\n",
    "print(p1.__annee)"
   ]
  },
  {
   "cell_type": "markdown",
   "metadata": {},
   "source": [
    "### Exercice 2\n",
    "\n",
    "En utilisant les `@property` et `@setter`, faites en sorte que l'utilisateur puisse voir et modifier l'année de naissance d'un objet `Personne` tout en interdisant de fixer cette propriété à une année située dans le futur."
   ]
  },
  {
   "cell_type": "code",
   "execution_count": null,
   "metadata": {},
   "outputs": [],
   "source": [
    "import datetime\n",
    "\n",
    "class Personne:\n",
    "    def __init__(self, nom, prenom, annee_de_naissance):\n",
    "        self.nom = nom\n",
    "        self.prenom = prenom\n",
    "        self.verif_annee(annee_de_naissance)\n",
    "        self.__annee = annee_de_naissance\n",
    "\n",
    "    def verif_annee(self, annee):\n",
    "        annee_actuelle = datetime.datetime.now().year\n",
    "        if annee > annee_actuelle: raise ValueError(\"Impossible de spécifier une année de naissance dans le futur\")\n",
    "\n",
    "    def salutation(self):\n",
    "        salut = f\"Bonjour, je m'appelle {self.prenom} {self.nom} et je suis né en {self.__annee}.\"\n",
    "        print(salut)\n",
    "\n",
    "    #### A COMPLETER\n",
    "\n",
    "p1= Personne(\"Doe\", \"John\", 1965)\n",
    "p1.salutation()\n",
    "print(p1.annee)"
   ]
  },
  {
   "cell_type": "markdown",
   "metadata": {},
   "source": [
    "## 3 - Héritage\n",
    "\n",
    "Il est possible de créer une classe qui reprend et étend les capacités d'une autre classe. On parle alors de classe fille, qui dérive d'une classe mère. La classe fille représente généralement une spécialisation de la classe mère.\n",
    "\n",
    "Nous ne travaillerons pas beaucoup cette notion mais nous présentons ici un exemple : la classe `Musicien`, qui dérive de la classe 'Personne'.\n",
    "\n",
    "Notez dans cette exemple qu'il est possible de redéfinir une méthode déjà existante. Dans ce cas c'est la méthode fille qui sera utilisée. Les méthodes non redéfinies et les propriétés de la classe mère font également partie de la classe fille sans qu'il y ait besoin de les réécrire. Il est également bien entendu possible d'ajouter des propriétés et méthodes qui n'existent pas dans la classe mère.\n",
    "\n",
    "Note 2 : la fonction `super()` fait référence à la classe mère"
   ]
  },
  {
   "cell_type": "code",
   "execution_count": null,
   "metadata": {},
   "outputs": [],
   "source": [
    "class Musicien(Personne):\n",
    "    def __init__(self, nom, prenom, annee_de_naissance, instrument):\n",
    "        super().__init__(nom, prenom, annee_de_naissance)\n",
    "        self.instrument = instrument\n",
    "\n",
    "    def salutation(self):\n",
    "        super().salutation()\n",
    "        print(f\"Par ailleurs, je suis musicien et je joue du {self.instrument}\")\n",
    "\n",
    "    def jouer(self):\n",
    "        print (f\"{self.prenom} accorde son {self.instrument} et commence à jouer\")\n",
    "\n",
    "p1= Musicien(\"Coltrane\", \"John\", 1926, \"saxophone\")\n",
    "p1.salutation()\n",
    "p1.jouer()\n",
    "print(p1.nom)\n"
   ]
  }
 ],
 "metadata": {
  "kernelspec": {
   "display_name": "base",
   "language": "python",
   "name": "python3"
  },
  "language_info": {
   "codemirror_mode": {
    "name": "ipython",
    "version": 3
   },
   "file_extension": ".py",
   "mimetype": "text/x-python",
   "name": "python",
   "nbconvert_exporter": "python",
   "pygments_lexer": "ipython3",
   "version": "3.9.13"
  }
 },
 "nbformat": 4,
 "nbformat_minor": 2
}
