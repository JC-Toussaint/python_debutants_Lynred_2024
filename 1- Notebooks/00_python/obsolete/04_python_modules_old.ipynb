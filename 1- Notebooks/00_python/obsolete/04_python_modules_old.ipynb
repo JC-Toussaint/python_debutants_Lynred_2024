{
 "cells": [
  {
   "cell_type": "markdown",
   "metadata": {},
   "source": [
    "# Le langage Python  -  les modules de base\n"
   ]
  },
  {
   "cell_type": "markdown",
   "metadata": {},
   "source": [
    "#  Le module math"
   ]
  },
  {
   "cell_type": "code",
   "execution_count": null,
   "metadata": {},
   "outputs": [],
   "source": [
    "import math\n",
    "x=math.pi/3\n",
    "print(math.cos(x))\n",
    "#help(math)\n",
    "\n",
    "from math import cos, sin\n",
    "print(cos(x), sin(x))"
   ]
  },
  {
   "cell_type": "markdown",
   "metadata": {},
   "source": [
    "# Le module random\n",
    "Le module random propose diverses fonctions permettant de générer\n",
    "des nombres pseudo-aléatoires qui suivents differentes distributions math."
   ]
  },
  {
   "cell_type": "code",
   "execution_count": null,
   "metadata": {},
   "outputs": [],
   "source": [
    "import random\n",
    "#random.seed(1232691) # initialise la graine\n",
    "\n",
    "r=random.randrange(0, 10, 2)# choisit un entier aleatoirement dans range(p,n,h)\n",
    "print('rand ', r)\n",
    "\n",
    "r=random.randrange(0, 10, 2)# choisit un entier aleatoirement dans range(p,n,h)\n",
    "print('rand ', r)\n",
    "\n",
    "r=random.randint(0, 10)\n",
    "# choisit un entier N aleatoirement tel que\n",
    "# a <= N <= b.\n",
    "r=random.choice([0, 1, 2, 3])# choisit un aleatoirement dans la sequence seq\n",
    "\n",
    "r=random.random()# renvoie un decimal aleatoire dans [0,1[\n",
    "\n",
    "r=random.uniform(0, 1)\n",
    "# choisit un reel N aleatoirement, tel que\n",
    "# a <= N < b si a<b\n",
    "print(r)"
   ]
  },
  {
   "cell_type": "markdown",
   "metadata": {},
   "source": [
    "#  Comment créer son propre \"package\"\n",
    "On a créé un répertoire  **fibonacci** contenant  les  scripts \\_\\_init\\_\\_.py et fib_gen.py.\n",
    "Le premier est exécuté lors de l'importation.\n"
   ]
  },
  {
   "cell_type": "code",
   "execution_count": null,
   "metadata": {},
   "outputs": [],
   "source": [
    "#__init__.py\n",
    "print('module fibonacci imported')"
   ]
  },
  {
   "cell_type": "code",
   "execution_count": null,
   "metadata": {},
   "outputs": [],
   "source": [
    "#fib_gen.py\n",
    "\"\"\" fibonacci series \"\"\"\n",
    "\n",
    "def fib_gen(n):   # return Fibonacci series up to n\n",
    "    result = []\n",
    "    a, b = 0, 1\n",
    "    while b < n:\n",
    "        result.append(b)\n",
    "        a, b = b, a+b\n",
    "    return result\n",
    "\n",
    "# test de la fonction fib\n",
    "if __name__ == \"__main__\":\n",
    "    print(fib_gen(10))"
   ]
  },
  {
   "cell_type": "markdown",
   "metadata": {},
   "source": [
    "Exemple de programme  test  utilisant le package fibonacci"
   ]
  },
  {
   "cell_type": "code",
   "execution_count": null,
   "metadata": {},
   "outputs": [],
   "source": [
    "from fibonacci.fib_gen import *\n",
    "\n",
    "# test de la fonction table\n",
    "if __name__ == \"__main__\":\n",
    "    print(fib_gen(10))"
   ]
  }
 ],
 "metadata": {
  "anaconda-cloud": {},
  "kernelspec": {
   "display_name": "Python 3 (ipykernel)",
   "language": "python",
   "name": "python3"
  },
  "language_info": {
   "codemirror_mode": {
    "name": "ipython",
    "version": 3
   },
   "file_extension": ".py",
   "mimetype": "text/x-python",
   "name": "python",
   "nbconvert_exporter": "python",
   "pygments_lexer": "ipython3",
   "version": "3.11.7"
  }
 },
 "nbformat": 4,
 "nbformat_minor": 1
}
