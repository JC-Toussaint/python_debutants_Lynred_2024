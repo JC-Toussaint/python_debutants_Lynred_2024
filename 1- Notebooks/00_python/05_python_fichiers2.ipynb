{
 "cells": [
  {
   "cell_type": "markdown",
   "metadata": {},
   "source": [
    "# Sauvegarde et lecture de fichiers de données numériques avec numpy et pandas\n",
    "\n",
    "### 1- numpy\n",
    "- La sauvegarde d'un tableau numpy peut se faire au format ASCII ou au format binaire. On utilise pour cela la fonction np.savetxt (format ascii) ou np.save (binaire) "
   ]
  },
  {
   "cell_type": "code",
   "execution_count": 11,
   "metadata": {},
   "outputs": [],
   "source": [
    "import numpy as np\n",
    "\n",
    "x = np.linspace(0,1,20)\n",
    "y = np.cos(x)\n",
    "z = np.vstack((x,y)).T\n",
    "\n",
    "np.savetxt(\"numpy_ascii.txt\", z)\n",
    "np.save(\"numpy_bin\", z)"
   ]
  },
  {
   "cell_type": "markdown",
   "metadata": {},
   "source": [
    "- la lecture d'un fichier enregistré par les fonctions np.save ou np.savetxt se fait avec la fonction load ou loadtxt."
   ]
  },
  {
   "cell_type": "code",
   "execution_count": 13,
   "metadata": {},
   "outputs": [
    {
     "name": "stdout",
     "output_type": "stream",
     "text": [
      "[[0.00000000e+00 1.00000000e+00]\n",
      " [5.00025001e-05 9.99999999e-01]\n",
      " [1.00005000e-04 9.99999995e-01]\n",
      " [1.50007500e-04 9.99999989e-01]\n",
      " [2.00010001e-04 9.99999980e-01]]\n",
      "----------------------------------------\n",
      "[[0.00000000e+00 1.00000000e+00]\n",
      " [5.00025001e-05 9.99999999e-01]\n",
      " [1.00005000e-04 9.99999995e-01]\n",
      " [1.50007500e-04 9.99999989e-01]\n",
      " [2.00010001e-04 9.99999980e-01]]\n"
     ]
    }
   ],
   "source": [
    "tab_bin = np.load(\"numpy_bin.npy\")\n",
    "tab_txt = np.loadtxt(\"numpy_ascii.txt\")\n",
    "\n",
    "print(tab_bin[:5])\n",
    "print('-'*40)\n",
    "print(tab_txt[:5])"
   ]
  },
  {
   "cell_type": "markdown",
   "metadata": {},
   "source": [
    "### 2- pandas\n",
    "La librairie pandas permet (entre autre !) la lecture et l'écriture de fichiers de données scientifiques. Elle supporte de nombreux types de fichiers donc le csv et le format excel.\n",
    "\n",
    "- création d'un objet `DataFrame`"
   ]
  },
  {
   "cell_type": "code",
   "execution_count": 3,
   "metadata": {},
   "outputs": [
    {
     "name": "stdout",
     "output_type": "stream",
     "text": [
      "   temps(s)  valeur fonction\n",
      "0   0.00000         1.000000\n",
      "1   0.10101         0.994903\n",
      "2   0.20202         0.979663\n",
      "3   0.30303         0.954437\n",
      "4   0.40404         0.919480\n"
     ]
    }
   ],
   "source": [
    "import pandas\n",
    "import numpy as np\n",
    "\n",
    "def fonction_compliquee(x):\n",
    "    return np.cos(x)\n",
    "\n",
    "x = np.linspace(0,10,100)\n",
    "y = fonction_compliquee(x)\n",
    "df = pandas.DataFrame({\"temps(s)\":x, \"valeur fonction\":y})\n",
    "print(df.head())"
   ]
  },
  {
   "cell_type": "markdown",
   "metadata": {},
   "source": [
    "- sauvegarde aux format csv et xlsx"
   ]
  },
  {
   "cell_type": "code",
   "execution_count": 4,
   "metadata": {},
   "outputs": [],
   "source": [
    "df.to_csv(\"data.csv\")\n",
    "df.to_excel(\"data.xlsx\")"
   ]
  },
  {
   "cell_type": "markdown",
   "metadata": {},
   "source": [
    "- lecture d'un fichier csv\n",
    "- lecture d'un fichier excel"
   ]
  },
  {
   "cell_type": "code",
   "execution_count": 11,
   "metadata": {},
   "outputs": [
    {
     "name": "stdout",
     "output_type": "stream",
     "text": [
      "   Unnamed: 0  temps(s)  valeur fonction\n",
      "0           0   0.00000         1.000000\n",
      "1           1   0.10101         0.994903\n",
      "2           2   0.20202         0.979663\n",
      "3           3   0.30303         0.954437\n",
      "4           4   0.40404         0.919480\n",
      "--------------------------------------------------\n",
      "   numero  temps(s)  valeur fonction\n",
      "0       0   0.00000         1.000000\n",
      "1       1   0.10101         0.994903\n",
      "2       2   0.20202         0.979663\n",
      "3       3   0.30303         0.954437\n",
      "4       4   0.40404         0.919480\n",
      "--------------------------------------------------\n",
      "(100, 3)\n",
      "[[0.         1.        ]\n",
      " [0.1010101  0.99490282]\n",
      " [0.2020202  0.97966323]\n",
      " [0.3030303  0.95443659]\n",
      " [0.4040404  0.91948007]]\n"
     ]
    }
   ],
   "source": [
    "donnees = pandas.read_csv(\"data.csv\")\n",
    "print(donnees.head())\n",
    "\n",
    "print('-'*50)\n",
    "\n",
    "donnees2 = pandas.read_excel(\"data.xlsx\")\n",
    "print(donnees2.head())\n",
    "\n",
    "print('-'*50)\n",
    "\n",
    "tableau =donnees2.to_numpy()\n",
    "print(tableau.shape)\n",
    "print(tableau[:5, 1:])"
   ]
  }
 ],
 "metadata": {
  "kernelspec": {
   "display_name": "base",
   "language": "python",
   "name": "python3"
  },
  "language_info": {
   "codemirror_mode": {
    "name": "ipython",
    "version": 3
   },
   "file_extension": ".py",
   "mimetype": "text/x-python",
   "name": "python",
   "nbconvert_exporter": "python",
   "pygments_lexer": "ipython3",
   "version": "3.9.16"
  }
 },
 "nbformat": 4,
 "nbformat_minor": 2
}
