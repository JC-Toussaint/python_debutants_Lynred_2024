{
 "cells": [
  {
   "cell_type": "markdown",
   "metadata": {},
   "source": [
    "# Le langage Python \n",
    "\n",
    "Python est un langage de __programmation__ objet, multiplateformes. Il favorise la programmation impérative structurée, fonctionnelle et orientée objet. \n",
    "\n",
    "Il est doté d'un typage dynamique, d'une gestion automatique de la mémoire par ramasse-miettes et d'un système de gestion d'exceptions "
   ]
  },
  {
   "cell_type": "markdown",
   "metadata": {},
   "source": [
    "## Références\n",
    "* Tutoriaux python http://www.python-course.eu\n",
    "* G. Swinnen, “Apprendre à programmer avec Python3”, Eyrolles (ISBN 978-2-212-13434-6)\n",
    "* I. Idris, ”Numpy Beginner’s guide”, Packt Publishing\n",
    "* J. Grus, ”Data Science from Scratch”, O’Reilly\n",
    "* W. McKinney, ”Python for Data Analysis”, O’Reilly "
   ]
  },
  {
   "cell_type": "markdown",
   "metadata": {},
   "source": [
    "# Introduction\n",
    "\n",
    "## Utilisation du notebook\n",
    "\n",
    "* Le curseur est localisé sur la cellule active\n",
    "  * <kbd>CTRL</kbd> + <kbd>ENTER</kbd> execute le contenu de la cellule\n",
    "  * <kbd>SHIFT</kbd> + <kbd>ENTER</kbd> executela cellule et déplace le curseur sur la suivante voire en crée une nouvelle\n",
    "\n",
    "* Pour passer du mode edit en mode meta en pressant <kbd>ESC</kbd>\n",
    "  * suivi de <kbd>h</kbd> pour obtenir de l'aide\n",
    "  * suivi de <kbd>m</kbd> pour passer en mode texte (markdown)\n",
    "  * suivi de <kbd>y</kbd> pour passer en mode code\n",
    "  * suivi de <kbd>x</kbd> pour supprimer la cellule courante\n",
    "  * suivi de <kbd>l</kbd> pour avoir les numeros de ligne\n",
    "  \n",
    "* Pour passer du mode meta au mode edit en pressant <kbd>ENTER</kbd>\n",
    "  * En mode edit <kbd>ENTER</kbd> génère un retour chariot ou permet d'éditer du texte \n",
    "  * _mode text_ autorise des expressions $\\LaTeX$, html, javascript, ...\n",
    "  * _mode code_ permet de compléter une instruction (<kbd>TAB</kbd>), help (?), ..."
   ]
  },
  {
   "cell_type": "markdown",
   "metadata": {},
   "source": [
    "Executer la cellule suivante\n"
   ]
  },
  {
   "cell_type": "code",
   "execution_count": null,
   "metadata": {},
   "outputs": [],
   "source": [
    "int?"
   ]
  },
  {
   "cell_type": "markdown",
   "metadata": {},
   "source": [
    "Lorsque vous tapez int? et exécutez la cellule, le notebook affichera une documentation succincte sur __int__, y compris sa signature, une description de ce qu'il fait, et des exemples d'utilisation"
   ]
  },
  {
   "cell_type": "code",
   "execution_count": null,
   "metadata": {},
   "outputs": [],
   "source": [
    "int('0b100', base=0)"
   ]
  },
  {
   "cell_type": "code",
   "execution_count": null,
   "metadata": {},
   "outputs": [],
   "source": [
    "int('0xff', base=0)"
   ]
  },
  {
   "cell_type": "code",
   "execution_count": null,
   "metadata": {},
   "outputs": [],
   "source": [
    "3*4\n",
    "bin(8)"
   ]
  },
  {
   "cell_type": "markdown",
   "metadata": {},
   "source": [
    "Utiliser <kbd>TAB</kbd> pour faire de la complétion"
   ]
  },
  {
   "cell_type": "code",
   "execution_count": null,
   "metadata": {},
   "outputs": [],
   "source": [
    "fl  \n",
    "int."
   ]
  },
  {
   "cell_type": "markdown",
   "metadata": {},
   "source": [
    "# Arithmétique de base"
   ]
  },
  {
   "cell_type": "code",
   "execution_count": null,
   "metadata": {},
   "outputs": [],
   "source": [
    "div=19//3\n",
    "print(div)\n",
    "\n",
    "mod=19%3\n",
    "print(mod)\n",
    "\n",
    "puis=2**0.5 # typage float dynamique\n",
    "print(puis)"
   ]
  },
  {
   "cell_type": "markdown",
   "metadata": {},
   "source": [
    "Pour obtenir le type de l'objet "
   ]
  },
  {
   "cell_type": "code",
   "execution_count": null,
   "metadata": {},
   "outputs": [],
   "source": [
    "print(type(div))\n",
    "print(type(puis))\n",
    "type(puis)"
   ]
  },
  {
   "cell_type": "markdown",
   "metadata": {},
   "source": [
    "# Expressions booléennes\n",
    "Deux valeurs possibles : False, True.\n",
    "\n",
    "Operateurs de comparaison : ==  !=  >  >= <  <="
   ]
  },
  {
   "cell_type": "code",
   "execution_count": null,
   "metadata": {},
   "outputs": [],
   "source": [
    "b = 2<8\n",
    "print(b)\n",
    "\n",
    "t= 2<=8<15\n",
    "print(t)"
   ]
  },
  {
   "cell_type": "markdown",
   "metadata": {},
   "source": [
    "Operateurs logiques  (notion de shortcut) : not, or, and"
   ]
  },
  {
   "cell_type": "code",
   "execution_count": null,
   "metadata": {},
   "outputs": [],
   "source": [
    "b = (3==3) or (9 >24) \n",
    "print(b)"
   ]
  },
  {
   "cell_type": "markdown",
   "metadata": {},
   "source": [
    "# Les données et les variables\n",
    "Variable : nom donné à une valeur = référence à une adresse mémoire.\n"
   ]
  },
  {
   "cell_type": "code",
   "execution_count": null,
   "metadata": {},
   "outputs": [],
   "source": [
    "import keyword\n",
    "keyword.kwlist  # liste des mots clés python\n"
   ]
  },
  {
   "cell_type": "markdown",
   "metadata": {},
   "source": [
    "# L'affectation"
   ]
  },
  {
   "cell_type": "code",
   "execution_count": null,
   "metadata": {},
   "outputs": [],
   "source": [
    "a=10 # forme de base\n",
    "a+=1 # meme chose que a = a + 1, si a est deja connue;\n",
    "# avantage : si a est une expression complique, on a besoin d'une seule evaluation de a ;\n",
    "# forme standard : a est evalue deux fois.\n",
    "\n",
    "b = c = 10 \t# cibles multiples (affectation de droite a gauche)\n",
    "\n",
    "d, e, f = (1.5, 2.5, 3.5) # affectation de tuple (par position)\n",
    "print(d, e, f)\n",
    "\n",
    "e, d = d, e # echange les valeurs de d et e\n",
    "print(d, e)\n",
    "\n",
    "m, n = [5,7] # affectation de liste (par position).\n",
    "print(m, n)\n",
    "\n",
    "tup=(d, e)\n",
    "type(tup)"
   ]
  },
  {
   "cell_type": "code",
   "execution_count": null,
   "metadata": {},
   "outputs": [],
   "source": [
    "lst=[2, 3, 'dernier']\n",
    "print(lst[0], lst[1])\n",
    "\n",
    "lst[0]=4\n",
    "print(lst)"
   ]
  },
  {
   "cell_type": "markdown",
   "metadata": {},
   "source": [
    "# Conversion de types\n",
    "conversion d'une chaine de caractères vers un numérique"
   ]
  },
  {
   "cell_type": "code",
   "execution_count": null,
   "metadata": {},
   "outputs": [],
   "source": [
    "s = '789'\n",
    "print(type(s))\n",
    "\n",
    "# conversion vers un entier\n",
    "i = int(s)\n",
    "print(i)\n",
    "\n",
    "# conversion vers un flottant\n",
    "d = float(s)\n",
    "print(d)\n",
    "print(type(d))"
   ]
  },
  {
   "cell_type": "markdown",
   "metadata": {},
   "source": [
    "conversion vers un string\n"
   ]
  },
  {
   "cell_type": "code",
   "execution_count": null,
   "metadata": {},
   "outputs": [],
   "source": [
    "d = 789.12\n",
    "print(type(d))\n",
    "\n",
    "s = str(d)\n",
    "print(s)\n",
    "print('a'+s+'b')"
   ]
  },
  {
   "cell_type": "markdown",
   "metadata": {},
   "source": [
    "# conversion  de tuples vers une liste et vice-versa\n",
    "Un tuple est une  liste  hétérogène, ordonnée d'éléments, __non mutable__. Les éléments sont encadrés par des parenthèses.\n",
    "\n",
    "Une liste est mutable. Les éléments sont encadrés par des crochets."
   ]
  },
  {
   "cell_type": "code",
   "execution_count": null,
   "metadata": {},
   "outputs": [],
   "source": [
    "tup = (1, 2, 3)\n",
    "print(tup)\n",
    "lst=list(tup)\n",
    "print(lst)\n",
    "\n",
    "parametres = (200, 'pression', 10, 'vitesse')\n",
    "v1, leg1, v2, leg2 = parametres\n",
    "print(parametres)\n",
    "print(v1, leg1, v2, leg2)\n",
    "lst=list(parametres)\n",
    "print(lst)"
   ]
  },
  {
   "cell_type": "code",
   "execution_count": null,
   "metadata": {},
   "outputs": [],
   "source": [
    "lst = [1, 2, 3]\n",
    "print(lst)\n",
    "\n",
    "tup=tuple(lst)\n",
    "print(tup)\n"
   ]
  },
  {
   "cell_type": "markdown",
   "metadata": {},
   "source": [
    "# Conversion d'un générateur vers une liste\n",
    " un générateur est un type spécial d'itérateur qui permet de générer une séquence de valeurs de manière paresseuse (lazy evaluation), \n",
    " \n",
    " c'est-à-dire qu'il produit les valeurs une par une au fur et à mesure qu'elles sont demandées, plutôt que de les calculer toutes \n",
    " \n",
    " à l'avance et de les stocker en mémoire. "
   ]
  },
  {
   "cell_type": "code",
   "execution_count": null,
   "metadata": {},
   "outputs": [],
   "source": [
    "gen = range(10) # génére les 10 entiers de 0 à 9\n",
    "print(type(gen))\n",
    "print(gen)\n",
    "\n",
    "print('-------------')\n",
    "lst=list(gen)\n",
    "print(lst)\n"
   ]
  },
  {
   "cell_type": "markdown",
   "metadata": {},
   "source": [
    "#  Les entrée-sorties\n",
    "L'instruction input permet de saisir une entrée au clavier. Elle retourne une chaine de caractères. \n",
    "\n",
    "Cela impose de faire une conversion de type explicite\n"
   ]
  },
  {
   "cell_type": "code",
   "execution_count": null,
   "metadata": {},
   "outputs": [],
   "source": [
    "chaine = input(\"entrer \")\n",
    "print(chaine, type(chaine))\n",
    "\n",
    "n = int(input(\"Entrez une valeur entière :\"))\n",
    "print(n)\n",
    "x = float(input(\"Entrez une valeur réelle :\"))\n",
    "print(x)"
   ]
  },
  {
   "cell_type": "markdown",
   "metadata": {},
   "source": [
    "\n",
    "# Les sorties formatées\n",
    "La fonction membre  format de la classe str permet de formater les sorties\n"
   ]
  },
  {
   "cell_type": "code",
   "execution_count": null,
   "metadata": {},
   "outputs": [],
   "source": [
    "x, y =(123.456, -23.45)\n",
    "s='{:+10.2f}'.format(x)\n",
    "print(s) \n",
    "\n",
    "s='{:+f} {:+g}'.format(x, y)\n",
    "print(s)  "
   ]
  },
  {
   "cell_type": "markdown",
   "metadata": {},
   "source": [
    "ou encore avec une syntaxe plus moderne:"
   ]
  },
  {
   "cell_type": "code",
   "execution_count": null,
   "metadata": {},
   "outputs": [],
   "source": [
    "x, y =(123.456, -23.45)\n",
    "\n",
    "s=f'la valeur de x est {x:+10.2f}'\n",
    "print(s) \n",
    "\n",
    "s=f'les valeurs de x et y sont {x:+10.2f}{y:+10.2e}'\n",
    "print(s)"
   ]
  },
  {
   "cell_type": "markdown",
   "metadata": {},
   "source": [
    "De changer l’ordre de sortie"
   ]
  },
  {
   "cell_type": "code",
   "execution_count": null,
   "metadata": {},
   "outputs": [],
   "source": [
    "s='x={0}, y={1}'.format(x, y)\n",
    "print(s)\n",
    "s='{2}, {1}, {0}'.format('a', 'b', 123)\n",
    "print(s) "
   ]
  },
  {
   "cell_type": "markdown",
   "metadata": {},
   "source": [
    "Autres exemples"
   ]
  },
  {
   "cell_type": "code",
   "execution_count": null,
   "metadata": {},
   "outputs": [],
   "source": [
    "s=\"x : {:8.2f},  y: {:8.2f}\".format(10.2, 1.2)\n",
    "print(s) \n",
    "s=\"x : {0:8.2f},  y: {1:8.2f}\".format(10.2, 1.2)\n",
    "print(s) \n",
    "s=\"x : {1:8.2f},  y: {0:8.2f}\".format(10.2, 1.2)\n",
    "print(s) \n",
    "s=\"Art: {a:5d},  Prix: {p:8.2f}\".format(a=59, p=102.2)\n",
    "print(s)"
   ]
  },
  {
   "cell_type": "markdown",
   "metadata": {},
   "source": [
    "# Instructions conditionnelles\n",
    "Il est possible, après un if de tester autant de conditions que l'on\n",
    "souhaite avec des elif (y compris 0); par contre, il ne peut y avoir\n",
    "qu'un seul else à la fin.\n",
    "\n",
    "Le caractère : est obligatoire a la fin de chaque ligne contenant if, elif ou else.\n",
    "Chaque bloc d'instructions est indenté\n",
    " "
   ]
  },
  {
   "cell_type": "code",
   "execution_count": null,
   "metadata": {},
   "outputs": [],
   "source": [
    "x, y = 10, 20\n",
    "\n",
    "# Ecriture classique\n",
    "if x<y:    \n",
    "   min=x     #   ATTENTION un bloc est une liste d'instructions indentée\n",
    "else:    \n",
    "   min=y     #   ATTENTION un bloc est une liste d'instructions indentée\n",
    "\n",
    "# Utilisation de l’opérateur ternaire\n",
    "min=x if x<y else y\n",
    "print(min)"
   ]
  },
  {
   "cell_type": "markdown",
   "metadata": {},
   "source": [
    "# Les boucles\n",
    "boucle while : répéter une portion de code sous condition"
   ]
  },
  {
   "cell_type": "code",
   "execution_count": null,
   "metadata": {},
   "outputs": [],
   "source": [
    "x = 10\n",
    "while x != 0:\n",
    "    x=x-1\n",
    "    print (\" décroit, valeur non nulle egale à \", x)\n",
    "print (\"La boucle est finie, x est nul\")\n"
   ]
  },
  {
   "cell_type": "code",
   "execution_count": null,
   "metadata": {},
   "outputs": [],
   "source": [
    "x = 0\n",
    "while x != 10:\n",
    "    print (\"valeur non nulle egale à \", x)\n",
    "    x=x+1\n",
    "\n",
    "print (\"La boucle est finie\")"
   ]
  },
  {
   "cell_type": "code",
   "execution_count": null,
   "metadata": {},
   "outputs": [],
   "source": [
    "x=0\n",
    "while True:\n",
    "    print(x)\n",
    "    if x==9:\n",
    "        break\n",
    "    x=x+1\n",
    "    "
   ]
  },
  {
   "cell_type": "code",
   "execution_count": null,
   "metadata": {},
   "outputs": [],
   "source": [
    "while True:\n",
    "    try:\n",
    "        n = int(input(\"Entrez une valeur entière : \"))\n",
    "        break\n",
    "    except ValueError:\n",
    "        print(\"Oops!  Essayez encore ...\")\n",
    "\n",
    "print('n =', n)"
   ]
  },
  {
   "cell_type": "markdown",
   "metadata": {},
   "source": [
    "boucle for : répéter une portion de code pour chaque valeur d'une séquence\n",
    "(chaine, liste ou n-uple, range). "
   ]
  },
  {
   "cell_type": "code",
   "execution_count": null,
   "metadata": {},
   "outputs": [],
   "source": [
    "for i in range(0, 10, 2):\n",
    "    print(i)\n",
    "    \n",
    "lst = list(range(0, 10, 2))\n",
    "print(lst)\n",
    "\n",
    "for i in lst:\n",
    "    print(i)\n",
    "    \n",
    "for lettre in \"bonjour\":\n",
    "    print(lettre)\n",
    "\n",
    "\n",
    "\n"
   ]
  },
  {
   "cell_type": "markdown",
   "metadata": {},
   "source": [
    "## Exercice : le juste prix\n",
    "On utilisera la bibliothèque random pour générer un prix entre 1 et 100 exclu, que l'utilisateur devra deviner.\n",
    "\n",
    "Génération du prix : prix_reel est un nombre aléatoire entier entre 1 et 100 obtenu avec random.randint(1, 100)\n",
    "\n",
    "Message de bienvenue : Un message d'introduction pour l'utilisateur.\n",
    "\n",
    "Boucle while infinie : Continue jusqu'à ce que l'utilisateur devine le bon prix.\n",
    "    Proposition de l'utilisateur : input pour obtenir la proposition de l'utilisateur et int pour convertir l'entrée en un entier.\n",
    "Comparaison des propositions :\n",
    "- Si la proposition est trop basse, un message est affiché pour indiquer \"Trop bas\".\n",
    "- Si la proposition est trop haute, un message est affiché pour indiquer \"Trop haut\".\n",
    "- Si la proposition est correcte, un message de félicitations est affiché et la boucle se termine.     "
   ]
  },
  {
   "cell_type": "code",
   "execution_count": null,
   "metadata": {},
   "outputs": [],
   "source": [
    "import random\n"
   ]
  },
  {
   "cell_type": "markdown",
   "metadata": {},
   "source": [
    "#  Les listes : definition et exemples\n",
    "Collection __hétérogène, ordonnée et modifiable__ d’éléments, séparés par des virgules, et entourée de crochets."
   ]
  },
  {
   "cell_type": "code",
   "execution_count": null,
   "metadata": {},
   "outputs": [],
   "source": [
    "fruits = ['figue', 'raisin', 'abricot', 'poire']\n",
    "print(fruits[2]) \n",
    "fruits[1]=13\n",
    "print(fruits) \n",
    "print(fruits[1:3])\n",
    "print(fruits[1:])\n",
    "\n",
    "fruits[1:1]=['Alexis']\n",
    "print(fruits)"
   ]
  },
  {
   "cell_type": "markdown",
   "metadata": {},
   "source": [
    "# Les listes : initialisation"
   ]
  },
  {
   "cell_type": "code",
   "execution_count": null,
   "metadata": {},
   "outputs": [],
   "source": [
    "debut = []          # liste vide\n",
    "repet = [0.0] * 3   # [0.0, 0.0, 0.0]\n",
    "\n",
    "liste_1=list(range(4))    # [0, 1, 2, 3]\n",
    "liste_2=list(range(4,10)) # [4, 5, 6, 7, 8, 9]\n",
    "print(liste_1)\n",
    "print(liste_2)\n",
    "\n",
    "lst = liste_1.copy()\n",
    "print(lst)\n",
    "liste_1[0]=-1\n",
    "print(lst)\n"
   ]
  },
  {
   "cell_type": "markdown",
   "metadata": {},
   "source": [
    "# Concaténation de listes"
   ]
  },
  {
   "cell_type": "code",
   "execution_count": null,
   "metadata": {},
   "outputs": [],
   "source": [
    "print(liste_1)\n",
    "print(liste_2)\n",
    "liste_3=liste_1+liste_2\n",
    "print(liste_3)\n",
    "print(liste_3[0])"
   ]
  },
  {
   "cell_type": "markdown",
   "metadata": {},
   "source": [
    "# Les listes de listes"
   ]
  },
  {
   "cell_type": "code",
   "execution_count": null,
   "metadata": {},
   "outputs": [],
   "source": [
    "liste_3=[liste_1, liste_2]\n",
    "print(liste_3) "
   ]
  },
  {
   "cell_type": "markdown",
   "metadata": {},
   "source": [
    "# Les listes : méthodes\n",
    "Pour ajouter une valeur à une liste, utiliser la fonction 'append()’\n"
   ]
  },
  {
   "cell_type": "code",
   "execution_count": null,
   "metadata": {},
   "outputs": [],
   "source": [
    "fruits = ['figue', 'raisin', 'abricot', 'poire', 'abricot']\n",
    "fruits.append(18)\n",
    "print(fruits) "
   ]
  },
  {
   "cell_type": "markdown",
   "metadata": {},
   "source": [
    "Pour connaitre la position dans la liste de la première occurence"
   ]
  },
  {
   "cell_type": "code",
   "execution_count": null,
   "metadata": {},
   "outputs": [],
   "source": [
    "print(fruits.index('abricot'))"
   ]
  },
  {
   "cell_type": "code",
   "execution_count": null,
   "metadata": {},
   "outputs": [],
   "source": [
    "lst = list()\n",
    "for x in range(1, 6):\n",
    "    lst.append(x**2)\n",
    "print(lst)\n",
    "\n",
    "lst = [ x**2 for x in range(1, 6)]  # exemple de compréhension de liste (list comprehension).\n",
    "print(lst)"
   ]
  },
  {
   "cell_type": "markdown",
   "metadata": {},
   "source": [
    "Pour effacer une valeur d'une liste, utiliser la fonction 'del' :"
   ]
  },
  {
   "cell_type": "code",
   "execution_count": null,
   "metadata": {},
   "outputs": [],
   "source": [
    "fruits = ['figue', 'raisin', 'abricot', 'poire', 'abricot']\n",
    "del fruits[1]       # supprime 'raisin'\n",
    "print(fruits) "
   ]
  },
  {
   "cell_type": "markdown",
   "metadata": {},
   "source": [
    "Pour effacer la première occurrence d'une liste, utiliser la fonction ‘remove' :"
   ]
  },
  {
   "cell_type": "code",
   "execution_count": null,
   "metadata": {},
   "outputs": [],
   "source": [
    "fruits.remove('abricot')\n",
    "print(fruits)\n",
    "\n",
    "fruits.remove('abricot')\n",
    "print(fruits)"
   ]
  },
  {
   "cell_type": "code",
   "execution_count": null,
   "metadata": {},
   "outputs": [],
   "source": [
    "fruits = ['figue', 'raisin', 'abricot', 'poire', 'abricot']\n",
    "'abricot' in fruits\n",
    "nom='abricot'\n",
    "\n",
    "while nom in fruits:\n",
    "    fruits.remove(nom)\n",
    "\n",
    "print(fruits)"
   ]
  },
  {
   "cell_type": "code",
   "execution_count": null,
   "metadata": {},
   "outputs": [],
   "source": [
    "fruits = ['figue', 'raisin', 'abricot', 'poire', 'abricot']\n",
    "nom='abricot'\n",
    "while True:\n",
    "    try:\n",
    "        fruits.remove(nom)\n",
    "    except:\n",
    "        break\n",
    "        \n",
    "print(fruits)"
   ]
  },
  {
   "cell_type": "markdown",
   "metadata": {},
   "source": [
    "## liste des méthodes disponibles"
   ]
  },
  {
   "cell_type": "code",
   "execution_count": null,
   "metadata": {},
   "outputs": [],
   "source": [
    "help(fruits)"
   ]
  },
  {
   "cell_type": "markdown",
   "metadata": {},
   "source": [
    "Par exemple, la méthode \\_\\_contains\\_\\_ est appelée quand on fait un test d'appartenance : 'poire' in fruits"
   ]
  },
  {
   "cell_type": "markdown",
   "metadata": {},
   "source": [
    "# Les listes : techniques de \"slicing\"\n",
    "## Insertion d’éléments dans une liste.\n",
    "Règle : dans le membre de gauche d'une affectation, il faut obligatoirement\n",
    "indiquer une tranche pour effectuer une insertion. \n",
    "Le membre de droite doit lui-même être une liste.\n"
   ]
  },
  {
   "cell_type": "code",
   "execution_count": null,
   "metadata": {},
   "outputs": [],
   "source": [
    "fruits = ['figue', 'raisin', 'abricot', 'poire', 'abricot']\n",
    "print(fruits)\n",
    "\n",
    "fruits[2:2]=['orange', 'citron', 'mangue'] # insertion en 3eme position\n",
    "print(fruits)\n",
    "\n",
    "fruits.insert(1, 'pomme') #insertion à la position 1 de l'élément 'pomme'\n",
    "print(fruits)"
   ]
  },
  {
   "cell_type": "markdown",
   "metadata": {},
   "source": [
    "## Suppression et remplacement d’éléments dans une liste.\n",
    "\n",
    "Règle : une tranche dans le membre de gauche, une liste dans le membre de droite\n"
   ]
  },
  {
   "cell_type": "code",
   "execution_count": null,
   "metadata": {},
   "outputs": [],
   "source": [
    "fruits = ['figue', 'raisin', 'abricot', 'poire', 'abricot']\n",
    "print(fruits)\n",
    "fruits[2:4] = [1.5, 2.5]\n",
    "print(fruits)"
   ]
  },
  {
   "cell_type": "markdown",
   "metadata": {},
   "source": [
    "## Les listes : parcours\n",
    "Parcourir tous les éléments d’une liste.\n"
   ]
  },
  {
   "cell_type": "code",
   "execution_count": null,
   "metadata": {},
   "outputs": [],
   "source": [
    "for e in [1,2,3]:\n",
    "    print(e)   "
   ]
  },
  {
   "cell_type": "markdown",
   "metadata": {},
   "source": [
    "## Utilisation du générateur enumerate\n",
    "pour obtenir la position dans une liste, on peut gérer soi-même un itérateur."
   ]
  },
  {
   "cell_type": "code",
   "execution_count": null,
   "metadata": {},
   "outputs": [],
   "source": [
    "liste = [1,2,3,5,7,11,13]\n",
    "index =0\n",
    "for elem in liste:\n",
    "    print(index, elem)\n",
    "    index +=1\n"
   ]
  },
  {
   "cell_type": "markdown",
   "metadata": {},
   "source": [
    "On peut le faire de manière automatique avec le générateur enumerate."
   ]
  },
  {
   "cell_type": "code",
   "execution_count": null,
   "metadata": {},
   "outputs": [],
   "source": [
    "chaine = \"bonjour\"\n",
    "print(list(enumerate(chaine)))  # on est obligé de transformer le résultat de enumerate en list pour qu'il fasse enfin le travail.\n",
    "\n",
    "for index, elem in enumerate(chaine):\n",
    "    print(index, elem)\n"
   ]
  },
  {
   "cell_type": "code",
   "execution_count": null,
   "metadata": {},
   "outputs": [],
   "source": [
    "list(enumerate(chaine))"
   ]
  },
  {
   "cell_type": "markdown",
   "metadata": {},
   "source": [
    "#  Les dictionnaires\n",
    "Un dictionnaire est  une collection de couples clé-valeur entourée d’accolades.\n",
    "\n",
    "On les appelle aussi \"tableaux associatifs\". \n",
    "Les indices sont appelés \"clés\".\n",
    "\n",
    "\n"
   ]
  },
  {
   "cell_type": "code",
   "execution_count": null,
   "metadata": {},
   "outputs": [],
   "source": [
    "fruits = {'figue' : 48, 'raisin' : 33, 'abricot' : 28, 'poire' : 4}\n",
    "print(fruits)"
   ]
  },
  {
   "cell_type": "markdown",
   "metadata": {},
   "source": [
    "Comment afficher les clés et les valeurs ?"
   ]
  },
  {
   "cell_type": "code",
   "execution_count": null,
   "metadata": {},
   "outputs": [],
   "source": [
    "print(fruits.keys()) \n",
    "print(fruits.items())"
   ]
  },
  {
   "cell_type": "markdown",
   "metadata": {},
   "source": [
    "Comment itérer sur un dictionnaire ?"
   ]
  },
  {
   "cell_type": "code",
   "execution_count": null,
   "metadata": {},
   "outputs": [],
   "source": [
    "for key, value in fruits.items():\n",
    "    print(f\"{key} => {value} tonnes en stock\")"
   ]
  },
  {
   "cell_type": "markdown",
   "metadata": {},
   "source": [
    "Ci-après, la valeur est un tuple :  (tonnage_initiale  ,tonnage_actuel, prix)."
   ]
  },
  {
   "cell_type": "code",
   "execution_count": null,
   "metadata": {},
   "outputs": [],
   "source": [
    "fruits = {'figue' : (120,48,2.5), 'raisin' : (120,33,1.2)\\\n",
    "          , 'abricot' : (120,28,3.3), 'poire' : (120,4,0.8)}\n",
    "print(\"stock d'abricots restants :\", fruits['abricot'][1])\n",
    "\n",
    "for key, value in fruits.items():\n",
    "    print(f\"{key} => {value[1]} tonnes en stock\")\n",
    "\n",
    "for key, value in fruits.items():\n",
    "    vendu = (value[0]-value[1])*value[2]\n",
    "    print(f\"{key} gain : {vendu:.2f}\")"
   ]
  },
  {
   "cell_type": "markdown",
   "metadata": {},
   "source": [
    "Comment vérifier qu'une clé donnée existe dans le dictionnaire ? Comment ajouter un élément?"
   ]
  },
  {
   "cell_type": "code",
   "execution_count": null,
   "metadata": {},
   "outputs": [],
   "source": [
    "print('abricot' in fruits)\n",
    "fruits['pomme'] = 50\n",
    "print(fruits)"
   ]
  },
  {
   "cell_type": "markdown",
   "metadata": {},
   "source": [
    "## Exercice :\n",
    "Créer un dictionnaire associant un nom à un numéro de bureau : {'Marie' : 201 , 'Pierre' : 202 , 'Alain' : 203 , 'Jeanne' : 204}.\n",
    "\n",
    "Afficher ses clés et ses valeurs. Itérer sur le dictionnaire."
   ]
  },
  {
   "cell_type": "code",
   "execution_count": null,
   "metadata": {},
   "outputs": [],
   "source": []
  },
  {
   "cell_type": "markdown",
   "metadata": {},
   "source": [
    "# Les fonctions\n",
    "Groupe d’instructions regroupé sous un nom et s’exécutant à la demande de l'utilisateur, lors de son appel.\n",
    "\n",
    "Dans la définition précédente, nom_fonction est le nom qui sera utilisée ultérieurement pour appeler la fonction ;\n",
    "Le bloc d'instructions est obligatoire. S'il ne fait rien ou si le code\n",
    "n'est pas encore écrit, on utilise l'instruction pass.\n",
    "\n",
    "La documentation est fortement conseillée.\n",
    "\n",
    "Une fonction peut retourner plusieurs valeurs séparées par des virgules.\n",
    "help(nom_fonction) retourne la doc-string\n"
   ]
  },
  {
   "cell_type": "code",
   "execution_count": null,
   "metadata": {},
   "outputs": [],
   "source": [
    "def somme():\n",
    "    \"\"\" somme des 10 premiers entiers\"\"\"\n",
    "    s=0\n",
    "    for x in range(1, 11):  # range(binf, bsup) avec bsup exclu\n",
    "        s += x\n",
    "    return s\n",
    "\n",
    "# appel de la fonction\n",
    "print (\"La somme est \", somme())\n",
    "\n",
    "help(somme)\n"
   ]
  },
  {
   "cell_type": "code",
   "execution_count": null,
   "metadata": {},
   "outputs": [],
   "source": [
    "def som_dif(x, y):\n",
    "    \"\"\" somme et différence \"\"\"\n",
    "    return x+y, x-y\n",
    "\n",
    "# appel de la fonction\n",
    "print (\"somme et difference sont :\", som_dif(10, 20))\n",
    "t = som_dif(10, 20)\n",
    "print(type(t))\n",
    "#help(som_dif)\n",
    "s, d = t\n",
    "print(s, d)"
   ]
  },
  {
   "cell_type": "markdown",
   "metadata": {},
   "source": [
    "# Les fonctions : passage de paramètres par nom"
   ]
  },
  {
   "cell_type": "code",
   "execution_count": null,
   "metadata": {},
   "outputs": [],
   "source": [
    "def f(x, y, z=100): # z=100 valeur par défaut\n",
    "    print('x=', x)\n",
    "    print('y=', y)\n",
    "    print('z=', z)\n",
    "    \n",
    "# appel de la fonction\n",
    "#f(10, 20, 30)\n",
    "f(10, 20)\n",
    "\n",
    "# On peut aussi passer les paramètres en spécifiant\n",
    "# explicitement leur nom (passage par nom) \n",
    "f(x=10, y=20)  # z=100 valeur par défaut\n",
    "\n",
    "# passage de paramètres en spécifiant leur nom\n",
    "f(y=20, x=10)  # z=100 valeur par défaut\n",
    "\n",
    "#f(y=20) # ERREUR manque x\n"
   ]
  },
  {
   "cell_type": "markdown",
   "metadata": {},
   "source": [
    "#  paramètres par défaut"
   ]
  },
  {
   "cell_type": "code",
   "execution_count": null,
   "metadata": {},
   "outputs": [],
   "source": [
    "def f(x, y=0):\n",
    "    print('x=', x)\n",
    "    print('y=', y)\n",
    "\n",
    "# appel de la fonction\n",
    "f(10)\n",
    "\n",
    "# On peut aussi passer les paramètres en spécifiant\n",
    "# explicitement leur nom (passage par nom) \n",
    "f(x=10, y=20)\n",
    "\n"
   ]
  },
  {
   "cell_type": "markdown",
   "metadata": {},
   "source": [
    "#  Exercice\n",
    "Comprendre le code suivant"
   ]
  },
  {
   "cell_type": "code",
   "execution_count": null,
   "metadata": {},
   "outputs": [],
   "source": [
    "def square(x):\n",
    "    return x**2\n",
    "\n",
    "def cube(x):\n",
    "    return x**3\n",
    "\n",
    "lst=[square, cube]\n",
    "\n",
    "f = lst[1]\n",
    "print(f)\n",
    "print(f(2))\n",
    "\n",
    "for f in lst:\n",
    "    print(f(10))\n"
   ]
  },
  {
   "cell_type": "markdown",
   "metadata": {},
   "source": [
    "# Les fonctions à nombre d’arguments variable "
   ]
  },
  {
   "cell_type": "code",
   "execution_count": null,
   "metadata": {},
   "outputs": [],
   "source": [
    "# fonction à nombre d’arguments variable \n",
    "# Les arguments sont transformés en tuple\n",
    "      \n",
    "def varArg(*ar) : \n",
    "    print(type(ar))\n",
    "    for e in ar :\n",
    "        print(type(e), e)\n",
    "\n",
    "varArg('toto', [1, 2, 3], [4, 5])\n"
   ]
  },
  {
   "cell_type": "markdown",
   "metadata": {},
   "source": [
    "# Exercice\n",
    "Citer une fonction connue utilisant ce principe"
   ]
  },
  {
   "cell_type": "code",
   "execution_count": null,
   "metadata": {},
   "outputs": [],
   "source": [
    "# fonction à nombre d’arguments variable \n",
    "# Les arguments sont transformés en dictionnaire\n",
    "\n",
    "def varKwarg(**ar) : \n",
    "    print(type(ar))\n",
    "    print(ar.keys())\n",
    "    print(ar.items())\n",
    "    for key,value in ar.items() : \n",
    "        print(key, value)  # ar[key]\n",
    "        \n",
    "varKwarg(k=10, l='too')\n"
   ]
  },
  {
   "cell_type": "code",
   "execution_count": null,
   "metadata": {},
   "outputs": [],
   "source": []
  }
 ],
 "metadata": {
  "anaconda-cloud": {},
  "kernelspec": {
   "display_name": "Python 3 (ipykernel)",
   "language": "python",
   "name": "python3"
  },
  "language_info": {
   "codemirror_mode": {
    "name": "ipython",
    "version": 3
   },
   "file_extension": ".py",
   "mimetype": "text/x-python",
   "name": "python",
   "nbconvert_exporter": "python",
   "pygments_lexer": "ipython3",
   "version": "3.11.7"
  }
 },
 "nbformat": 4,
 "nbformat_minor": 1
}
