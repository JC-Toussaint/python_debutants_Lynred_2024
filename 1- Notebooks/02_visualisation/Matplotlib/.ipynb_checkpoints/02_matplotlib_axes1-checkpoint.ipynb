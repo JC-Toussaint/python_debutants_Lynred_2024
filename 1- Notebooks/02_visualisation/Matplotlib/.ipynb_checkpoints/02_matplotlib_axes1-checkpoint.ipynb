{
 "cells": [
  {
   "cell_type": "markdown",
   "metadata": {},
   "source": [
    "# Matplotlib - axes"
   ]
  },
  {
   "cell_type": "markdown",
   "metadata": {},
   "source": [
    "## Deux figures avec des proprités communes"
   ]
  },
  {
   "cell_type": "markdown",
   "metadata": {},
   "source": [
    "Comment créer deux figures juxtaposées partageant les mêmes valeurs selon Ox et Oy"
   ]
  },
  {
   "cell_type": "code",
   "execution_count": 1,
   "metadata": {},
   "outputs": [
    {
     "data": {
      "image/png": "[encoded data removed]",
      "text/plain": [
       "<Figure size 432x288 with 2 Axes>"
      ]
     },
     "metadata": {
      "needs_background": "light"
     },
     "output_type": "display_data"
    }
   ],
   "source": [
    "%matplotlib inline\n",
    "\n",
    "import matplotlib.pyplot as plt\n",
    "import numpy as np\n",
    "\n",
    "# data\n",
    "xv = np.linspace(0, 2 * np.pi, 400)\n",
    "yv = np.sin(xv)\n",
    "\n",
    "# une figure avec 2 subplot-axes\n",
    "f, ax = plt.subplots(nrows=1, ncols=2, sharex=True, sharey=True)\n",
    "ax[0].plot(xv, yv, color='red', linewidth=2.0, linestyle=\"-\")\n",
    "ax[0].set_title('plot1')\n",
    "ax[0].grid()\n",
    "\n",
    "ax[1].plot(-xv, 2*yv, color='blue', linewidth=2.0, linestyle=\"-\")\n",
    "ax[0].set_title('plot2')\n",
    "ax[1].grid()\n",
    "#plt.show()"
   ]
  },
  {
   "cell_type": "markdown",
   "metadata": {},
   "source": [
    "## Encapsulation de figures"
   ]
  },
  {
   "cell_type": "markdown",
   "metadata": {},
   "source": [
    "Comment créer une sous-figure encapsulée dans une plus grande"
   ]
  },
  {
   "cell_type": "code",
   "execution_count": null,
   "metadata": {},
   "outputs": [],
   "source": [
    "%matplotlib inline\n",
    "\n",
    "import matplotlib.pyplot as plt\n",
    "import numpy as np\n",
    "\n",
    "# data\n",
    "xv = np.linspace(0, 2 * np.pi, 400)\n",
    "yv = np.sin(xv)\n",
    "\n",
    "# une figure et un subplot\n",
    "f, ax = plt.subplots()\n",
    "ax.plot(xv, yv, color='red', linewidth=2.0, linestyle=\"-\")\n",
    "ax.set_title('Simple plot')\n",
    "ax.grid()\n",
    "\n",
    "box = ax.get_position()\n",
    "width = box.width\n",
    "height = box.height\n",
    "       \n",
    "x = box.x0+0.55*box.width\n",
    "y = box.y0+0.55*box.height\n",
    "\n",
    "subax = f.add_axes([x,y,width*0.35,height*0.35])\n",
    "subax.plot(xv, yv, color='blue', linewidth=2.0, linestyle=\"-\")\n",
    "subax.grid()\n",
    "subax.set_title('sinus')\n",
    "plt.show()\n"
   ]
  }
 ],
 "metadata": {
  "anaconda-cloud": {},
  "kernelspec": {
   "display_name": "Python 3 (ipykernel)",
   "language": "python",
   "name": "python3"
  },
  "language_info": {
   "codemirror_mode": {
    "name": "ipython",
    "version": 3
   },
   "file_extension": ".py",
   "mimetype": "text/x-python",
   "name": "python",
   "nbconvert_exporter": "python",
   "pygments_lexer": "ipython3",
   "version": "3.9.7"
  }
 },
 "nbformat": 4,
 "nbformat_minor": 1
}
