{
 "cells": [
  {
   "cell_type": "markdown",
   "metadata": {},
   "source": [
    "# Matplotlib\n",
    "La librairie Matplotlib a été initiée par John Hunter (1968-2012). \n",
    "Sa vocation est de produire des figures de qualité en utilisant des fonctions\n",
    "qui s'apparentent à celles de Matlab.\n",
    "De nombreux formats d'exportation existent et permettent de produire\n",
    "des documents publiables.\n",
    "Cette librairie a été portée sous un ensemble d'environnements."
   ]
  },
  {
   "cell_type": "markdown",
   "metadata": {},
   "source": [
    "## simple plot(x,y)\n",
    "On désire tracer les valeurs d'un tableau y en fonction de celles d'un tableau x"
   ]
  },
  {
   "cell_type": "code",
   "execution_count": null,
   "metadata": {},
   "outputs": [],
   "source": [
    "%matplotlib inline\n",
    "\n",
    "import matplotlib.pyplot as plt\n",
    "import numpy as np\n",
    "\n",
    "plt.close('all')\n",
    "# data\n",
    "x = np.linspace(0, 2 * np.pi, 400)\n",
    "y = np.sin(x ** 2)\n",
    "\n",
    "plt.plot(x, y, color='red', linewidth=2.0, linestyle=\"-\")\n",
    "plt.grid()\n",
    "plt.xlabel('x')\n",
    "plt.ylabel('y')\n",
    "plt.title('titre')\n",
    "plt.savefig(\"snap.png\")\n",
    "plt.savefig(\"snap.pdf\")\n",
    "plt.show()"
   ]
  },
  {
   "cell_type": "markdown",
   "metadata": {},
   "source": [
    "## Assemblage de figures dans une page\n",
    "On retrouve une fonction similaire à la fonction subplot de Matlab"
   ]
  },
  {
   "cell_type": "code",
   "execution_count": null,
   "metadata": {},
   "outputs": [],
   "source": [
    "plt.figure()\n",
    "plt.subplot(2, 2, 1)\n",
    "plt.plot(x, y, color='red', linewidth=2.0, linestyle=\"-\")\n",
    "plt.title('titre1')\n",
    "plt.grid()\n",
    "\n",
    "plt.subplot(2, 2, 2)\n",
    "plt.plot(x, y, color='blue', linewidth=2.0, linestyle=\"-\", label='sin')\n",
    "plt.title('titre2')\n",
    "plt.legend(loc='best')\n",
    "\n",
    "plt.subplot(2, 1, 2)\n",
    "plt.plot(x, y, color='red', linewidth=2.0, linestyle=\"-\")\n",
    "plt.title('titre3')\n",
    "plt.show()"
   ]
  }
 ],
 "metadata": {
  "anaconda-cloud": {},
  "kernelspec": {
   "display_name": "Python 3 (ipykernel)",
   "language": "python",
   "name": "python3"
  },
  "language_info": {
   "codemirror_mode": {
    "name": "ipython",
    "version": 3
   },
   "file_extension": ".py",
   "mimetype": "text/x-python",
   "name": "python",
   "nbconvert_exporter": "python",
   "pygments_lexer": "ipython3",
   "version": "3.9.7"
  }
 },
 "nbformat": 4,
 "nbformat_minor": 1
}
