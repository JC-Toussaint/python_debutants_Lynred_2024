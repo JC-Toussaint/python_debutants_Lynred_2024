{
 "cells": [
  {
   "cell_type": "markdown",
   "metadata": {},
   "source": [
    "# Matplotlib - Maillage triangulaire 2D\n",
    "Que faire quand les noeuds n'échantillonnage ne sont pas sur une grille?"
   ]
  },
  {
   "cell_type": "markdown",
   "metadata": {},
   "source": [
    "## triangulation\n",
    "On désire tracer le maillage obtenu par triangulation d\\'un ensemble\n",
    "de points répartis aléatoirement dans le plan (x,y)"
   ]
  },
  {
   "cell_type": "code",
   "execution_count": null,
   "metadata": {},
   "outputs": [],
   "source": [
    "%matplotlib inline\n",
    "import numpy as np\n",
    "import matplotlib.pyplot as plt \n",
    "import matplotlib.tri as tri\n",
    "    \n",
    "N=20\n",
    "np.random.seed(123)\n",
    "x=np.random.rand(N)\n",
    "y=np.random.rand(N)\n",
    "\n",
    "triang = tri.Triangulation(x, y)\n",
    "plt.figure(figsize=(5, 5))\n",
    "plt.triplot(triang, lw=0.5, color='black')\n",
    "plt.plot(x, y, 'o')\n",
    "for i in range(N):\n",
    "    plt.text(x[i], y[i], str(i))"
   ]
  },
  {
   "cell_type": "markdown",
   "metadata": {},
   "source": [
    "## Isovaleurs\n",
    "On désire tracer les isovaleurs d'une fonction échantillonnée aux noeuds d'un maillage triangulaire"
   ]
  },
  {
   "cell_type": "code",
   "execution_count": null,
   "metadata": {},
   "outputs": [],
   "source": [
    "import matplotlib\n",
    "\n",
    "plt.figure()\n",
    "plt.gca().set_aspect('equal')\n",
    "plt.triplot(triang, lw=0.5, color='white')\n",
    "\n",
    "z=x*x+y*y\n",
    "\n",
    "levels = np.arange(0., 1., 0.025)\n",
    "cmap = matplotlib.colormaps['jet']\n",
    "cset =plt.tricontourf(triang, z, levels=levels, cmap=cmap)\n",
    "plt.colorbar()\n",
    "plt.tricontour(triang, z, levels=levels,\n",
    "               colors=['0.5', '0.5', '0.5', '0.5', '0.5'],\n",
    "               linewidths=[1.0, 0.5, 0.5, 0.5, 0.5])\n",
    "\n",
    "plt.title(\"contour\")\n",
    "\n",
    "plt.show()"
   ]
  }
 ],
 "metadata": {
  "anaconda-cloud": {},
  "kernelspec": {
   "display_name": "Python 3 (ipykernel)",
   "language": "python",
   "name": "python3"
  },
  "language_info": {
   "codemirror_mode": {
    "name": "ipython",
    "version": 3
   },
   "file_extension": ".py",
   "mimetype": "text/x-python",
   "name": "python",
   "nbconvert_exporter": "python",
   "pygments_lexer": "ipython3",
   "version": "3.11.7"
  }
 },
 "nbformat": 4,
 "nbformat_minor": 1
}
