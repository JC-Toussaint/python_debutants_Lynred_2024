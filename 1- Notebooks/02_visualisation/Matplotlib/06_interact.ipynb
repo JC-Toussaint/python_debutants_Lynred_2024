{
 "cells": [
  {
   "cell_type": "markdown",
   "metadata": {},
   "source": [
    "## Module ipywidgets\n",
    "Le module ipywidgets permet de  produire une  interface homme-machine simplifiée.\n",
    "On donne un exemple ci-dessous de l'utilisation  d'un slider.\n"
   ]
  },
  {
   "cell_type": "code",
   "execution_count": 9,
   "metadata": {},
   "outputs": [],
   "source": [
    "%matplotlib inline\n",
    "\n",
    "import matplotlib.pyplot as plt\n",
    "import numpy as np\n",
    "from ipywidgets import interact\n",
    "\n",
    "def f(a, color):\n",
    "    x = np.linspace(-a, a, 200)\n",
    "    y=np.sin(np.pi*x)/(np.pi*x)\n",
    "    plt.title('Sinus Cardinal')\n",
    "    plt.grid()\n",
    "    plt.plot(x, y, color = color)"
   ]
  },
  {
   "cell_type": "code",
   "execution_count": 10,
   "metadata": {},
   "outputs": [
    {
     "data": {
      "application/vnd.jupyter.widget-view+json": {
       "model_id": "90bdb56ddd624b85979816bca969f3ea",
       "version_major": 2,
       "version_minor": 0
      },
      "text/plain": [
       "interactive(children=(IntSlider(value=10, description='a', max=20), Dropdown(description='color', options=('re…"
      ]
     },
     "metadata": {},
     "output_type": "display_data"
    },
    {
     "data": {
      "text/plain": [
       "<function __main__.f(a, color)>"
      ]
     },
     "execution_count": 10,
     "metadata": {},
     "output_type": "execute_result"
    }
   ],
   "source": [
    "interact(f, a=(0, 20), color=['red', 'blue', 'orange'])\n",
    "\n"
   ]
  },
  {
   "cell_type": "code",
   "execution_count": 12,
   "metadata": {},
   "outputs": [
    {
     "data": {
      "application/vnd.jupyter.widget-view+json": {
       "model_id": "809d2ec89c32485c8220607d32a1e9bd",
       "version_major": 2,
       "version_minor": 0
      },
      "text/plain": [
       "interactive(children=(IntSlider(value=0, description='k', max=99), Output()), _dom_classes=('widget-interact',…"
      ]
     },
     "metadata": {},
     "output_type": "display_data"
    },
    {
     "data": {
      "application/vnd.jupyter.widget-view+json": {
       "model_id": "870ac9cd9fc74a1898de337534470470",
       "version_major": 2,
       "version_minor": 0
      },
      "text/plain": [
       "Label(value='t=+0.00000 G=+0.00000)', description='value :')"
      ]
     },
     "metadata": {},
     "output_type": "display_data"
    }
   ],
   "source": [
    "%matplotlib inline\n",
    "\n",
    "import numpy as np\n",
    "import matplotlib.pyplot as plt\n",
    "\n",
    "from IPython.display import display\n",
    "import ipywidgets as ipyw\n",
    "\n",
    "def kern(t, T):\n",
    "    return np.sin(2*np.pi*t/T)\n",
    "\n",
    "def draw(k=0):\n",
    "\n",
    "    fig =plt.figure()\n",
    "    ax = fig.add_subplot(111)\n",
    "    fig.subplots_adjust(top=0.85)\n",
    "    ax.set_title('G')\n",
    "    plt.plot(t, G, 'r.')\n",
    "    plt.grid(True)\n",
    "    \n",
    "    hline = ax.axhline(1, color='k')\n",
    "    vline = ax.axvline(1, color='k')\n",
    "    \n",
    "    absci=t[k]\n",
    "    value=G[k].real\n",
    "    hline.set_ydata((value, value))\n",
    "    vline.set_xdata((absci, absci))\n",
    "    \n",
    "    l.value='t={:+8.5f} G={:+8.5f})'.format(absci, value)\n",
    "\n",
    "    plt.grid(True)\n",
    "    plt.draw()\n",
    "\n",
    "T=1\n",
    "t=np.linspace(0, T, 100, endpoint=False)\n",
    "G=kern(t, T)\n",
    "    \n",
    "k_slider = ipyw.IntSlider(min=0, max=len(t)-1, step=1, value=0)\n",
    "w=ipyw.interactive(draw, k=k_slider)\n",
    "l=ipyw.Label( value='', description='value :', disabled=False)\n",
    "    \n",
    "display(w, l)"
   ]
  },
  {
   "cell_type": "code",
   "execution_count": null,
   "metadata": {
    "collapsed": true
   },
   "outputs": [],
   "source": []
  }
 ],
 "metadata": {
  "anaconda-cloud": {},
  "kernelspec": {
   "display_name": "Python 3 (ipykernel)",
   "language": "python",
   "name": "python3"
  },
  "language_info": {
   "codemirror_mode": {
    "name": "ipython",
    "version": 3
   },
   "file_extension": ".py",
   "mimetype": "text/x-python",
   "name": "python",
   "nbconvert_exporter": "python",
   "pygments_lexer": "ipython3",
   "version": "3.9.7"
  },
  "widgets": {
   "state": {
    "007a0d91eaef4c699a77a8713f453776": {
     "views": [
      {
       "cell_index": 3
      }
     ]
    },
    "4ec95d1334d74f5b9340e33075bbc569": {
     "views": [
      {
       "cell_index": 3
      }
     ]
    },
    "605f3c7421c94b66a55248bb3cf1e6fb": {
     "views": [
      {
       "cell_index": 3
      }
     ]
    },
    "a1286c0b1d0e489b8ffef6cc17d86bc3": {
     "views": [
      {
       "cell_index": 3
      }
     ]
    },
    "be992c1e1faa472aba61c9c73718d00c": {
     "views": [
      {
       "cell_index": 3
      }
     ]
    },
    "d3241d79722544ba8dec1a3ba0e6917c": {
     "views": [
      {
       "cell_index": 3
      }
     ]
    },
    "d3d6836f7fb7414d96dc388a86fb43dc": {
     "views": [
      {
       "cell_index": 3
      }
     ]
    },
    "e3f61cf46e3c4a3c94dedd3a8bb16a80": {
     "views": [
      {
       "cell_index": 3
      }
     ]
    }
   },
   "version": "1.2.0"
  }
 },
 "nbformat": 4,
 "nbformat_minor": 1
}
