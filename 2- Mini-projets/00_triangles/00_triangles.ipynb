{
 "cells": [
  {
   "cell_type": "markdown",
   "metadata": {},
   "source": [
    "# Miniprojet \"Triangles\"\n",
    "On s’intéresse dans ce miniprojet à déterminer les propriétés de triangles. Ces derniers seront définis par la longueur de leurs côtés. Pour simplifier, on n’envisagera que le cas où ces longueurs sont des valeurs entières. Les trois entiers décrivant le triangle seront assemblés dans un tuple (a,b,c)."
   ]
  },
  {
   "cell_type": "markdown",
   "metadata": {},
   "source": [
    "1- Créez une fonction ‘triangle_utilisateur()’, qui permet de demander à l’utilisateur les 3 entiers décrivant le triangle. \n",
    "- La fonction ne possède pas de paramètre d’entrée.\n",
    "- Récupérer grâce à un ou plusieurs appels à la fonction input() les 3 longueurs des cotés du triangle.\n",
    "- Assembler ces valeurs dans un tuple. Votre fonction retournera ce tuple."
   ]
  },
  {
   "cell_type": "code",
   "execution_count": null,
   "metadata": {},
   "outputs": [],
   "source": [
    "# question 1\n"
   ]
  },
  {
   "cell_type": "markdown",
   "metadata": {},
   "source": [
    "2- On vous donne le code de la fonction ‘est_triangle(t)’ \n",
    "- Cette fonction prend en paramètre un tuple de 3 entiers décrivant le triangle\n",
    "- La fonction renvoie True si on peut créer un triangle à partir des 3 longueurs contenues dans le tuple ‘t’ et False sinon."
   ]
  },
  {
   "cell_type": "code",
   "execution_count": null,
   "metadata": {},
   "outputs": [],
   "source": [
    "# question 2\n",
    "def est_triangle(t):\n",
    "    cotes = sorted(list(t))\n",
    "    return cotes[0] + cotes[1] > cotes[2]"
   ]
  },
  {
   "cell_type": "markdown",
   "metadata": {},
   "source": [
    "3- Dans le même esprit que la question 2, créer une fonction ‘est_rectangle(t)’ permettant de vérifier si un triangle est un triangle rectangle. Créer deux autres fonctions sur le même modèle pour vérifier si un triangle est isocèle puis s’il est équilatéral."
   ]
  },
  {
   "cell_type": "code",
   "execution_count": null,
   "metadata": {},
   "outputs": [],
   "source": [
    "# question 3 rectangle\n",
    "\n",
    "\n",
    "# test\n",
    "t1 = (1,1,5)\n",
    "t2 = (5,3,4)\n",
    "print(\"t1 est rectangle ? =>\", est_rectangle(t1))\n",
    "print(\"t2 est rectangle ? =>\", est_rectangle(t2))"
   ]
  },
  {
   "cell_type": "code",
   "execution_count": null,
   "metadata": {},
   "outputs": [],
   "source": [
    "# question 3 isocele\n",
    "\n",
    "\n",
    "# test\n",
    "t1 = (1,4,5)\n",
    "t2 = (5,4,4)\n",
    "print(\"t1 est isocele ? =>\", est_isocele(t1))\n",
    "print(\"t2 est isocele ? =>\", est_isocele(t2))"
   ]
  },
  {
   "cell_type": "code",
   "execution_count": null,
   "metadata": {},
   "outputs": [],
   "source": [
    "# question 3 equilateral\n",
    "\n",
    "\n",
    "# test\n",
    "t1 = (1,4,5)\n",
    "t2 = (4,4,4)\n",
    "print(\"t1 est equilateral ? =>\", est_equilateral(t1))\n",
    "print(\"t2 est equilateral ? =>\", est_equilateral(t2))"
   ]
  },
  {
   "cell_type": "markdown",
   "metadata": {},
   "source": [
    "4- On veut à présent écrire une fonction ‘analyse_triangle(t)’, qui renvoie un dictionnaire donnant toutes les informations sur le triangle. \n",
    "- Ce dictionnaire aura des clés de type str décrivant le paramètre, comme par exemple \"isocèle\". Ses valeurs seront True ou False.\n",
    "- Par exemple, si les 3 dimensions passées dans le paramètre t forment un triangle rectangle isocèle, la fonction ‘analyse_triangle(t)’ renverra le dictionnaire suivant :\n",
    "{‘triangle’ :True, ‘rectangle’ :True, ‘isocèle’:True, ‘équilatéral’ :False}"
   ]
  },
  {
   "cell_type": "code",
   "execution_count": null,
   "metadata": {},
   "outputs": [],
   "source": [
    "# question 4\n",
    "\n",
    "print(analyse_triangle((3,4,5))) "
   ]
  },
  {
   "cell_type": "markdown",
   "metadata": {},
   "source": [
    "5- Testez la fonction produite à la question 5 sur quelques exemples"
   ]
  },
  {
   "cell_type": "code",
   "execution_count": null,
   "metadata": {},
   "outputs": [],
   "source": [
    "# question 5\n",
    "print(analyse_triangle((3,4,5))) \n",
    "print(analyse_triangle((3,4,3))) \n",
    "print(analyse_triangle((3,3,3))) \n",
    "print(analyse_triangle((3,3,13))) "
   ]
  },
  {
   "cell_type": "markdown",
   "metadata": {},
   "source": [
    "6- Ecrivez une fonction ‘perimetre(t)’, qui retourne le périmètre du triangle"
   ]
  },
  {
   "cell_type": "code",
   "execution_count": null,
   "metadata": {},
   "outputs": [],
   "source": [
    "# question 6\n"
   ]
  },
  {
   "cell_type": "markdown",
   "metadata": {},
   "source": [
    "7- Ecrivez une fonction surface(t)’, qui retourne la surface du triangle.\n",
    "\n",
    "Note : la surface d’un triangle peut se calculer selon : $S=\\sqrt{d(d-a)(d-b)(d-c)}$, où a,b,c sont les cotés du triangle et d est le demi-périmètre."
   ]
  },
  {
   "cell_type": "code",
   "execution_count": null,
   "metadata": {},
   "outputs": [],
   "source": [
    "# question 7\n",
    "from math import sqrt\n",
    "\n",
    "\n",
    "print(surface((3,4,4)))"
   ]
  }
 ],
 "metadata": {
  "kernelspec": {
   "display_name": "Python 3.9.13 ('base')",
   "language": "python",
   "name": "python3"
  },
  "language_info": {
   "codemirror_mode": {
    "name": "ipython",
    "version": 3
   },
   "file_extension": ".py",
   "mimetype": "text/x-python",
   "name": "python",
   "nbconvert_exporter": "python",
   "pygments_lexer": "ipython3",
   "version": "3.9.16"
  },
  "orig_nbformat": 4,
  "vscode": {
   "interpreter": {
    "hash": "fde26f485a75bcfd4ac0c088bf6d368999ecee0094b87ce2c613b08cd3964405"
   }
  }
 },
 "nbformat": 4,
 "nbformat_minor": 2
}
