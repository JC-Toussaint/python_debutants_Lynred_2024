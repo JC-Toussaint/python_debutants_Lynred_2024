{
 "cells": [
  {
   "cell_type": "markdown",
   "metadata": {},
   "source": [
    "# Miniprojet \"Triangles\" - Version objet\n",
    "On s’intéresse dans ce miniprojet à déterminer les propriétés de triangles, mais en utilisant une approche objet.\n",
    "\n",
    "Comme dans le premier miniprojet, les triangles seront définis par la longueur de leurs côtés et on supposera que ces longueurs sont des valeurs entières.\n",
    "\n",
    "Les trois entiers décrivant le triangle ainsi que les différentes fonctions associées seront assemblés dans un objet `Triangle`."
   ]
  },
  {
   "cell_type": "markdown",
   "metadata": {},
   "source": [
    "1- Créez la classe Triangle ainsi que la fonction \\__init__ permettant d'instancier des `Triangle`s. \n",
    "\n",
    "- les longueurs des cotés seront nommées a,b et c.\n",
    "- Faites en sorte que a soit forcément le plus grand coté et c le plus petit, quelque soient les paramètres entrés par l'utilisateur\n",
    "- testez votre classe en instanciant quelques `Triangle`s."
   ]
  },
  {
   "cell_type": "code",
   "execution_count": null,
   "metadata": {},
   "outputs": [],
   "source": [
    "# question 1\n",
    "\n",
    "\n",
    "t1 = Triangle (2,4,3)\n",
    "print(t1.a, t1.b, t1.c)"
   ]
  },
  {
   "cell_type": "code",
   "execution_count": null,
   "metadata": {},
   "outputs": [],
   "source": [
    "help(sorted)"
   ]
  },
  {
   "cell_type": "markdown",
   "metadata": {},
   "source": [
    "2- On vous rappelle le code de la fonction ‘est_triangle(t)’ de la version initiale du projet.\n",
    "\n",
    "- Adaptez cette fonctionnalité pour en faire une méthode de votre classe `Triangle`.\n",
    "- Intégrez cette fonction à l'initialisation. L'objectif est qu'il soit impossible de créer une objet `Triangle` qui n'ait pas les propriétés d'un triangle.\n"
   ]
  },
  {
   "cell_type": "code",
   "execution_count": null,
   "metadata": {},
   "outputs": [],
   "source": [
    "# question 2\n",
    "\n",
    "## version initiale de la fonction est_triangle\n",
    "# def est_triangle(t):\n",
    "#     cotes = sorted(list(t))\n",
    "#     return cotes[0] + cotes[1] > cotes[2]\n",
    "\n",
    "t1 = Triangle (2,4,3)\n",
    "print(t1.a, t1.b, t1.c)\n",
    "t1 = Triangle (2,6,3)\n",
    "print(t1.a, t1.b, t1.c)"
   ]
  },
  {
   "cell_type": "markdown",
   "metadata": {},
   "source": [
    "3- Recopiez votre classe Triangle et ajoutez-y les méthodes suivantes, qui permettent de vérifier les propriétés du triangle, en tant que méthode de la classe `Triangle`. Ces fonctions retourneront un booléen.\n",
    "\n",
    "- 'est_rectangle()' permettant de vérifier si un triangle est un triangle rectangle\n",
    "- 'est_isocèle()' pour vérifier si le triangle est isocèle\n",
    "- 'est_equilateral()' pour vérifier si le triangle est équilatéral"
   ]
  },
  {
   "cell_type": "code",
   "execution_count": null,
   "metadata": {},
   "outputs": [],
   "source": [
    "# question 3\n",
    "\n",
    "\n",
    "t1 = Triangle (2,4,3)\n",
    "print(t1.est_rectangle(), t1.est_isocele(), t1.est_equilateral())\n",
    "t1 = Triangle (5,4,3)\n",
    "print(t1.est_rectangle(), t1.est_isocele(), t1.est_equilateral())\n",
    "t1 = Triangle (2,6,6)\n",
    "print(t1.est_rectangle(), t1.est_isocele(), t1.est_equilateral())\n",
    "t1 = Triangle (4,4,4)\n",
    "print(t1.est_rectangle(), t1.est_isocele(), t1.est_equilateral())"
   ]
  },
  {
   "cell_type": "markdown",
   "metadata": {},
   "source": [
    "4- On veut à présent écrire une méthode donnant toutes les informations sur le triangle. \n",
    "- La fonction retournera une chaine de caractères. (la fonction en elle-même n'imprime rien dans la console)\n",
    "- la chaine de caractère retournée sera de la forme 'Triangle dont les cotés sont de dimensions (8,6,6). Ce triangle est isocèle et équilatéral.'\n",
    "- la méthode sera nommée \\__str__. Cherchez par vous-même ou auprès de l'enseignant la raison de ce choix de nom de méthode."
   ]
  },
  {
   "cell_type": "code",
   "execution_count": null,
   "metadata": {},
   "outputs": [],
   "source": []
  },
  {
   "cell_type": "markdown",
   "metadata": {},
   "source": [
    "5- Testez la méthode produite à la question précédente sur quelques exemples"
   ]
  },
  {
   "cell_type": "code",
   "execution_count": null,
   "metadata": {},
   "outputs": [],
   "source": [
    "# question 5\n",
    "t1 = Triangle (2,4,3)\n",
    "print(t1)\n",
    "t1 = Triangle (5,4,3)\n",
    "print(t1)\n",
    "t1 = Triangle (2,6,6)\n",
    "print(t1)\n",
    "t1 = Triangle (4,4,4)\n",
    "print(t1)"
   ]
  },
  {
   "cell_type": "markdown",
   "metadata": {},
   "source": [
    "6- Ecrivez les méthodes perimetre() et surface() qui retournent respectivement le périmètre et la surface du triangle.\n",
    "\n",
    "Note : la surface d’un triangle peut se calculer selon : $S=\\sqrt{d(d-a)(d-b)(d-c)}$, où a,b,c sont les cotés du triangle et d est le demi-périmètre."
   ]
  },
  {
   "cell_type": "code",
   "execution_count": null,
   "metadata": {},
   "outputs": [],
   "source": [
    "# question 6\n",
    "from math import sqrt\n",
    "\n",
    "    \n",
    "t1 = Triangle (2,4,3)\n",
    "print(t1.surface())    "
   ]
  },
  {
   "cell_type": "markdown",
   "metadata": {},
   "source": [
    "7- On souhaite pour finir protéger les propriétés (a,b,c) du triangle.\n",
    "\n",
    "En effet, il est pour l'instant possible de créer un triangle puis de modifier l'un des cotés, ce qui rend ce triangle potentiellement erroné (par exemple, le calcul de la surface peut devenir invalide (racine d'un nombre négatif)). De plus, si l'utilisateur modifie l'un des cotés, l'ordre a>b>c ne sera plus assuré. De ce fait les méthodes telles que 'est_rectangle' ne fonctionneront plus correctement.\n",
    "\n",
    "Pour remédier à ces problèmes, on peut remplacer a, b et c par des `@property`. Reprenez le code de votre classe Triangle et modifiez le pour sécuriser l'accès aux paramètres des cotés"
   ]
  },
  {
   "cell_type": "code",
   "execution_count": null,
   "metadata": {},
   "outputs": [],
   "source": [
    "# question 7 : exemple de code qui va poser problème\n",
    "\n",
    "## exemple 1 : apres modification, le triangle devrait être rectangle\n",
    "t1 = Triangle (3,4,1)\n",
    "print(t1)\n",
    "t1.c = 5\n",
    "print(t1)\n",
    "print('-'*40)\n",
    "\n",
    "## exemple 2 : la modification \"a=1\" devrait être interdite car cela rend le triangle invalide\n",
    "t1 = Triangle (2,4,5)\n",
    "print(t1.surface())\n",
    "t1.a = 1\n",
    "print(t1)\n",
    "print(t1.surface())"
   ]
  },
  {
   "cell_type": "code",
   "execution_count": null,
   "metadata": {},
   "outputs": [],
   "source": [
    "# question 7 : classe sécurisée\n",
    "from math import sqrt\n"
   ]
  },
  {
   "cell_type": "code",
   "execution_count": null,
   "metadata": {},
   "outputs": [],
   "source": [
    "# question 7 : vérification classe sécurisée\n",
    "\n",
    "## exemple 1 : apres modification, le triangle devrait être rectangle\n",
    "t1 = Triangle (3,4,1)\n",
    "print(t1)\n",
    "t1.c = 5\n",
    "print(t1)\n",
    "print('-'*40)\n",
    "\n",
    "## exemple 2 : la modification \"a=1\" devrait être interdite car cela rend le triangle invalide\n",
    "t1 = Triangle (2,4,5)\n",
    "print(t1.surface())\n",
    "t1.a = 1\n",
    "print(t1)\n",
    "print(t1.surface())"
   ]
  }
 ],
 "metadata": {
  "kernelspec": {
   "display_name": "Python 3.9.13 ('base')",
   "language": "python",
   "name": "python3"
  },
  "language_info": {
   "codemirror_mode": {
    "name": "ipython",
    "version": 3
   },
   "file_extension": ".py",
   "mimetype": "text/x-python",
   "name": "python",
   "nbconvert_exporter": "python",
   "pygments_lexer": "ipython3",
   "version": "3.11.7"
  },
  "orig_nbformat": 4,
  "vscode": {
   "interpreter": {
    "hash": "fde26f485a75bcfd4ac0c088bf6d368999ecee0094b87ce2c613b08cd3964405"
   }
  }
 },
 "nbformat": 4,
 "nbformat_minor": 2
}
